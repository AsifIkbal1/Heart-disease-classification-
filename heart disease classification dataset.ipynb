{
 "cells": [
  {
   "cell_type": "code",
   "execution_count": 108,
   "metadata": {},
   "outputs": [],
   "source": [
    "import pandas as pd\n",
    "from pandas.plotting import scatter_matrix\n",
    "import matplotlib.pyplot as plt\n",
    "from sklearn import model_selection\n",
    "from sklearn.metrics import classification_report\n",
    "from sklearn.metrics import confusion_matrix\n",
    "from sklearn.metrics import accuracy_score\n",
    "from sklearn.linear_model import LogisticRegression\n",
    "from sklearn.tree import DecisionTreeClassifier\n",
    "from sklearn.neighbors import KNeighborsClassifier\n",
    "from sklearn.discriminant_analysis import LinearDiscriminantAnalysis\n",
    "from sklearn.naive_bayes import GaussianNB\n",
    "from sklearn.svm import SVC\n",
    "from sklearn.model_selection import train_test_split\n",
    "from sklearn.linear_model import LinearRegression\n",
    "from sklearn.linear_model import LogisticRegression\n",
    "import numpy as np\n",
    "import pandas as pd\n",
    "from sklearn.preprocessing import StandardScaler\n",
    "from sklearn.metrics import f1_score\n",
    "from sklearn.metrics import accuracy_score\n",
    "%matplotlib inline\n",
    "import seaborn as sns\n",
    "import pandas as pd\n",
    "from sklearn.naive_bayes import GaussianNB\n",
    "from sklearn.model_selection import train_test_split\n",
    "from sklearn.preprocessing import LabelEncoder"
   ]
  },
  {
   "cell_type": "code",
   "execution_count": 109,
   "metadata": {},
   "outputs": [
    {
     "data": {
      "text/html": [
       "<div>\n",
       "<style scoped>\n",
       "    .dataframe tbody tr th:only-of-type {\n",
       "        vertical-align: middle;\n",
       "    }\n",
       "\n",
       "    .dataframe tbody tr th {\n",
       "        vertical-align: top;\n",
       "    }\n",
       "\n",
       "    .dataframe thead th {\n",
       "        text-align: right;\n",
       "    }\n",
       "</style>\n",
       "<table border=\"1\" class=\"dataframe\">\n",
       "  <thead>\n",
       "    <tr style=\"text-align: right;\">\n",
       "      <th></th>\n",
       "      <th>Unnamed: 0</th>\n",
       "      <th>age</th>\n",
       "      <th>sex</th>\n",
       "      <th>cp</th>\n",
       "      <th>trestbps</th>\n",
       "      <th>chol</th>\n",
       "      <th>fbs</th>\n",
       "      <th>restecg</th>\n",
       "      <th>thalach</th>\n",
       "      <th>exang</th>\n",
       "      <th>oldpeak</th>\n",
       "      <th>slope</th>\n",
       "      <th>ca</th>\n",
       "      <th>thal</th>\n",
       "      <th>target</th>\n",
       "    </tr>\n",
       "  </thead>\n",
       "  <tbody>\n",
       "    <tr>\n",
       "      <th>0</th>\n",
       "      <td>0</td>\n",
       "      <td>63</td>\n",
       "      <td>male</td>\n",
       "      <td>3</td>\n",
       "      <td>145.0</td>\n",
       "      <td>233.0</td>\n",
       "      <td>1</td>\n",
       "      <td>0</td>\n",
       "      <td>150.0</td>\n",
       "      <td>0</td>\n",
       "      <td>2.3</td>\n",
       "      <td>0</td>\n",
       "      <td>0</td>\n",
       "      <td>1</td>\n",
       "      <td>yes</td>\n",
       "    </tr>\n",
       "    <tr>\n",
       "      <th>1</th>\n",
       "      <td>1</td>\n",
       "      <td>37</td>\n",
       "      <td>male</td>\n",
       "      <td>2</td>\n",
       "      <td>130.0</td>\n",
       "      <td>250.0</td>\n",
       "      <td>0</td>\n",
       "      <td>1</td>\n",
       "      <td>187.0</td>\n",
       "      <td>0</td>\n",
       "      <td>3.5</td>\n",
       "      <td>0</td>\n",
       "      <td>0</td>\n",
       "      <td>2</td>\n",
       "      <td>yes</td>\n",
       "    </tr>\n",
       "    <tr>\n",
       "      <th>2</th>\n",
       "      <td>2</td>\n",
       "      <td>41</td>\n",
       "      <td>female</td>\n",
       "      <td>1</td>\n",
       "      <td>130.0</td>\n",
       "      <td>204.0</td>\n",
       "      <td>0</td>\n",
       "      <td>0</td>\n",
       "      <td>172.0</td>\n",
       "      <td>0</td>\n",
       "      <td>1.4</td>\n",
       "      <td>2</td>\n",
       "      <td>0</td>\n",
       "      <td>2</td>\n",
       "      <td>yes</td>\n",
       "    </tr>\n",
       "    <tr>\n",
       "      <th>3</th>\n",
       "      <td>3</td>\n",
       "      <td>56</td>\n",
       "      <td>male</td>\n",
       "      <td>1</td>\n",
       "      <td>120.0</td>\n",
       "      <td>236.0</td>\n",
       "      <td>0</td>\n",
       "      <td>1</td>\n",
       "      <td>178.0</td>\n",
       "      <td>0</td>\n",
       "      <td>0.8</td>\n",
       "      <td>2</td>\n",
       "      <td>0</td>\n",
       "      <td>2</td>\n",
       "      <td>yes</td>\n",
       "    </tr>\n",
       "    <tr>\n",
       "      <th>4</th>\n",
       "      <td>4</td>\n",
       "      <td>57</td>\n",
       "      <td>female</td>\n",
       "      <td>0</td>\n",
       "      <td>NaN</td>\n",
       "      <td>354.0</td>\n",
       "      <td>0</td>\n",
       "      <td>1</td>\n",
       "      <td>163.0</td>\n",
       "      <td>1</td>\n",
       "      <td>0.6</td>\n",
       "      <td>2</td>\n",
       "      <td>0</td>\n",
       "      <td>2</td>\n",
       "      <td>yes</td>\n",
       "    </tr>\n",
       "  </tbody>\n",
       "</table>\n",
       "</div>"
      ],
      "text/plain": [
       "   Unnamed: 0  age     sex  cp  trestbps   chol  fbs  restecg  thalach  exang  \\\n",
       "0           0   63    male   3     145.0  233.0    1        0    150.0      0   \n",
       "1           1   37    male   2     130.0  250.0    0        1    187.0      0   \n",
       "2           2   41  female   1     130.0  204.0    0        0    172.0      0   \n",
       "3           3   56    male   1     120.0  236.0    0        1    178.0      0   \n",
       "4           4   57  female   0       NaN  354.0    0        1    163.0      1   \n",
       "\n",
       "   oldpeak  slope  ca  thal target  \n",
       "0      2.3      0   0     1    yes  \n",
       "1      3.5      0   0     2    yes  \n",
       "2      1.4      2   0     2    yes  \n",
       "3      0.8      2   0     2    yes  \n",
       "4      0.6      2   0     2    yes  "
      ]
     },
     "execution_count": 109,
     "metadata": {},
     "output_type": "execute_result"
    }
   ],
   "source": [
    "df=pd.read_csv('file:///C:/Users/Md%20Asif%20Ikbal/Downloads/heart%20disease%20classification%20dataset.csv')\n",
    "df.head()"
   ]
  },
  {
   "cell_type": "code",
   "execution_count": 110,
   "metadata": {},
   "outputs": [
    {
     "data": {
      "text/plain": [
       "(303, 15)"
      ]
     },
     "execution_count": 110,
     "metadata": {},
     "output_type": "execute_result"
    }
   ],
   "source": [
    "df.shape"
   ]
  },
  {
   "cell_type": "code",
   "execution_count": 111,
   "metadata": {},
   "outputs": [
    {
     "data": {
      "text/plain": [
       "Unnamed: 0    0\n",
       "age           0\n",
       "sex           0\n",
       "cp            0\n",
       "trestbps      4\n",
       "chol          1\n",
       "fbs           0\n",
       "restecg       0\n",
       "thalach       5\n",
       "exang         0\n",
       "oldpeak       0\n",
       "slope         0\n",
       "ca            0\n",
       "thal          0\n",
       "target        0\n",
       "dtype: int64"
      ]
     },
     "execution_count": 111,
     "metadata": {},
     "output_type": "execute_result"
    }
   ],
   "source": [
    "df.isnull().sum()"
   ]
  },
  {
   "cell_type": "code",
   "execution_count": 112,
   "metadata": {},
   "outputs": [
    {
     "name": "stdout",
     "output_type": "stream",
     "text": [
      "<class 'pandas.core.frame.DataFrame'>\n",
      "RangeIndex: 303 entries, 0 to 302\n",
      "Data columns (total 15 columns):\n",
      " #   Column      Non-Null Count  Dtype  \n",
      "---  ------      --------------  -----  \n",
      " 0   Unnamed: 0  303 non-null    int64  \n",
      " 1   age         303 non-null    int64  \n",
      " 2   sex         303 non-null    object \n",
      " 3   cp          303 non-null    int64  \n",
      " 4   trestbps    299 non-null    float64\n",
      " 5   chol        302 non-null    float64\n",
      " 6   fbs         303 non-null    int64  \n",
      " 7   restecg     303 non-null    int64  \n",
      " 8   thalach     298 non-null    float64\n",
      " 9   exang       303 non-null    int64  \n",
      " 10  oldpeak     303 non-null    float64\n",
      " 11  slope       303 non-null    int64  \n",
      " 12  ca          303 non-null    int64  \n",
      " 13  thal        303 non-null    int64  \n",
      " 14  target      303 non-null    object \n",
      "dtypes: float64(4), int64(9), object(2)\n",
      "memory usage: 35.6+ KB\n"
     ]
    }
   ],
   "source": [
    "df.info()"
   ]
  },
  {
   "cell_type": "code",
   "execution_count": 113,
   "metadata": {},
   "outputs": [],
   "source": [
    "df=df.fillna(0)"
   ]
  },
  {
   "cell_type": "code",
   "execution_count": 114,
   "metadata": {},
   "outputs": [
    {
     "data": {
      "text/plain": [
       "Unnamed: 0      int64\n",
       "age             int64\n",
       "sex            object\n",
       "cp              int64\n",
       "trestbps      float64\n",
       "chol          float64\n",
       "fbs             int64\n",
       "restecg         int64\n",
       "thalach       float64\n",
       "exang           int64\n",
       "oldpeak       float64\n",
       "slope           int64\n",
       "ca              int64\n",
       "thal            int64\n",
       "target         object\n",
       "dtype: object"
      ]
     },
     "execution_count": 114,
     "metadata": {},
     "output_type": "execute_result"
    }
   ],
   "source": [
    "df.dtypes"
   ]
  },
  {
   "cell_type": "code",
   "execution_count": 115,
   "metadata": {},
   "outputs": [
    {
     "data": {
      "text/html": [
       "<div>\n",
       "<style scoped>\n",
       "    .dataframe tbody tr th:only-of-type {\n",
       "        vertical-align: middle;\n",
       "    }\n",
       "\n",
       "    .dataframe tbody tr th {\n",
       "        vertical-align: top;\n",
       "    }\n",
       "\n",
       "    .dataframe thead th {\n",
       "        text-align: right;\n",
       "    }\n",
       "</style>\n",
       "<table border=\"1\" class=\"dataframe\">\n",
       "  <thead>\n",
       "    <tr style=\"text-align: right;\">\n",
       "      <th></th>\n",
       "      <th>Unnamed: 0</th>\n",
       "      <th>age</th>\n",
       "      <th>cp</th>\n",
       "      <th>trestbps</th>\n",
       "      <th>chol</th>\n",
       "      <th>fbs</th>\n",
       "      <th>restecg</th>\n",
       "      <th>thalach</th>\n",
       "      <th>exang</th>\n",
       "      <th>oldpeak</th>\n",
       "      <th>slope</th>\n",
       "      <th>ca</th>\n",
       "      <th>thal</th>\n",
       "    </tr>\n",
       "  </thead>\n",
       "  <tbody>\n",
       "    <tr>\n",
       "      <th>count</th>\n",
       "      <td>303.000000</td>\n",
       "      <td>303.000000</td>\n",
       "      <td>303.000000</td>\n",
       "      <td>303.000000</td>\n",
       "      <td>303.000000</td>\n",
       "      <td>303.000000</td>\n",
       "      <td>303.000000</td>\n",
       "      <td>303.000000</td>\n",
       "      <td>303.000000</td>\n",
       "      <td>303.000000</td>\n",
       "      <td>303.000000</td>\n",
       "      <td>303.000000</td>\n",
       "      <td>303.000000</td>\n",
       "    </tr>\n",
       "    <tr>\n",
       "      <th>mean</th>\n",
       "      <td>151.000000</td>\n",
       "      <td>54.366337</td>\n",
       "      <td>0.966997</td>\n",
       "      <td>129.973597</td>\n",
       "      <td>245.504950</td>\n",
       "      <td>0.148515</td>\n",
       "      <td>0.528053</td>\n",
       "      <td>147.392739</td>\n",
       "      <td>0.326733</td>\n",
       "      <td>1.039604</td>\n",
       "      <td>1.399340</td>\n",
       "      <td>0.729373</td>\n",
       "      <td>2.313531</td>\n",
       "    </tr>\n",
       "    <tr>\n",
       "      <th>std</th>\n",
       "      <td>87.612784</td>\n",
       "      <td>9.082101</td>\n",
       "      <td>1.032052</td>\n",
       "      <td>23.095668</td>\n",
       "      <td>53.719524</td>\n",
       "      <td>0.356198</td>\n",
       "      <td>0.525860</td>\n",
       "      <td>29.434756</td>\n",
       "      <td>0.469794</td>\n",
       "      <td>1.161075</td>\n",
       "      <td>0.616226</td>\n",
       "      <td>1.022606</td>\n",
       "      <td>0.612277</td>\n",
       "    </tr>\n",
       "    <tr>\n",
       "      <th>min</th>\n",
       "      <td>0.000000</td>\n",
       "      <td>29.000000</td>\n",
       "      <td>0.000000</td>\n",
       "      <td>0.000000</td>\n",
       "      <td>0.000000</td>\n",
       "      <td>0.000000</td>\n",
       "      <td>0.000000</td>\n",
       "      <td>0.000000</td>\n",
       "      <td>0.000000</td>\n",
       "      <td>0.000000</td>\n",
       "      <td>0.000000</td>\n",
       "      <td>0.000000</td>\n",
       "      <td>0.000000</td>\n",
       "    </tr>\n",
       "    <tr>\n",
       "      <th>25%</th>\n",
       "      <td>75.500000</td>\n",
       "      <td>47.500000</td>\n",
       "      <td>0.000000</td>\n",
       "      <td>120.000000</td>\n",
       "      <td>211.000000</td>\n",
       "      <td>0.000000</td>\n",
       "      <td>0.000000</td>\n",
       "      <td>132.000000</td>\n",
       "      <td>0.000000</td>\n",
       "      <td>0.000000</td>\n",
       "      <td>1.000000</td>\n",
       "      <td>0.000000</td>\n",
       "      <td>2.000000</td>\n",
       "    </tr>\n",
       "    <tr>\n",
       "      <th>50%</th>\n",
       "      <td>151.000000</td>\n",
       "      <td>55.000000</td>\n",
       "      <td>1.000000</td>\n",
       "      <td>130.000000</td>\n",
       "      <td>240.000000</td>\n",
       "      <td>0.000000</td>\n",
       "      <td>1.000000</td>\n",
       "      <td>152.000000</td>\n",
       "      <td>0.000000</td>\n",
       "      <td>0.800000</td>\n",
       "      <td>1.000000</td>\n",
       "      <td>0.000000</td>\n",
       "      <td>2.000000</td>\n",
       "    </tr>\n",
       "    <tr>\n",
       "      <th>75%</th>\n",
       "      <td>226.500000</td>\n",
       "      <td>61.000000</td>\n",
       "      <td>2.000000</td>\n",
       "      <td>140.000000</td>\n",
       "      <td>274.500000</td>\n",
       "      <td>0.000000</td>\n",
       "      <td>1.000000</td>\n",
       "      <td>166.000000</td>\n",
       "      <td>1.000000</td>\n",
       "      <td>1.600000</td>\n",
       "      <td>2.000000</td>\n",
       "      <td>1.000000</td>\n",
       "      <td>3.000000</td>\n",
       "    </tr>\n",
       "    <tr>\n",
       "      <th>max</th>\n",
       "      <td>302.000000</td>\n",
       "      <td>77.000000</td>\n",
       "      <td>3.000000</td>\n",
       "      <td>200.000000</td>\n",
       "      <td>564.000000</td>\n",
       "      <td>1.000000</td>\n",
       "      <td>2.000000</td>\n",
       "      <td>202.000000</td>\n",
       "      <td>1.000000</td>\n",
       "      <td>6.200000</td>\n",
       "      <td>2.000000</td>\n",
       "      <td>4.000000</td>\n",
       "      <td>3.000000</td>\n",
       "    </tr>\n",
       "  </tbody>\n",
       "</table>\n",
       "</div>"
      ],
      "text/plain": [
       "       Unnamed: 0         age          cp    trestbps        chol         fbs  \\\n",
       "count  303.000000  303.000000  303.000000  303.000000  303.000000  303.000000   \n",
       "mean   151.000000   54.366337    0.966997  129.973597  245.504950    0.148515   \n",
       "std     87.612784    9.082101    1.032052   23.095668   53.719524    0.356198   \n",
       "min      0.000000   29.000000    0.000000    0.000000    0.000000    0.000000   \n",
       "25%     75.500000   47.500000    0.000000  120.000000  211.000000    0.000000   \n",
       "50%    151.000000   55.000000    1.000000  130.000000  240.000000    0.000000   \n",
       "75%    226.500000   61.000000    2.000000  140.000000  274.500000    0.000000   \n",
       "max    302.000000   77.000000    3.000000  200.000000  564.000000    1.000000   \n",
       "\n",
       "          restecg     thalach       exang     oldpeak       slope          ca  \\\n",
       "count  303.000000  303.000000  303.000000  303.000000  303.000000  303.000000   \n",
       "mean     0.528053  147.392739    0.326733    1.039604    1.399340    0.729373   \n",
       "std      0.525860   29.434756    0.469794    1.161075    0.616226    1.022606   \n",
       "min      0.000000    0.000000    0.000000    0.000000    0.000000    0.000000   \n",
       "25%      0.000000  132.000000    0.000000    0.000000    1.000000    0.000000   \n",
       "50%      1.000000  152.000000    0.000000    0.800000    1.000000    0.000000   \n",
       "75%      1.000000  166.000000    1.000000    1.600000    2.000000    1.000000   \n",
       "max      2.000000  202.000000    1.000000    6.200000    2.000000    4.000000   \n",
       "\n",
       "             thal  \n",
       "count  303.000000  \n",
       "mean     2.313531  \n",
       "std      0.612277  \n",
       "min      0.000000  \n",
       "25%      2.000000  \n",
       "50%      2.000000  \n",
       "75%      3.000000  \n",
       "max      3.000000  "
      ]
     },
     "execution_count": 115,
     "metadata": {},
     "output_type": "execute_result"
    }
   ],
   "source": [
    "df.describe()"
   ]
  },
  {
   "cell_type": "code",
   "execution_count": 116,
   "metadata": {},
   "outputs": [
    {
     "data": {
      "text/html": [
       "<div>\n",
       "<style scoped>\n",
       "    .dataframe tbody tr th:only-of-type {\n",
       "        vertical-align: middle;\n",
       "    }\n",
       "\n",
       "    .dataframe tbody tr th {\n",
       "        vertical-align: top;\n",
       "    }\n",
       "\n",
       "    .dataframe thead th {\n",
       "        text-align: right;\n",
       "    }\n",
       "</style>\n",
       "<table border=\"1\" class=\"dataframe\">\n",
       "  <thead>\n",
       "    <tr style=\"text-align: right;\">\n",
       "      <th></th>\n",
       "      <th>Unnamed: 0</th>\n",
       "      <th>age</th>\n",
       "      <th>cp</th>\n",
       "      <th>trestbps</th>\n",
       "      <th>chol</th>\n",
       "      <th>fbs</th>\n",
       "      <th>restecg</th>\n",
       "      <th>thalach</th>\n",
       "      <th>exang</th>\n",
       "      <th>oldpeak</th>\n",
       "      <th>slope</th>\n",
       "      <th>ca</th>\n",
       "      <th>thal</th>\n",
       "    </tr>\n",
       "  </thead>\n",
       "  <tbody>\n",
       "    <tr>\n",
       "      <th>Unnamed: 0</th>\n",
       "      <td>1.000000</td>\n",
       "      <td>0.660881</td>\n",
       "      <td>0.529958</td>\n",
       "      <td>0.891682</td>\n",
       "      <td>0.859008</td>\n",
       "      <td>0.524213</td>\n",
       "      <td>0.527249</td>\n",
       "      <td>0.893151</td>\n",
       "      <td>0.525193</td>\n",
       "      <td>0.535681</td>\n",
       "      <td>0.527514</td>\n",
       "      <td>0.530732</td>\n",
       "      <td>0.529919</td>\n",
       "    </tr>\n",
       "    <tr>\n",
       "      <th>age</th>\n",
       "      <td>0.660881</td>\n",
       "      <td>1.000000</td>\n",
       "      <td>0.976180</td>\n",
       "      <td>0.854618</td>\n",
       "      <td>0.349921</td>\n",
       "      <td>0.975165</td>\n",
       "      <td>0.975822</td>\n",
       "      <td>0.818708</td>\n",
       "      <td>0.975311</td>\n",
       "      <td>0.977254</td>\n",
       "      <td>0.976050</td>\n",
       "      <td>0.976253</td>\n",
       "      <td>0.976844</td>\n",
       "    </tr>\n",
       "    <tr>\n",
       "      <th>cp</th>\n",
       "      <td>0.529958</td>\n",
       "      <td>0.976180</td>\n",
       "      <td>1.000000</td>\n",
       "      <td>0.735896</td>\n",
       "      <td>0.165310</td>\n",
       "      <td>0.999974</td>\n",
       "      <td>0.999992</td>\n",
       "      <td>0.691504</td>\n",
       "      <td>0.999982</td>\n",
       "      <td>0.999941</td>\n",
       "      <td>0.999985</td>\n",
       "      <td>0.999982</td>\n",
       "      <td>0.999972</td>\n",
       "    </tr>\n",
       "    <tr>\n",
       "      <th>trestbps</th>\n",
       "      <td>0.891682</td>\n",
       "      <td>0.854618</td>\n",
       "      <td>0.735896</td>\n",
       "      <td>1.000000</td>\n",
       "      <td>0.752226</td>\n",
       "      <td>0.732507</td>\n",
       "      <td>0.734558</td>\n",
       "      <td>0.994213</td>\n",
       "      <td>0.732908</td>\n",
       "      <td>0.739653</td>\n",
       "      <td>0.735418</td>\n",
       "      <td>0.736309</td>\n",
       "      <td>0.738050</td>\n",
       "    </tr>\n",
       "    <tr>\n",
       "      <th>chol</th>\n",
       "      <td>0.859008</td>\n",
       "      <td>0.349921</td>\n",
       "      <td>0.165310</td>\n",
       "      <td>0.752226</td>\n",
       "      <td>1.000000</td>\n",
       "      <td>0.159965</td>\n",
       "      <td>0.162911</td>\n",
       "      <td>0.757045</td>\n",
       "      <td>0.160210</td>\n",
       "      <td>0.173446</td>\n",
       "      <td>0.163170</td>\n",
       "      <td>0.167449</td>\n",
       "      <td>0.166321</td>\n",
       "    </tr>\n",
       "    <tr>\n",
       "      <th>fbs</th>\n",
       "      <td>0.524213</td>\n",
       "      <td>0.975165</td>\n",
       "      <td>0.999974</td>\n",
       "      <td>0.732507</td>\n",
       "      <td>0.159965</td>\n",
       "      <td>1.000000</td>\n",
       "      <td>0.999991</td>\n",
       "      <td>0.687869</td>\n",
       "      <td>0.999995</td>\n",
       "      <td>0.999878</td>\n",
       "      <td>0.999984</td>\n",
       "      <td>0.999957</td>\n",
       "      <td>0.999955</td>\n",
       "    </tr>\n",
       "    <tr>\n",
       "      <th>restecg</th>\n",
       "      <td>0.527249</td>\n",
       "      <td>0.975822</td>\n",
       "      <td>0.999992</td>\n",
       "      <td>0.734558</td>\n",
       "      <td>0.162911</td>\n",
       "      <td>0.999991</td>\n",
       "      <td>1.000000</td>\n",
       "      <td>0.690123</td>\n",
       "      <td>0.999992</td>\n",
       "      <td>0.999912</td>\n",
       "      <td>0.999991</td>\n",
       "      <td>0.999969</td>\n",
       "      <td>0.999973</td>\n",
       "    </tr>\n",
       "    <tr>\n",
       "      <th>thalach</th>\n",
       "      <td>0.893151</td>\n",
       "      <td>0.818708</td>\n",
       "      <td>0.691504</td>\n",
       "      <td>0.994213</td>\n",
       "      <td>0.757045</td>\n",
       "      <td>0.687869</td>\n",
       "      <td>0.690123</td>\n",
       "      <td>1.000000</td>\n",
       "      <td>0.688468</td>\n",
       "      <td>0.694699</td>\n",
       "      <td>0.691231</td>\n",
       "      <td>0.691427</td>\n",
       "      <td>0.694119</td>\n",
       "    </tr>\n",
       "    <tr>\n",
       "      <th>exang</th>\n",
       "      <td>0.525193</td>\n",
       "      <td>0.975311</td>\n",
       "      <td>0.999982</td>\n",
       "      <td>0.732908</td>\n",
       "      <td>0.160210</td>\n",
       "      <td>0.999995</td>\n",
       "      <td>0.999992</td>\n",
       "      <td>0.688468</td>\n",
       "      <td>1.000000</td>\n",
       "      <td>0.999875</td>\n",
       "      <td>0.999992</td>\n",
       "      <td>0.999955</td>\n",
       "      <td>0.999967</td>\n",
       "    </tr>\n",
       "    <tr>\n",
       "      <th>oldpeak</th>\n",
       "      <td>0.535681</td>\n",
       "      <td>0.977254</td>\n",
       "      <td>0.999941</td>\n",
       "      <td>0.739653</td>\n",
       "      <td>0.173446</td>\n",
       "      <td>0.999878</td>\n",
       "      <td>0.999912</td>\n",
       "      <td>0.694699</td>\n",
       "      <td>0.999875</td>\n",
       "      <td>1.000000</td>\n",
       "      <td>0.999886</td>\n",
       "      <td>0.999977</td>\n",
       "      <td>0.999881</td>\n",
       "    </tr>\n",
       "    <tr>\n",
       "      <th>slope</th>\n",
       "      <td>0.527514</td>\n",
       "      <td>0.976050</td>\n",
       "      <td>0.999985</td>\n",
       "      <td>0.735418</td>\n",
       "      <td>0.163170</td>\n",
       "      <td>0.999984</td>\n",
       "      <td>0.999991</td>\n",
       "      <td>0.691231</td>\n",
       "      <td>0.999992</td>\n",
       "      <td>0.999886</td>\n",
       "      <td>1.000000</td>\n",
       "      <td>0.999954</td>\n",
       "      <td>0.999991</td>\n",
       "    </tr>\n",
       "    <tr>\n",
       "      <th>ca</th>\n",
       "      <td>0.530732</td>\n",
       "      <td>0.976253</td>\n",
       "      <td>0.999982</td>\n",
       "      <td>0.736309</td>\n",
       "      <td>0.167449</td>\n",
       "      <td>0.999957</td>\n",
       "      <td>0.999969</td>\n",
       "      <td>0.691427</td>\n",
       "      <td>0.999955</td>\n",
       "      <td>0.999977</td>\n",
       "      <td>0.999954</td>\n",
       "      <td>1.000000</td>\n",
       "      <td>0.999936</td>\n",
       "    </tr>\n",
       "    <tr>\n",
       "      <th>thal</th>\n",
       "      <td>0.529919</td>\n",
       "      <td>0.976844</td>\n",
       "      <td>0.999972</td>\n",
       "      <td>0.738050</td>\n",
       "      <td>0.166321</td>\n",
       "      <td>0.999955</td>\n",
       "      <td>0.999973</td>\n",
       "      <td>0.694119</td>\n",
       "      <td>0.999967</td>\n",
       "      <td>0.999881</td>\n",
       "      <td>0.999991</td>\n",
       "      <td>0.999936</td>\n",
       "      <td>1.000000</td>\n",
       "    </tr>\n",
       "  </tbody>\n",
       "</table>\n",
       "</div>"
      ],
      "text/plain": [
       "            Unnamed: 0       age        cp  trestbps      chol       fbs  \\\n",
       "Unnamed: 0    1.000000  0.660881  0.529958  0.891682  0.859008  0.524213   \n",
       "age           0.660881  1.000000  0.976180  0.854618  0.349921  0.975165   \n",
       "cp            0.529958  0.976180  1.000000  0.735896  0.165310  0.999974   \n",
       "trestbps      0.891682  0.854618  0.735896  1.000000  0.752226  0.732507   \n",
       "chol          0.859008  0.349921  0.165310  0.752226  1.000000  0.159965   \n",
       "fbs           0.524213  0.975165  0.999974  0.732507  0.159965  1.000000   \n",
       "restecg       0.527249  0.975822  0.999992  0.734558  0.162911  0.999991   \n",
       "thalach       0.893151  0.818708  0.691504  0.994213  0.757045  0.687869   \n",
       "exang         0.525193  0.975311  0.999982  0.732908  0.160210  0.999995   \n",
       "oldpeak       0.535681  0.977254  0.999941  0.739653  0.173446  0.999878   \n",
       "slope         0.527514  0.976050  0.999985  0.735418  0.163170  0.999984   \n",
       "ca            0.530732  0.976253  0.999982  0.736309  0.167449  0.999957   \n",
       "thal          0.529919  0.976844  0.999972  0.738050  0.166321  0.999955   \n",
       "\n",
       "             restecg   thalach     exang   oldpeak     slope        ca  \\\n",
       "Unnamed: 0  0.527249  0.893151  0.525193  0.535681  0.527514  0.530732   \n",
       "age         0.975822  0.818708  0.975311  0.977254  0.976050  0.976253   \n",
       "cp          0.999992  0.691504  0.999982  0.999941  0.999985  0.999982   \n",
       "trestbps    0.734558  0.994213  0.732908  0.739653  0.735418  0.736309   \n",
       "chol        0.162911  0.757045  0.160210  0.173446  0.163170  0.167449   \n",
       "fbs         0.999991  0.687869  0.999995  0.999878  0.999984  0.999957   \n",
       "restecg     1.000000  0.690123  0.999992  0.999912  0.999991  0.999969   \n",
       "thalach     0.690123  1.000000  0.688468  0.694699  0.691231  0.691427   \n",
       "exang       0.999992  0.688468  1.000000  0.999875  0.999992  0.999955   \n",
       "oldpeak     0.999912  0.694699  0.999875  1.000000  0.999886  0.999977   \n",
       "slope       0.999991  0.691231  0.999992  0.999886  1.000000  0.999954   \n",
       "ca          0.999969  0.691427  0.999955  0.999977  0.999954  1.000000   \n",
       "thal        0.999973  0.694119  0.999967  0.999881  0.999991  0.999936   \n",
       "\n",
       "                thal  \n",
       "Unnamed: 0  0.529919  \n",
       "age         0.976844  \n",
       "cp          0.999972  \n",
       "trestbps    0.738050  \n",
       "chol        0.166321  \n",
       "fbs         0.999955  \n",
       "restecg     0.999973  \n",
       "thalach     0.694119  \n",
       "exang       0.999967  \n",
       "oldpeak     0.999881  \n",
       "slope       0.999991  \n",
       "ca          0.999936  \n",
       "thal        1.000000  "
      ]
     },
     "execution_count": 116,
     "metadata": {},
     "output_type": "execute_result"
    }
   ],
   "source": [
    "df.describe().corr().T"
   ]
  },
  {
   "cell_type": "code",
   "execution_count": 117,
   "metadata": {},
   "outputs": [
    {
     "name": "stderr",
     "output_type": "stream",
     "text": [
      "C:\\Users\\Md Asif Ikbal\\anaconda3\\lib\\site-packages\\ipykernel_launcher.py:1: FutureWarning: Dropping of nuisance columns in DataFrame reductions (with 'numeric_only=None') is deprecated; in a future version this will raise TypeError.  Select only valid columns before calling the reduction.\n",
      "  \"\"\"Entry point for launching an IPython kernel.\n"
     ]
    },
    {
     "data": {
      "text/plain": [
       "Unnamed: 0    151.000000\n",
       "age            54.366337\n",
       "cp              0.966997\n",
       "trestbps      129.973597\n",
       "chol          245.504950\n",
       "fbs             0.148515\n",
       "restecg         0.528053\n",
       "thalach       147.392739\n",
       "exang           0.326733\n",
       "oldpeak         1.039604\n",
       "slope           1.399340\n",
       "ca              0.729373\n",
       "thal            2.313531\n",
       "dtype: float64"
      ]
     },
     "execution_count": 117,
     "metadata": {},
     "output_type": "execute_result"
    }
   ],
   "source": [
    "df.mean()"
   ]
  },
  {
   "cell_type": "code",
   "execution_count": 118,
   "metadata": {},
   "outputs": [
    {
     "data": {
      "text/plain": [
       "Unnamed: 0         0\n",
       "age               29\n",
       "sex           female\n",
       "cp                 0\n",
       "trestbps         0.0\n",
       "chol             0.0\n",
       "fbs                0\n",
       "restecg            0\n",
       "thalach          0.0\n",
       "exang              0\n",
       "oldpeak          0.0\n",
       "slope              0\n",
       "ca                 0\n",
       "thal               0\n",
       "target            no\n",
       "dtype: object"
      ]
     },
     "execution_count": 118,
     "metadata": {},
     "output_type": "execute_result"
    }
   ],
   "source": [
    "df.min()"
   ]
  },
  {
   "cell_type": "code",
   "execution_count": 119,
   "metadata": {},
   "outputs": [
    {
     "data": {
      "text/plain": [
       "Unnamed: 0      302\n",
       "age              77\n",
       "sex            male\n",
       "cp                3\n",
       "trestbps      200.0\n",
       "chol          564.0\n",
       "fbs               1\n",
       "restecg           2\n",
       "thalach       202.0\n",
       "exang             1\n",
       "oldpeak         6.2\n",
       "slope             2\n",
       "ca                4\n",
       "thal              3\n",
       "target          yes\n",
       "dtype: object"
      ]
     },
     "execution_count": 119,
     "metadata": {},
     "output_type": "execute_result"
    }
   ],
   "source": [
    "df.max()"
   ]
  },
  {
   "cell_type": "code",
   "execution_count": 120,
   "metadata": {},
   "outputs": [
    {
     "data": {
      "text/html": [
       "<div>\n",
       "<style scoped>\n",
       "    .dataframe tbody tr th:only-of-type {\n",
       "        vertical-align: middle;\n",
       "    }\n",
       "\n",
       "    .dataframe tbody tr th {\n",
       "        vertical-align: top;\n",
       "    }\n",
       "\n",
       "    .dataframe thead th {\n",
       "        text-align: right;\n",
       "    }\n",
       "</style>\n",
       "<table border=\"1\" class=\"dataframe\">\n",
       "  <thead>\n",
       "    <tr style=\"text-align: right;\">\n",
       "      <th></th>\n",
       "      <th>Unnamed: 0</th>\n",
       "      <th>age</th>\n",
       "      <th>sex</th>\n",
       "      <th>cp</th>\n",
       "      <th>trestbps</th>\n",
       "      <th>chol</th>\n",
       "      <th>fbs</th>\n",
       "      <th>restecg</th>\n",
       "      <th>thalach</th>\n",
       "      <th>exang</th>\n",
       "      <th>oldpeak</th>\n",
       "      <th>slope</th>\n",
       "      <th>ca</th>\n",
       "      <th>thal</th>\n",
       "      <th>target</th>\n",
       "    </tr>\n",
       "  </thead>\n",
       "  <tbody>\n",
       "    <tr>\n",
       "      <th>0</th>\n",
       "      <td>0</td>\n",
       "      <td>63</td>\n",
       "      <td>male</td>\n",
       "      <td>3</td>\n",
       "      <td>145.0</td>\n",
       "      <td>233.0</td>\n",
       "      <td>1</td>\n",
       "      <td>0</td>\n",
       "      <td>150.0</td>\n",
       "      <td>0</td>\n",
       "      <td>2.3</td>\n",
       "      <td>0</td>\n",
       "      <td>0</td>\n",
       "      <td>1</td>\n",
       "      <td>yes</td>\n",
       "    </tr>\n",
       "    <tr>\n",
       "      <th>1</th>\n",
       "      <td>1</td>\n",
       "      <td>37</td>\n",
       "      <td>male</td>\n",
       "      <td>2</td>\n",
       "      <td>130.0</td>\n",
       "      <td>250.0</td>\n",
       "      <td>0</td>\n",
       "      <td>1</td>\n",
       "      <td>187.0</td>\n",
       "      <td>0</td>\n",
       "      <td>3.5</td>\n",
       "      <td>0</td>\n",
       "      <td>0</td>\n",
       "      <td>2</td>\n",
       "      <td>yes</td>\n",
       "    </tr>\n",
       "  </tbody>\n",
       "</table>\n",
       "</div>"
      ],
      "text/plain": [
       "   Unnamed: 0  age   sex  cp  trestbps   chol  fbs  restecg  thalach  exang  \\\n",
       "0           0   63  male   3     145.0  233.0    1        0    150.0      0   \n",
       "1           1   37  male   2     130.0  250.0    0        1    187.0      0   \n",
       "\n",
       "   oldpeak  slope  ca  thal target  \n",
       "0      2.3      0   0     1    yes  \n",
       "1      3.5      0   0     2    yes  "
      ]
     },
     "execution_count": 120,
     "metadata": {},
     "output_type": "execute_result"
    }
   ],
   "source": [
    "df.head(2)"
   ]
  },
  {
   "cell_type": "code",
   "execution_count": 121,
   "metadata": {},
   "outputs": [],
   "source": [
    "le=LabelEncoder()"
   ]
  },
  {
   "cell_type": "code",
   "execution_count": 122,
   "metadata": {},
   "outputs": [],
   "source": [
    "df['target']=le.fit_transform(df['target'])"
   ]
  },
  {
   "cell_type": "code",
   "execution_count": 123,
   "metadata": {},
   "outputs": [],
   "source": [
    "df=df.drop(['Unnamed: 0'],axis='columns')"
   ]
  },
  {
   "cell_type": "code",
   "execution_count": 124,
   "metadata": {},
   "outputs": [
    {
     "data": {
      "text/html": [
       "<div>\n",
       "<style scoped>\n",
       "    .dataframe tbody tr th:only-of-type {\n",
       "        vertical-align: middle;\n",
       "    }\n",
       "\n",
       "    .dataframe tbody tr th {\n",
       "        vertical-align: top;\n",
       "    }\n",
       "\n",
       "    .dataframe thead th {\n",
       "        text-align: right;\n",
       "    }\n",
       "</style>\n",
       "<table border=\"1\" class=\"dataframe\">\n",
       "  <thead>\n",
       "    <tr style=\"text-align: right;\">\n",
       "      <th></th>\n",
       "      <th>age</th>\n",
       "      <th>sex</th>\n",
       "      <th>cp</th>\n",
       "      <th>trestbps</th>\n",
       "      <th>chol</th>\n",
       "      <th>fbs</th>\n",
       "      <th>restecg</th>\n",
       "      <th>thalach</th>\n",
       "      <th>exang</th>\n",
       "      <th>oldpeak</th>\n",
       "      <th>slope</th>\n",
       "      <th>ca</th>\n",
       "      <th>thal</th>\n",
       "      <th>target</th>\n",
       "    </tr>\n",
       "  </thead>\n",
       "  <tbody>\n",
       "    <tr>\n",
       "      <th>0</th>\n",
       "      <td>63</td>\n",
       "      <td>male</td>\n",
       "      <td>3</td>\n",
       "      <td>145.0</td>\n",
       "      <td>233.0</td>\n",
       "      <td>1</td>\n",
       "      <td>0</td>\n",
       "      <td>150.0</td>\n",
       "      <td>0</td>\n",
       "      <td>2.3</td>\n",
       "      <td>0</td>\n",
       "      <td>0</td>\n",
       "      <td>1</td>\n",
       "      <td>1</td>\n",
       "    </tr>\n",
       "    <tr>\n",
       "      <th>1</th>\n",
       "      <td>37</td>\n",
       "      <td>male</td>\n",
       "      <td>2</td>\n",
       "      <td>130.0</td>\n",
       "      <td>250.0</td>\n",
       "      <td>0</td>\n",
       "      <td>1</td>\n",
       "      <td>187.0</td>\n",
       "      <td>0</td>\n",
       "      <td>3.5</td>\n",
       "      <td>0</td>\n",
       "      <td>0</td>\n",
       "      <td>2</td>\n",
       "      <td>1</td>\n",
       "    </tr>\n",
       "  </tbody>\n",
       "</table>\n",
       "</div>"
      ],
      "text/plain": [
       "   age   sex  cp  trestbps   chol  fbs  restecg  thalach  exang  oldpeak  \\\n",
       "0   63  male   3     145.0  233.0    1        0    150.0      0      2.3   \n",
       "1   37  male   2     130.0  250.0    0        1    187.0      0      3.5   \n",
       "\n",
       "   slope  ca  thal  target  \n",
       "0      0   0     1       1  \n",
       "1      0   0     2       1  "
      ]
     },
     "execution_count": 124,
     "metadata": {},
     "output_type": "execute_result"
    }
   ],
   "source": [
    "df.head(2)"
   ]
  },
  {
   "cell_type": "code",
   "execution_count": 125,
   "metadata": {},
   "outputs": [],
   "source": [
    "x=df.drop(['sex'],axis='columns')"
   ]
  },
  {
   "cell_type": "code",
   "execution_count": 126,
   "metadata": {},
   "outputs": [],
   "source": [
    "y=df.sex.values"
   ]
  },
  {
   "cell_type": "code",
   "execution_count": 127,
   "metadata": {},
   "outputs": [],
   "source": [
    "xtrain,xtest,ytrain,ytest=train_test_split=train_test_split(x,y,test_size=0.3)"
   ]
  },
  {
   "cell_type": "code",
   "execution_count": 129,
   "metadata": {},
   "outputs": [
    {
     "name": "stderr",
     "output_type": "stream",
     "text": [
      "C:\\Users\\Md Asif Ikbal\\anaconda3\\lib\\site-packages\\sklearn\\linear_model\\_logistic.py:940: ConvergenceWarning: lbfgs failed to converge (status=1):\n",
      "STOP: TOTAL NO. of ITERATIONS REACHED LIMIT.\n",
      "\n",
      "Increase the number of iterations (max_iter) or scale the data as shown in:\n",
      "    https://scikit-learn.org/stable/modules/preprocessing.html\n",
      "Please also refer to the documentation for alternative solver options:\n",
      "    https://scikit-learn.org/stable/modules/linear_model.html#logistic-regression\n",
      "  extra_warning_msg=_LOGISTIC_SOLVER_CONVERGENCE_MSG)\n"
     ]
    },
    {
     "data": {
      "text/plain": [
       "71.42857142857143"
      ]
     },
     "execution_count": 129,
     "metadata": {},
     "output_type": "execute_result"
    }
   ],
   "source": [
    "li=LogisticRegression()\n",
    "li.fit(xtrain,ytrain)\n",
    "pred_li=li.predict(xtest)\n",
    "accu_li=accuracy_score(ytest,pred_li)*100\n",
    "accu_li"
   ]
  },
  {
   "cell_type": "code",
   "execution_count": 130,
   "metadata": {},
   "outputs": [
    {
     "name": "stdout",
     "output_type": "stream",
     "text": [
      "              precision    recall  f1-score   support\n",
      "\n",
      "      female       0.78      0.23      0.35        31\n",
      "        male       0.71      0.97      0.82        60\n",
      "\n",
      "    accuracy                           0.71        91\n",
      "   macro avg       0.74      0.60      0.58        91\n",
      "weighted avg       0.73      0.71      0.66        91\n",
      "\n"
     ]
    }
   ],
   "source": [
    "print(classification_report(ytest,pred_li))"
   ]
  },
  {
   "cell_type": "code",
   "execution_count": 131,
   "metadata": {},
   "outputs": [
    {
     "data": {
      "text/plain": [
       "76.92307692307693"
      ]
     },
     "execution_count": 131,
     "metadata": {},
     "output_type": "execute_result"
    }
   ],
   "source": [
    "tre=DecisionTreeClassifier()\n",
    "tre.fit(xtrain,ytrain)\n",
    "pred_tre=tre.predict(xtest)\n",
    "accu_tre=accuracy_score(ytest,pred_tre)*100\n",
    "accu_tre"
   ]
  },
  {
   "cell_type": "code",
   "execution_count": 133,
   "metadata": {},
   "outputs": [
    {
     "name": "stdout",
     "output_type": "stream",
     "text": [
      "              precision    recall  f1-score   support\n",
      "\n",
      "      female       0.71      0.55      0.62        31\n",
      "        male       0.79      0.88      0.83        60\n",
      "\n",
      "    accuracy                           0.77        91\n",
      "   macro avg       0.75      0.72      0.73        91\n",
      "weighted avg       0.76      0.77      0.76        91\n",
      "\n"
     ]
    }
   ],
   "source": [
    "print(classification_report(ytest,pred_tre))"
   ]
  },
  {
   "cell_type": "code",
   "execution_count": 134,
   "metadata": {},
   "outputs": [],
   "source": [
    "from sklearn.neighbors import KNeighborsClassifier"
   ]
  },
  {
   "cell_type": "code",
   "execution_count": 135,
   "metadata": {},
   "outputs": [
    {
     "data": {
      "text/plain": [
       "71.42857142857143"
      ]
     },
     "execution_count": 135,
     "metadata": {},
     "output_type": "execute_result"
    }
   ],
   "source": [
    "kne=KNeighborsClassifier()\n",
    "kne.fit(xtrain,ytrain)\n",
    "pred_kne=kne.predict(xtest)\n",
    "accu_kne=accuracy_score(ytest,pred_kne)*100\n",
    "accu_kne"
   ]
  },
  {
   "cell_type": "code",
   "execution_count": 136,
   "metadata": {},
   "outputs": [
    {
     "name": "stdout",
     "output_type": "stream",
     "text": [
      "              precision    recall  f1-score   support\n",
      "\n",
      "      female       0.67      0.32      0.43        31\n",
      "        male       0.72      0.92      0.81        60\n",
      "\n",
      "    accuracy                           0.71        91\n",
      "   macro avg       0.70      0.62      0.62        91\n",
      "weighted avg       0.70      0.71      0.68        91\n",
      "\n"
     ]
    }
   ],
   "source": [
    "print(classification_report(ytest,pred_kne))"
   ]
  },
  {
   "cell_type": "code",
   "execution_count": 137,
   "metadata": {},
   "outputs": [],
   "source": [
    "from sklearn.ensemble import AdaBoostClassifier"
   ]
  },
  {
   "cell_type": "code",
   "execution_count": 139,
   "metadata": {},
   "outputs": [
    {
     "data": {
      "text/plain": [
       "74.72527472527473"
      ]
     },
     "execution_count": 139,
     "metadata": {},
     "output_type": "execute_result"
    }
   ],
   "source": [
    "ada=AdaBoostClassifier()\n",
    "ada.fit(xtrain,ytrain)\n",
    "pred_ada=ada.predict(xtest)\n",
    "accu_ada=accuracy_score(ytest,pred_ada)*100\n",
    "accu_ada"
   ]
  },
  {
   "cell_type": "code",
   "execution_count": 140,
   "metadata": {},
   "outputs": [
    {
     "name": "stdout",
     "output_type": "stream",
     "text": [
      "              precision    recall  f1-score   support\n",
      "\n",
      "      female       0.70      0.45      0.55        31\n",
      "        male       0.76      0.90      0.82        60\n",
      "\n",
      "    accuracy                           0.75        91\n",
      "   macro avg       0.73      0.68      0.69        91\n",
      "weighted avg       0.74      0.75      0.73        91\n",
      "\n"
     ]
    }
   ],
   "source": [
    "print(classification_report(ytest,pred_ada))"
   ]
  },
  {
   "cell_type": "code",
   "execution_count": 141,
   "metadata": {},
   "outputs": [],
   "source": [
    "from sklearn.ensemble import BaggingClassifier"
   ]
  },
  {
   "cell_type": "code",
   "execution_count": 142,
   "metadata": {},
   "outputs": [
    {
     "data": {
      "text/plain": [
       "79.12087912087912"
      ]
     },
     "execution_count": 142,
     "metadata": {},
     "output_type": "execute_result"
    }
   ],
   "source": [
    "bag=BaggingClassifier()\n",
    "bag.fit(xtrain,ytrain)\n",
    "pred_bag=bag.predict(xtest)\n",
    "accu_bag=accuracy_score(ytest , pred_bag)*100\n",
    "accu_bag"
   ]
  },
  {
   "cell_type": "code",
   "execution_count": 143,
   "metadata": {},
   "outputs": [
    {
     "name": "stdout",
     "output_type": "stream",
     "text": [
      "              precision    recall  f1-score   support\n",
      "\n",
      "      female       0.77      0.55      0.64        31\n",
      "        male       0.80      0.92      0.85        60\n",
      "\n",
      "    accuracy                           0.79        91\n",
      "   macro avg       0.78      0.73      0.75        91\n",
      "weighted avg       0.79      0.79      0.78        91\n",
      "\n"
     ]
    }
   ],
   "source": [
    "print(classification_report(ytest,pred_bag))"
   ]
  },
  {
   "cell_type": "code",
   "execution_count": 144,
   "metadata": {},
   "outputs": [],
   "source": [
    "from sklearn.naive_bayes import GaussianNB"
   ]
  },
  {
   "cell_type": "code",
   "execution_count": 145,
   "metadata": {},
   "outputs": [
    {
     "data": {
      "text/plain": [
       "69.23076923076923"
      ]
     },
     "execution_count": 145,
     "metadata": {},
     "output_type": "execute_result"
    }
   ],
   "source": [
    "gau=GaussianNB()\n",
    "gau.fit(xtrain,ytrain)\n",
    "pre_gau=gau.predict(xtest)\n",
    "accu_l=accuracy_score(ytest,pre_gau)*100\n",
    "accu_l"
   ]
  },
  {
   "cell_type": "code",
   "execution_count": 146,
   "metadata": {},
   "outputs": [
    {
     "name": "stdout",
     "output_type": "stream",
     "text": [
      "              precision    recall  f1-score   support\n",
      "\n",
      "      female       0.55      0.52      0.53        31\n",
      "        male       0.76      0.78      0.77        60\n",
      "\n",
      "    accuracy                           0.69        91\n",
      "   macro avg       0.65      0.65      0.65        91\n",
      "weighted avg       0.69      0.69      0.69        91\n",
      "\n"
     ]
    }
   ],
   "source": [
    "print(classification_report(ytest,pre_gau))"
   ]
  },
  {
   "cell_type": "code",
   "execution_count": 148,
   "metadata": {},
   "outputs": [],
   "source": [
    "from sklearn.ensemble import ExtraTreesClassifier"
   ]
  },
  {
   "cell_type": "code",
   "execution_count": 149,
   "metadata": {},
   "outputs": [
    {
     "data": {
      "text/plain": [
       "76.92307692307693"
      ]
     },
     "execution_count": 149,
     "metadata": {},
     "output_type": "execute_result"
    }
   ],
   "source": [
    "etc=ExtraTreesClassifier()\n",
    "etc.fit(xtrain,ytrain)\n",
    "pre_etc=etc.predict(xtest)\n",
    "accu_etc=accuracy_score(ytest,pre_etc)*100\n",
    "accu_etc"
   ]
  },
  {
   "cell_type": "code",
   "execution_count": 150,
   "metadata": {},
   "outputs": [
    {
     "name": "stdout",
     "output_type": "stream",
     "text": [
      "              precision    recall  f1-score   support\n",
      "\n",
      "      female       0.81      0.42      0.55        31\n",
      "        male       0.76      0.95      0.84        60\n",
      "\n",
      "    accuracy                           0.77        91\n",
      "   macro avg       0.79      0.68      0.70        91\n",
      "weighted avg       0.78      0.77      0.75        91\n",
      "\n"
     ]
    }
   ],
   "source": [
    "print(classification_report(ytest,pre_etc))"
   ]
  },
  {
   "cell_type": "code",
   "execution_count": 151,
   "metadata": {},
   "outputs": [],
   "source": [
    "from sklearn.svm import SVC"
   ]
  },
  {
   "cell_type": "code",
   "execution_count": 152,
   "metadata": {},
   "outputs": [
    {
     "data": {
      "text/plain": [
       "65.93406593406593"
      ]
     },
     "execution_count": 152,
     "metadata": {},
     "output_type": "execute_result"
    }
   ],
   "source": [
    "svc=SVC()\n",
    "svc.fit(xtrain,ytrain)\n",
    "pre_svc=svc.predict(xtest)\n",
    "accu_svc=accuracy_score(ytest,pre_svc)*100\n",
    "accu_svc"
   ]
  },
  {
   "cell_type": "code",
   "execution_count": 153,
   "metadata": {},
   "outputs": [
    {
     "name": "stdout",
     "output_type": "stream",
     "text": [
      "              precision    recall  f1-score   support\n",
      "\n",
      "      female       0.00      0.00      0.00        31\n",
      "        male       0.66      1.00      0.79        60\n",
      "\n",
      "    accuracy                           0.66        91\n",
      "   macro avg       0.33      0.50      0.40        91\n",
      "weighted avg       0.43      0.66      0.52        91\n",
      "\n"
     ]
    },
    {
     "name": "stderr",
     "output_type": "stream",
     "text": [
      "C:\\Users\\Md Asif Ikbal\\anaconda3\\lib\\site-packages\\sklearn\\metrics\\_classification.py:1272: UndefinedMetricWarning: Precision and F-score are ill-defined and being set to 0.0 in labels with no predicted samples. Use `zero_division` parameter to control this behavior.\n",
      "  _warn_prf(average, modifier, msg_start, len(result))\n"
     ]
    }
   ],
   "source": [
    "print(classification_report(ytest,pre_svc))"
   ]
  },
  {
   "cell_type": "code",
   "execution_count": 154,
   "metadata": {},
   "outputs": [],
   "source": [
    "from sklearn.ensemble import RandomForestClassifier"
   ]
  },
  {
   "cell_type": "code",
   "execution_count": 155,
   "metadata": {},
   "outputs": [
    {
     "data": {
      "text/plain": [
       "78.02197802197803"
      ]
     },
     "execution_count": 155,
     "metadata": {},
     "output_type": "execute_result"
    }
   ],
   "source": [
    "rnd=RandomForestClassifier()\n",
    "rnd.fit(xtrain,ytrain)\n",
    "pre_rnd=rnd.predict(xtest)\n",
    "accu_rnd=accuracy_score(ytest,pre_rnd)*100\n",
    "accu_rnd"
   ]
  },
  {
   "cell_type": "code",
   "execution_count": 156,
   "metadata": {},
   "outputs": [
    {
     "name": "stdout",
     "output_type": "stream",
     "text": [
      "              precision    recall  f1-score   support\n",
      "\n",
      "      female       0.92      0.39      0.55        31\n",
      "        male       0.76      0.98      0.86        60\n",
      "\n",
      "    accuracy                           0.78        91\n",
      "   macro avg       0.84      0.69      0.70        91\n",
      "weighted avg       0.81      0.78      0.75        91\n",
      "\n"
     ]
    }
   ],
   "source": [
    "print(classification_report(ytest,pre_rnd))"
   ]
  },
  {
   "cell_type": "code",
   "execution_count": 160,
   "metadata": {},
   "outputs": [],
   "source": [
    "from catboost import CatBoostClassifier"
   ]
  },
  {
   "cell_type": "code",
   "execution_count": 161,
   "metadata": {},
   "outputs": [
    {
     "name": "stderr",
     "output_type": "stream",
     "text": [
      "Custom logger is already specified. Specify more than one logger at same time is not thread safe."
     ]
    },
    {
     "name": "stdout",
     "output_type": "stream",
     "text": [
      "Learning rate set to 0.005312\n",
      "0:\tlearn: 0.6911294\ttotal: 287ms\tremaining: 4m 46s\n",
      "1:\tlearn: 0.6891822\ttotal: 290ms\tremaining: 2m 24s\n",
      "2:\tlearn: 0.6865659\ttotal: 293ms\tremaining: 1m 37s\n",
      "3:\tlearn: 0.6847622\ttotal: 296ms\tremaining: 1m 13s\n",
      "4:\tlearn: 0.6827015\ttotal: 299ms\tremaining: 59.4s\n",
      "5:\tlearn: 0.6802263\ttotal: 301ms\tremaining: 49.8s\n",
      "6:\tlearn: 0.6782673\ttotal: 303ms\tremaining: 42.9s\n",
      "7:\tlearn: 0.6762397\ttotal: 305ms\tremaining: 37.8s\n",
      "8:\tlearn: 0.6738595\ttotal: 307ms\tremaining: 33.8s\n",
      "9:\tlearn: 0.6720914\ttotal: 310ms\tremaining: 30.6s\n",
      "10:\tlearn: 0.6695559\ttotal: 312ms\tremaining: 28.1s\n",
      "11:\tlearn: 0.6677679\ttotal: 315ms\tremaining: 25.9s\n",
      "12:\tlearn: 0.6656220\ttotal: 317ms\tremaining: 24.1s\n",
      "13:\tlearn: 0.6633764\ttotal: 319ms\tremaining: 22.5s\n",
      "14:\tlearn: 0.6613345\ttotal: 321ms\tremaining: 21.1s\n",
      "15:\tlearn: 0.6590992\ttotal: 324ms\tremaining: 19.9s\n",
      "16:\tlearn: 0.6572904\ttotal: 326ms\tremaining: 18.8s\n",
      "17:\tlearn: 0.6553333\ttotal: 328ms\tremaining: 17.9s\n",
      "18:\tlearn: 0.6544643\ttotal: 330ms\tremaining: 17s\n",
      "19:\tlearn: 0.6523482\ttotal: 332ms\tremaining: 16.3s\n",
      "20:\tlearn: 0.6500046\ttotal: 334ms\tremaining: 15.6s\n",
      "21:\tlearn: 0.6483860\ttotal: 336ms\tremaining: 14.9s\n",
      "22:\tlearn: 0.6468880\ttotal: 338ms\tremaining: 14.4s\n",
      "23:\tlearn: 0.6449004\ttotal: 340ms\tremaining: 13.8s\n",
      "24:\tlearn: 0.6427698\ttotal: 343ms\tremaining: 13.4s\n",
      "25:\tlearn: 0.6413823\ttotal: 345ms\tremaining: 12.9s\n",
      "26:\tlearn: 0.6394349\ttotal: 347ms\tremaining: 12.5s\n",
      "27:\tlearn: 0.6383765\ttotal: 350ms\tremaining: 12.1s\n",
      "28:\tlearn: 0.6369557\ttotal: 352ms\tremaining: 11.8s\n",
      "29:\tlearn: 0.6351147\ttotal: 354ms\tremaining: 11.4s\n",
      "30:\tlearn: 0.6332196\ttotal: 356ms\tremaining: 11.1s\n",
      "31:\tlearn: 0.6313932\ttotal: 358ms\tremaining: 10.8s\n",
      "32:\tlearn: 0.6301629\ttotal: 360ms\tremaining: 10.6s\n",
      "33:\tlearn: 0.6284891\ttotal: 362ms\tremaining: 10.3s\n",
      "34:\tlearn: 0.6266153\ttotal: 364ms\tremaining: 10s\n",
      "35:\tlearn: 0.6253759\ttotal: 366ms\tremaining: 9.81s\n",
      "36:\tlearn: 0.6238544\ttotal: 368ms\tremaining: 9.58s\n",
      "37:\tlearn: 0.6222983\ttotal: 370ms\tremaining: 9.37s\n",
      "38:\tlearn: 0.6212538\ttotal: 371ms\tremaining: 9.15s\n",
      "39:\tlearn: 0.6192806\ttotal: 374ms\tremaining: 8.97s\n",
      "40:\tlearn: 0.6178345\ttotal: 376ms\tremaining: 8.8s\n",
      "41:\tlearn: 0.6162009\ttotal: 378ms\tremaining: 8.63s\n",
      "42:\tlearn: 0.6141180\ttotal: 380ms\tremaining: 8.46s\n",
      "43:\tlearn: 0.6126120\ttotal: 382ms\tremaining: 8.3s\n",
      "44:\tlearn: 0.6111863\ttotal: 384ms\tremaining: 8.15s\n",
      "45:\tlearn: 0.6100115\ttotal: 386ms\tremaining: 8.01s\n",
      "46:\tlearn: 0.6087244\ttotal: 388ms\tremaining: 7.87s\n",
      "47:\tlearn: 0.6069154\ttotal: 390ms\tremaining: 7.74s\n",
      "48:\tlearn: 0.6050236\ttotal: 392ms\tremaining: 7.61s\n",
      "49:\tlearn: 0.6038523\ttotal: 394ms\tremaining: 7.49s\n",
      "50:\tlearn: 0.6022531\ttotal: 396ms\tremaining: 7.37s\n",
      "51:\tlearn: 0.6010643\ttotal: 398ms\tremaining: 7.26s\n",
      "52:\tlearn: 0.5995035\ttotal: 400ms\tremaining: 7.15s\n",
      "53:\tlearn: 0.5981896\ttotal: 403ms\tremaining: 7.05s\n",
      "54:\tlearn: 0.5963032\ttotal: 405ms\tremaining: 6.96s\n",
      "55:\tlearn: 0.5949131\ttotal: 407ms\tremaining: 6.86s\n",
      "56:\tlearn: 0.5931209\ttotal: 410ms\tremaining: 6.78s\n",
      "57:\tlearn: 0.5919715\ttotal: 413ms\tremaining: 6.7s\n",
      "58:\tlearn: 0.5904398\ttotal: 414ms\tremaining: 6.61s\n",
      "59:\tlearn: 0.5888049\ttotal: 416ms\tremaining: 6.52s\n",
      "60:\tlearn: 0.5876451\ttotal: 418ms\tremaining: 6.43s\n",
      "61:\tlearn: 0.5866442\ttotal: 420ms\tremaining: 6.35s\n",
      "62:\tlearn: 0.5858650\ttotal: 421ms\tremaining: 6.27s\n",
      "63:\tlearn: 0.5853134\ttotal: 423ms\tremaining: 6.19s\n",
      "64:\tlearn: 0.5840490\ttotal: 425ms\tremaining: 6.12s\n",
      "65:\tlearn: 0.5830571\ttotal: 427ms\tremaining: 6.04s\n",
      "66:\tlearn: 0.5811687\ttotal: 429ms\tremaining: 5.97s\n",
      "67:\tlearn: 0.5796626\ttotal: 431ms\tremaining: 5.9s\n",
      "68:\tlearn: 0.5787697\ttotal: 433ms\tremaining: 5.84s\n",
      "69:\tlearn: 0.5775333\ttotal: 435ms\tremaining: 5.77s\n",
      "70:\tlearn: 0.5760907\ttotal: 437ms\tremaining: 5.71s\n",
      "71:\tlearn: 0.5748871\ttotal: 439ms\tremaining: 5.65s\n",
      "72:\tlearn: 0.5735148\ttotal: 440ms\tremaining: 5.59s\n",
      "73:\tlearn: 0.5726415\ttotal: 442ms\tremaining: 5.53s\n",
      "74:\tlearn: 0.5718278\ttotal: 444ms\tremaining: 5.48s\n",
      "75:\tlearn: 0.5707285\ttotal: 446ms\tremaining: 5.42s\n",
      "76:\tlearn: 0.5698659\ttotal: 448ms\tremaining: 5.37s\n",
      "77:\tlearn: 0.5684374\ttotal: 451ms\tremaining: 5.33s\n",
      "78:\tlearn: 0.5668833\ttotal: 454ms\tremaining: 5.29s\n",
      "79:\tlearn: 0.5654830\ttotal: 456ms\tremaining: 5.24s\n",
      "80:\tlearn: 0.5636525\ttotal: 458ms\tremaining: 5.19s\n",
      "81:\tlearn: 0.5623462\ttotal: 463ms\tremaining: 5.18s\n",
      "82:\tlearn: 0.5610116\ttotal: 465ms\tremaining: 5.14s\n",
      "83:\tlearn: 0.5595490\ttotal: 467ms\tremaining: 5.09s\n",
      "84:\tlearn: 0.5580659\ttotal: 469ms\tremaining: 5.05s\n",
      "85:\tlearn: 0.5568639\ttotal: 472ms\tremaining: 5.01s\n",
      "86:\tlearn: 0.5558887\ttotal: 474ms\tremaining: 4.97s\n",
      "87:\tlearn: 0.5550129\ttotal: 477ms\tremaining: 4.94s\n",
      "88:\tlearn: 0.5537630\ttotal: 479ms\tremaining: 4.91s\n",
      "89:\tlearn: 0.5525380\ttotal: 482ms\tremaining: 4.88s\n",
      "90:\tlearn: 0.5514439\ttotal: 486ms\tremaining: 4.85s\n",
      "91:\tlearn: 0.5503697\ttotal: 489ms\tremaining: 4.83s\n",
      "92:\tlearn: 0.5490169\ttotal: 491ms\tremaining: 4.79s\n",
      "93:\tlearn: 0.5478654\ttotal: 493ms\tremaining: 4.75s\n",
      "94:\tlearn: 0.5475940\ttotal: 495ms\tremaining: 4.71s\n",
      "95:\tlearn: 0.5466360\ttotal: 497ms\tremaining: 4.67s\n",
      "96:\tlearn: 0.5452992\ttotal: 499ms\tremaining: 4.64s\n",
      "97:\tlearn: 0.5440535\ttotal: 501ms\tremaining: 4.61s\n",
      "98:\tlearn: 0.5429456\ttotal: 504ms\tremaining: 4.58s\n",
      "99:\tlearn: 0.5424179\ttotal: 506ms\tremaining: 4.55s\n",
      "100:\tlearn: 0.5418530\ttotal: 507ms\tremaining: 4.51s\n",
      "101:\tlearn: 0.5408586\ttotal: 509ms\tremaining: 4.48s\n",
      "102:\tlearn: 0.5399866\ttotal: 511ms\tremaining: 4.45s\n",
      "103:\tlearn: 0.5391743\ttotal: 513ms\tremaining: 4.42s\n",
      "104:\tlearn: 0.5380705\ttotal: 515ms\tremaining: 4.39s\n",
      "105:\tlearn: 0.5367748\ttotal: 517ms\tremaining: 4.36s\n",
      "106:\tlearn: 0.5358874\ttotal: 519ms\tremaining: 4.33s\n",
      "107:\tlearn: 0.5346322\ttotal: 521ms\tremaining: 4.3s\n",
      "108:\tlearn: 0.5333343\ttotal: 522ms\tremaining: 4.27s\n",
      "109:\tlearn: 0.5325973\ttotal: 524ms\tremaining: 4.24s\n",
      "110:\tlearn: 0.5317341\ttotal: 526ms\tremaining: 4.21s\n",
      "111:\tlearn: 0.5311662\ttotal: 528ms\tremaining: 4.18s\n",
      "112:\tlearn: 0.5300958\ttotal: 530ms\tremaining: 4.16s\n",
      "113:\tlearn: 0.5292363\ttotal: 532ms\tremaining: 4.13s\n",
      "114:\tlearn: 0.5284766\ttotal: 534ms\tremaining: 4.11s\n",
      "115:\tlearn: 0.5279555\ttotal: 535ms\tremaining: 4.08s\n",
      "116:\tlearn: 0.5266252\ttotal: 537ms\tremaining: 4.05s\n",
      "117:\tlearn: 0.5252818\ttotal: 539ms\tremaining: 4.03s\n",
      "118:\tlearn: 0.5241520\ttotal: 540ms\tremaining: 4s\n",
      "119:\tlearn: 0.5232518\ttotal: 542ms\tremaining: 3.98s\n",
      "120:\tlearn: 0.5222790\ttotal: 544ms\tremaining: 3.95s\n",
      "121:\tlearn: 0.5213657\ttotal: 546ms\tremaining: 3.93s\n",
      "122:\tlearn: 0.5202554\ttotal: 548ms\tremaining: 3.91s\n",
      "123:\tlearn: 0.5195337\ttotal: 550ms\tremaining: 3.88s\n",
      "124:\tlearn: 0.5183596\ttotal: 552ms\tremaining: 3.86s\n",
      "125:\tlearn: 0.5174002\ttotal: 553ms\tremaining: 3.84s\n",
      "126:\tlearn: 0.5163095\ttotal: 556ms\tremaining: 3.82s\n",
      "127:\tlearn: 0.5154674\ttotal: 558ms\tremaining: 3.8s\n",
      "128:\tlearn: 0.5144787\ttotal: 560ms\tremaining: 3.78s\n",
      "129:\tlearn: 0.5131809\ttotal: 562ms\tremaining: 3.76s\n",
      "130:\tlearn: 0.5120161\ttotal: 564ms\tremaining: 3.74s\n",
      "131:\tlearn: 0.5114101\ttotal: 566ms\tremaining: 3.72s\n",
      "132:\tlearn: 0.5105188\ttotal: 568ms\tremaining: 3.7s\n",
      "133:\tlearn: 0.5097007\ttotal: 570ms\tremaining: 3.68s\n",
      "134:\tlearn: 0.5092705\ttotal: 571ms\tremaining: 3.66s\n",
      "135:\tlearn: 0.5080114\ttotal: 573ms\tremaining: 3.64s\n",
      "136:\tlearn: 0.5070928\ttotal: 575ms\tremaining: 3.62s\n",
      "137:\tlearn: 0.5059324\ttotal: 577ms\tremaining: 3.6s\n",
      "138:\tlearn: 0.5051495\ttotal: 579ms\tremaining: 3.59s\n",
      "139:\tlearn: 0.5040348\ttotal: 581ms\tremaining: 3.57s\n",
      "140:\tlearn: 0.5026881\ttotal: 583ms\tremaining: 3.55s\n",
      "141:\tlearn: 0.5015681\ttotal: 585ms\tremaining: 3.53s\n",
      "142:\tlearn: 0.5008017\ttotal: 587ms\tremaining: 3.52s\n",
      "143:\tlearn: 0.5002230\ttotal: 590ms\tremaining: 3.51s\n",
      "144:\tlearn: 0.4993737\ttotal: 592ms\tremaining: 3.49s\n",
      "145:\tlearn: 0.4984922\ttotal: 594ms\tremaining: 3.48s\n",
      "146:\tlearn: 0.4973740\ttotal: 596ms\tremaining: 3.46s\n",
      "147:\tlearn: 0.4964539\ttotal: 598ms\tremaining: 3.44s\n",
      "148:\tlearn: 0.4953484\ttotal: 600ms\tremaining: 3.42s\n",
      "149:\tlearn: 0.4944155\ttotal: 601ms\tremaining: 3.41s\n",
      "150:\tlearn: 0.4936107\ttotal: 603ms\tremaining: 3.39s\n",
      "151:\tlearn: 0.4929531\ttotal: 606ms\tremaining: 3.38s\n",
      "152:\tlearn: 0.4920068\ttotal: 608ms\tremaining: 3.36s\n",
      "153:\tlearn: 0.4912802\ttotal: 610ms\tremaining: 3.35s\n",
      "154:\tlearn: 0.4906521\ttotal: 612ms\tremaining: 3.34s\n",
      "155:\tlearn: 0.4899521\ttotal: 615ms\tremaining: 3.32s\n",
      "156:\tlearn: 0.4895837\ttotal: 617ms\tremaining: 3.31s\n",
      "157:\tlearn: 0.4884960\ttotal: 619ms\tremaining: 3.3s\n",
      "158:\tlearn: 0.4876236\ttotal: 622ms\tremaining: 3.29s\n",
      "159:\tlearn: 0.4871938\ttotal: 624ms\tremaining: 3.27s\n",
      "160:\tlearn: 0.4863657\ttotal: 626ms\tremaining: 3.26s\n",
      "161:\tlearn: 0.4854331\ttotal: 628ms\tremaining: 3.25s\n",
      "162:\tlearn: 0.4845352\ttotal: 633ms\tremaining: 3.25s\n",
      "163:\tlearn: 0.4842280\ttotal: 634ms\tremaining: 3.23s\n",
      "164:\tlearn: 0.4834957\ttotal: 636ms\tremaining: 3.22s\n",
      "165:\tlearn: 0.4828725\ttotal: 638ms\tremaining: 3.21s\n",
      "166:\tlearn: 0.4820501\ttotal: 640ms\tremaining: 3.19s\n",
      "167:\tlearn: 0.4812953\ttotal: 642ms\tremaining: 3.18s\n",
      "168:\tlearn: 0.4803563\ttotal: 644ms\tremaining: 3.17s\n",
      "169:\tlearn: 0.4799411\ttotal: 648ms\tremaining: 3.16s\n",
      "170:\tlearn: 0.4788449\ttotal: 650ms\tremaining: 3.15s\n",
      "171:\tlearn: 0.4773496\ttotal: 652ms\tremaining: 3.14s\n",
      "172:\tlearn: 0.4765818\ttotal: 655ms\tremaining: 3.13s\n",
      "173:\tlearn: 0.4762389\ttotal: 657ms\tremaining: 3.12s\n",
      "174:\tlearn: 0.4752164\ttotal: 661ms\tremaining: 3.12s\n",
      "175:\tlearn: 0.4750151\ttotal: 663ms\tremaining: 3.1s\n",
      "176:\tlearn: 0.4744540\ttotal: 665ms\tremaining: 3.09s\n",
      "177:\tlearn: 0.4739848\ttotal: 666ms\tremaining: 3.08s\n",
      "178:\tlearn: 0.4730443\ttotal: 668ms\tremaining: 3.06s\n",
      "179:\tlearn: 0.4720840\ttotal: 669ms\tremaining: 3.05s\n",
      "180:\tlearn: 0.4713695\ttotal: 673ms\tremaining: 3.05s\n",
      "181:\tlearn: 0.4704874\ttotal: 676ms\tremaining: 3.04s\n",
      "182:\tlearn: 0.4698641\ttotal: 677ms\tremaining: 3.02s\n",
      "183:\tlearn: 0.4690971\ttotal: 679ms\tremaining: 3.01s\n",
      "184:\tlearn: 0.4681931\ttotal: 681ms\tremaining: 3s\n",
      "185:\tlearn: 0.4677626\ttotal: 683ms\tremaining: 2.99s\n",
      "186:\tlearn: 0.4671783\ttotal: 685ms\tremaining: 2.98s\n",
      "187:\tlearn: 0.4667047\ttotal: 687ms\tremaining: 2.97s\n",
      "188:\tlearn: 0.4656408\ttotal: 690ms\tremaining: 2.96s\n",
      "189:\tlearn: 0.4650658\ttotal: 692ms\tremaining: 2.95s\n",
      "190:\tlearn: 0.4642863\ttotal: 693ms\tremaining: 2.94s\n",
      "191:\tlearn: 0.4635100\ttotal: 695ms\tremaining: 2.92s\n",
      "192:\tlearn: 0.4630820\ttotal: 697ms\tremaining: 2.91s\n",
      "193:\tlearn: 0.4624147\ttotal: 699ms\tremaining: 2.9s\n",
      "194:\tlearn: 0.4619194\ttotal: 701ms\tremaining: 2.89s\n",
      "195:\tlearn: 0.4606188\ttotal: 703ms\tremaining: 2.88s\n",
      "196:\tlearn: 0.4602368\ttotal: 704ms\tremaining: 2.87s\n",
      "197:\tlearn: 0.4592545\ttotal: 706ms\tremaining: 2.86s\n",
      "198:\tlearn: 0.4584755\ttotal: 708ms\tremaining: 2.85s\n",
      "199:\tlearn: 0.4578864\ttotal: 710ms\tremaining: 2.84s\n",
      "200:\tlearn: 0.4572637\ttotal: 711ms\tremaining: 2.83s\n",
      "201:\tlearn: 0.4567547\ttotal: 713ms\tremaining: 2.82s\n",
      "202:\tlearn: 0.4565920\ttotal: 714ms\tremaining: 2.8s\n",
      "203:\tlearn: 0.4559713\ttotal: 716ms\tremaining: 2.79s\n",
      "204:\tlearn: 0.4551642\ttotal: 718ms\tremaining: 2.78s\n",
      "205:\tlearn: 0.4546623\ttotal: 720ms\tremaining: 2.77s\n",
      "206:\tlearn: 0.4540949\ttotal: 721ms\tremaining: 2.76s\n",
      "207:\tlearn: 0.4531948\ttotal: 723ms\tremaining: 2.75s\n",
      "208:\tlearn: 0.4529189\ttotal: 725ms\tremaining: 2.74s\n",
      "209:\tlearn: 0.4522105\ttotal: 727ms\tremaining: 2.73s\n",
      "210:\tlearn: 0.4517200\ttotal: 729ms\tremaining: 2.73s\n",
      "211:\tlearn: 0.4513867\ttotal: 731ms\tremaining: 2.71s\n",
      "212:\tlearn: 0.4502957\ttotal: 733ms\tremaining: 2.71s\n",
      "213:\tlearn: 0.4492773\ttotal: 735ms\tremaining: 2.7s\n",
      "214:\tlearn: 0.4485557\ttotal: 736ms\tremaining: 2.69s\n",
      "215:\tlearn: 0.4479576\ttotal: 738ms\tremaining: 2.68s\n",
      "216:\tlearn: 0.4474800\ttotal: 740ms\tremaining: 2.67s\n",
      "217:\tlearn: 0.4469442\ttotal: 742ms\tremaining: 2.66s\n",
      "218:\tlearn: 0.4460550\ttotal: 743ms\tremaining: 2.65s\n",
      "219:\tlearn: 0.4454223\ttotal: 745ms\tremaining: 2.64s\n",
      "220:\tlearn: 0.4447784\ttotal: 747ms\tremaining: 2.63s\n",
      "221:\tlearn: 0.4443997\ttotal: 749ms\tremaining: 2.62s\n",
      "222:\tlearn: 0.4440394\ttotal: 750ms\tremaining: 2.61s\n",
      "223:\tlearn: 0.4434112\ttotal: 752ms\tremaining: 2.6s\n",
      "224:\tlearn: 0.4425928\ttotal: 754ms\tremaining: 2.6s\n",
      "225:\tlearn: 0.4418665\ttotal: 756ms\tremaining: 2.59s\n",
      "226:\tlearn: 0.4411076\ttotal: 758ms\tremaining: 2.58s\n",
      "227:\tlearn: 0.4405818\ttotal: 759ms\tremaining: 2.57s\n",
      "228:\tlearn: 0.4398581\ttotal: 761ms\tremaining: 2.56s\n",
      "229:\tlearn: 0.4388430\ttotal: 763ms\tremaining: 2.55s\n",
      "230:\tlearn: 0.4386524\ttotal: 764ms\tremaining: 2.54s\n",
      "231:\tlearn: 0.4381800\ttotal: 766ms\tremaining: 2.54s\n"
     ]
    },
    {
     "name": "stdout",
     "output_type": "stream",
     "text": [
      "232:\tlearn: 0.4375666\ttotal: 769ms\tremaining: 2.53s\n",
      "233:\tlearn: 0.4370997\ttotal: 771ms\tremaining: 2.52s\n",
      "234:\tlearn: 0.4362860\ttotal: 773ms\tremaining: 2.51s\n",
      "235:\tlearn: 0.4358094\ttotal: 774ms\tremaining: 2.51s\n",
      "236:\tlearn: 0.4350654\ttotal: 776ms\tremaining: 2.5s\n",
      "237:\tlearn: 0.4347615\ttotal: 778ms\tremaining: 2.49s\n",
      "238:\tlearn: 0.4340414\ttotal: 780ms\tremaining: 2.48s\n",
      "239:\tlearn: 0.4334371\ttotal: 782ms\tremaining: 2.48s\n",
      "240:\tlearn: 0.4326505\ttotal: 784ms\tremaining: 2.47s\n",
      "241:\tlearn: 0.4320172\ttotal: 787ms\tremaining: 2.46s\n",
      "242:\tlearn: 0.4312719\ttotal: 788ms\tremaining: 2.46s\n",
      "243:\tlearn: 0.4309088\ttotal: 791ms\tremaining: 2.45s\n",
      "244:\tlearn: 0.4305950\ttotal: 793ms\tremaining: 2.44s\n",
      "245:\tlearn: 0.4299930\ttotal: 795ms\tremaining: 2.44s\n",
      "246:\tlearn: 0.4295574\ttotal: 797ms\tremaining: 2.43s\n",
      "247:\tlearn: 0.4289212\ttotal: 799ms\tremaining: 2.42s\n",
      "248:\tlearn: 0.4284061\ttotal: 801ms\tremaining: 2.42s\n",
      "249:\tlearn: 0.4278630\ttotal: 803ms\tremaining: 2.41s\n",
      "250:\tlearn: 0.4271646\ttotal: 805ms\tremaining: 2.4s\n",
      "251:\tlearn: 0.4266182\ttotal: 807ms\tremaining: 2.39s\n",
      "252:\tlearn: 0.4260401\ttotal: 808ms\tremaining: 2.39s\n",
      "253:\tlearn: 0.4257549\ttotal: 810ms\tremaining: 2.38s\n",
      "254:\tlearn: 0.4253066\ttotal: 812ms\tremaining: 2.37s\n",
      "255:\tlearn: 0.4246859\ttotal: 814ms\tremaining: 2.37s\n",
      "256:\tlearn: 0.4241902\ttotal: 816ms\tremaining: 2.36s\n",
      "257:\tlearn: 0.4235846\ttotal: 817ms\tremaining: 2.35s\n",
      "258:\tlearn: 0.4229326\ttotal: 819ms\tremaining: 2.34s\n",
      "259:\tlearn: 0.4221960\ttotal: 821ms\tremaining: 2.34s\n",
      "260:\tlearn: 0.4216566\ttotal: 822ms\tremaining: 2.33s\n",
      "261:\tlearn: 0.4211357\ttotal: 825ms\tremaining: 2.32s\n",
      "262:\tlearn: 0.4206497\ttotal: 826ms\tremaining: 2.31s\n",
      "263:\tlearn: 0.4203570\ttotal: 828ms\tremaining: 2.31s\n",
      "264:\tlearn: 0.4197970\ttotal: 830ms\tremaining: 2.3s\n",
      "265:\tlearn: 0.4194341\ttotal: 831ms\tremaining: 2.29s\n",
      "266:\tlearn: 0.4189773\ttotal: 833ms\tremaining: 2.29s\n",
      "267:\tlearn: 0.4184016\ttotal: 835ms\tremaining: 2.28s\n",
      "268:\tlearn: 0.4177451\ttotal: 837ms\tremaining: 2.27s\n",
      "269:\tlearn: 0.4171437\ttotal: 838ms\tremaining: 2.27s\n",
      "270:\tlearn: 0.4164699\ttotal: 840ms\tremaining: 2.26s\n",
      "271:\tlearn: 0.4159580\ttotal: 842ms\tremaining: 2.25s\n",
      "272:\tlearn: 0.4157643\ttotal: 844ms\tremaining: 2.25s\n",
      "273:\tlearn: 0.4149615\ttotal: 845ms\tremaining: 2.24s\n",
      "274:\tlearn: 0.4146197\ttotal: 847ms\tremaining: 2.23s\n",
      "275:\tlearn: 0.4139520\ttotal: 849ms\tremaining: 2.23s\n",
      "276:\tlearn: 0.4134636\ttotal: 850ms\tremaining: 2.22s\n",
      "277:\tlearn: 0.4129627\ttotal: 852ms\tremaining: 2.21s\n",
      "278:\tlearn: 0.4122286\ttotal: 854ms\tremaining: 2.21s\n",
      "279:\tlearn: 0.4115992\ttotal: 856ms\tremaining: 2.2s\n",
      "280:\tlearn: 0.4110308\ttotal: 857ms\tremaining: 2.19s\n",
      "281:\tlearn: 0.4102675\ttotal: 859ms\tremaining: 2.19s\n",
      "282:\tlearn: 0.4097644\ttotal: 861ms\tremaining: 2.18s\n",
      "283:\tlearn: 0.4094649\ttotal: 863ms\tremaining: 2.17s\n",
      "284:\tlearn: 0.4090220\ttotal: 864ms\tremaining: 2.17s\n",
      "285:\tlearn: 0.4087512\ttotal: 866ms\tremaining: 2.16s\n",
      "286:\tlearn: 0.4083164\ttotal: 868ms\tremaining: 2.15s\n",
      "287:\tlearn: 0.4080367\ttotal: 869ms\tremaining: 2.15s\n",
      "288:\tlearn: 0.4072906\ttotal: 871ms\tremaining: 2.14s\n",
      "289:\tlearn: 0.4067614\ttotal: 873ms\tremaining: 2.14s\n",
      "290:\tlearn: 0.4062679\ttotal: 875ms\tremaining: 2.13s\n",
      "291:\tlearn: 0.4057549\ttotal: 876ms\tremaining: 2.13s\n",
      "292:\tlearn: 0.4050332\ttotal: 878ms\tremaining: 2.12s\n",
      "293:\tlearn: 0.4044674\ttotal: 879ms\tremaining: 2.11s\n",
      "294:\tlearn: 0.4040296\ttotal: 881ms\tremaining: 2.11s\n",
      "295:\tlearn: 0.4034677\ttotal: 883ms\tremaining: 2.1s\n",
      "296:\tlearn: 0.4026042\ttotal: 885ms\tremaining: 2.1s\n",
      "297:\tlearn: 0.4020612\ttotal: 887ms\tremaining: 2.09s\n",
      "298:\tlearn: 0.4015656\ttotal: 889ms\tremaining: 2.08s\n",
      "299:\tlearn: 0.4012388\ttotal: 891ms\tremaining: 2.08s\n",
      "300:\tlearn: 0.4007571\ttotal: 892ms\tremaining: 2.07s\n",
      "301:\tlearn: 0.4002217\ttotal: 894ms\tremaining: 2.07s\n",
      "302:\tlearn: 0.3998970\ttotal: 896ms\tremaining: 2.06s\n",
      "303:\tlearn: 0.3993072\ttotal: 898ms\tremaining: 2.06s\n",
      "304:\tlearn: 0.3988885\ttotal: 899ms\tremaining: 2.05s\n",
      "305:\tlearn: 0.3984007\ttotal: 901ms\tremaining: 2.04s\n",
      "306:\tlearn: 0.3980693\ttotal: 903ms\tremaining: 2.04s\n",
      "307:\tlearn: 0.3973064\ttotal: 905ms\tremaining: 2.03s\n",
      "308:\tlearn: 0.3968156\ttotal: 906ms\tremaining: 2.03s\n",
      "309:\tlearn: 0.3965890\ttotal: 908ms\tremaining: 2.02s\n",
      "310:\tlearn: 0.3962327\ttotal: 910ms\tremaining: 2.02s\n",
      "311:\tlearn: 0.3954711\ttotal: 912ms\tremaining: 2.01s\n",
      "312:\tlearn: 0.3950065\ttotal: 914ms\tremaining: 2s\n",
      "313:\tlearn: 0.3944237\ttotal: 915ms\tremaining: 2s\n",
      "314:\tlearn: 0.3939843\ttotal: 918ms\tremaining: 2s\n",
      "315:\tlearn: 0.3935924\ttotal: 919ms\tremaining: 1.99s\n",
      "316:\tlearn: 0.3928829\ttotal: 922ms\tremaining: 1.99s\n",
      "317:\tlearn: 0.3923666\ttotal: 924ms\tremaining: 1.98s\n",
      "318:\tlearn: 0.3920487\ttotal: 925ms\tremaining: 1.98s\n",
      "319:\tlearn: 0.3913937\ttotal: 928ms\tremaining: 1.97s\n",
      "320:\tlearn: 0.3910107\ttotal: 930ms\tremaining: 1.97s\n",
      "321:\tlearn: 0.3904824\ttotal: 932ms\tremaining: 1.96s\n",
      "322:\tlearn: 0.3900468\ttotal: 934ms\tremaining: 1.96s\n",
      "323:\tlearn: 0.3894134\ttotal: 936ms\tremaining: 1.95s\n",
      "324:\tlearn: 0.3889823\ttotal: 938ms\tremaining: 1.95s\n",
      "325:\tlearn: 0.3883841\ttotal: 940ms\tremaining: 1.94s\n",
      "326:\tlearn: 0.3878549\ttotal: 942ms\tremaining: 1.94s\n",
      "327:\tlearn: 0.3874219\ttotal: 944ms\tremaining: 1.93s\n",
      "328:\tlearn: 0.3870854\ttotal: 947ms\tremaining: 1.93s\n",
      "329:\tlearn: 0.3867484\ttotal: 949ms\tremaining: 1.93s\n",
      "330:\tlearn: 0.3862295\ttotal: 951ms\tremaining: 1.92s\n",
      "331:\tlearn: 0.3855641\ttotal: 953ms\tremaining: 1.92s\n",
      "332:\tlearn: 0.3850717\ttotal: 955ms\tremaining: 1.91s\n",
      "333:\tlearn: 0.3848694\ttotal: 957ms\tremaining: 1.91s\n",
      "334:\tlearn: 0.3844449\ttotal: 959ms\tremaining: 1.9s\n",
      "335:\tlearn: 0.3840261\ttotal: 961ms\tremaining: 1.9s\n",
      "336:\tlearn: 0.3834408\ttotal: 963ms\tremaining: 1.89s\n",
      "337:\tlearn: 0.3828627\ttotal: 973ms\tremaining: 1.91s\n",
      "338:\tlearn: 0.3827641\ttotal: 974ms\tremaining: 1.9s\n",
      "339:\tlearn: 0.3822282\ttotal: 976ms\tremaining: 1.89s\n",
      "340:\tlearn: 0.3818375\ttotal: 978ms\tremaining: 1.89s\n",
      "341:\tlearn: 0.3814869\ttotal: 980ms\tremaining: 1.89s\n",
      "342:\tlearn: 0.3811260\ttotal: 982ms\tremaining: 1.88s\n",
      "343:\tlearn: 0.3810146\ttotal: 984ms\tremaining: 1.88s\n",
      "344:\tlearn: 0.3806045\ttotal: 987ms\tremaining: 1.87s\n",
      "345:\tlearn: 0.3801448\ttotal: 989ms\tremaining: 1.87s\n",
      "346:\tlearn: 0.3796007\ttotal: 991ms\tremaining: 1.86s\n",
      "347:\tlearn: 0.3792919\ttotal: 992ms\tremaining: 1.86s\n",
      "348:\tlearn: 0.3790169\ttotal: 995ms\tremaining: 1.85s\n",
      "349:\tlearn: 0.3784416\ttotal: 996ms\tremaining: 1.85s\n",
      "350:\tlearn: 0.3780087\ttotal: 999ms\tremaining: 1.85s\n",
      "351:\tlearn: 0.3775757\ttotal: 1s\tremaining: 1.84s\n",
      "352:\tlearn: 0.3774848\ttotal: 1s\tremaining: 1.84s\n",
      "353:\tlearn: 0.3768893\ttotal: 1s\tremaining: 1.83s\n",
      "354:\tlearn: 0.3764131\ttotal: 1.01s\tremaining: 1.83s\n",
      "355:\tlearn: 0.3760413\ttotal: 1.01s\tremaining: 1.82s\n",
      "356:\tlearn: 0.3756019\ttotal: 1.01s\tremaining: 1.82s\n",
      "357:\tlearn: 0.3751472\ttotal: 1.01s\tremaining: 1.82s\n",
      "358:\tlearn: 0.3745938\ttotal: 1.01s\tremaining: 1.81s\n",
      "359:\tlearn: 0.3741514\ttotal: 1.02s\tremaining: 1.81s\n",
      "360:\tlearn: 0.3738027\ttotal: 1.02s\tremaining: 1.81s\n",
      "361:\tlearn: 0.3734486\ttotal: 1.02s\tremaining: 1.8s\n",
      "362:\tlearn: 0.3730447\ttotal: 1.02s\tremaining: 1.8s\n",
      "363:\tlearn: 0.3729291\ttotal: 1.02s\tremaining: 1.79s\n",
      "364:\tlearn: 0.3723135\ttotal: 1.03s\tremaining: 1.79s\n",
      "365:\tlearn: 0.3722110\ttotal: 1.03s\tremaining: 1.78s\n",
      "366:\tlearn: 0.3716604\ttotal: 1.03s\tremaining: 1.78s\n",
      "367:\tlearn: 0.3711416\ttotal: 1.03s\tremaining: 1.78s\n",
      "368:\tlearn: 0.3705927\ttotal: 1.04s\tremaining: 1.77s\n",
      "369:\tlearn: 0.3703224\ttotal: 1.04s\tremaining: 1.77s\n",
      "370:\tlearn: 0.3699802\ttotal: 1.04s\tremaining: 1.76s\n",
      "371:\tlearn: 0.3695295\ttotal: 1.04s\tremaining: 1.76s\n",
      "372:\tlearn: 0.3690878\ttotal: 1.05s\tremaining: 1.76s\n",
      "373:\tlearn: 0.3684439\ttotal: 1.05s\tremaining: 1.75s\n",
      "374:\tlearn: 0.3681494\ttotal: 1.05s\tremaining: 1.75s\n",
      "375:\tlearn: 0.3677757\ttotal: 1.05s\tremaining: 1.75s\n",
      "376:\tlearn: 0.3673146\ttotal: 1.05s\tremaining: 1.74s\n",
      "377:\tlearn: 0.3669542\ttotal: 1.06s\tremaining: 1.74s\n",
      "378:\tlearn: 0.3667630\ttotal: 1.06s\tremaining: 1.74s\n",
      "379:\tlearn: 0.3663404\ttotal: 1.06s\tremaining: 1.73s\n",
      "380:\tlearn: 0.3658991\ttotal: 1.06s\tremaining: 1.73s\n",
      "381:\tlearn: 0.3655556\ttotal: 1.07s\tremaining: 1.73s\n",
      "382:\tlearn: 0.3651826\ttotal: 1.07s\tremaining: 1.73s\n",
      "383:\tlearn: 0.3648480\ttotal: 1.07s\tremaining: 1.72s\n",
      "384:\tlearn: 0.3645409\ttotal: 1.08s\tremaining: 1.72s\n",
      "385:\tlearn: 0.3641732\ttotal: 1.08s\tremaining: 1.72s\n",
      "386:\tlearn: 0.3636476\ttotal: 1.08s\tremaining: 1.71s\n",
      "387:\tlearn: 0.3630608\ttotal: 1.08s\tremaining: 1.71s\n",
      "388:\tlearn: 0.3625875\ttotal: 1.08s\tremaining: 1.7s\n",
      "389:\tlearn: 0.3621950\ttotal: 1.09s\tremaining: 1.71s\n",
      "390:\tlearn: 0.3616436\ttotal: 1.09s\tremaining: 1.7s\n",
      "391:\tlearn: 0.3610948\ttotal: 1.09s\tremaining: 1.7s\n",
      "392:\tlearn: 0.3606414\ttotal: 1.09s\tremaining: 1.69s\n",
      "393:\tlearn: 0.3599730\ttotal: 1.1s\tremaining: 1.69s\n",
      "394:\tlearn: 0.3597999\ttotal: 1.1s\tremaining: 1.69s\n",
      "395:\tlearn: 0.3594240\ttotal: 1.1s\tremaining: 1.68s\n",
      "396:\tlearn: 0.3588512\ttotal: 1.1s\tremaining: 1.68s\n",
      "397:\tlearn: 0.3582336\ttotal: 1.11s\tremaining: 1.67s\n",
      "398:\tlearn: 0.3577377\ttotal: 1.11s\tremaining: 1.67s\n",
      "399:\tlearn: 0.3574376\ttotal: 1.11s\tremaining: 1.67s\n",
      "400:\tlearn: 0.3570149\ttotal: 1.11s\tremaining: 1.66s\n",
      "401:\tlearn: 0.3565885\ttotal: 1.12s\tremaining: 1.66s\n",
      "402:\tlearn: 0.3560234\ttotal: 1.12s\tremaining: 1.66s\n",
      "403:\tlearn: 0.3556529\ttotal: 1.12s\tremaining: 1.66s\n",
      "404:\tlearn: 0.3552098\ttotal: 1.12s\tremaining: 1.65s\n",
      "405:\tlearn: 0.3549343\ttotal: 1.13s\tremaining: 1.65s\n",
      "406:\tlearn: 0.3547108\ttotal: 1.13s\tremaining: 1.65s\n",
      "407:\tlearn: 0.3544570\ttotal: 1.13s\tremaining: 1.64s\n",
      "408:\tlearn: 0.3542221\ttotal: 1.13s\tremaining: 1.64s\n",
      "409:\tlearn: 0.3538416\ttotal: 1.14s\tremaining: 1.64s\n",
      "410:\tlearn: 0.3537724\ttotal: 1.14s\tremaining: 1.63s\n",
      "411:\tlearn: 0.3533419\ttotal: 1.14s\tremaining: 1.63s\n",
      "412:\tlearn: 0.3528098\ttotal: 1.14s\tremaining: 1.62s\n",
      "413:\tlearn: 0.3525107\ttotal: 1.14s\tremaining: 1.62s\n",
      "414:\tlearn: 0.3519533\ttotal: 1.15s\tremaining: 1.62s\n",
      "415:\tlearn: 0.3513724\ttotal: 1.15s\tremaining: 1.61s\n",
      "416:\tlearn: 0.3507914\ttotal: 1.15s\tremaining: 1.61s\n",
      "417:\tlearn: 0.3505476\ttotal: 1.15s\tremaining: 1.6s\n",
      "418:\tlearn: 0.3499568\ttotal: 1.15s\tremaining: 1.6s\n",
      "419:\tlearn: 0.3497167\ttotal: 1.16s\tremaining: 1.6s\n",
      "420:\tlearn: 0.3493450\ttotal: 1.16s\tremaining: 1.59s\n",
      "421:\tlearn: 0.3493302\ttotal: 1.16s\tremaining: 1.59s\n",
      "422:\tlearn: 0.3490413\ttotal: 1.16s\tremaining: 1.58s\n",
      "423:\tlearn: 0.3487021\ttotal: 1.16s\tremaining: 1.58s\n",
      "424:\tlearn: 0.3483776\ttotal: 1.17s\tremaining: 1.58s\n",
      "425:\tlearn: 0.3479734\ttotal: 1.17s\tremaining: 1.57s\n",
      "426:\tlearn: 0.3474346\ttotal: 1.17s\tremaining: 1.57s\n",
      "427:\tlearn: 0.3471159\ttotal: 1.17s\tremaining: 1.56s\n",
      "428:\tlearn: 0.3465814\ttotal: 1.17s\tremaining: 1.56s\n",
      "429:\tlearn: 0.3462686\ttotal: 1.17s\tremaining: 1.56s\n",
      "430:\tlearn: 0.3458932\ttotal: 1.18s\tremaining: 1.55s\n",
      "431:\tlearn: 0.3454397\ttotal: 1.18s\tremaining: 1.55s\n",
      "432:\tlearn: 0.3453300\ttotal: 1.18s\tremaining: 1.54s\n",
      "433:\tlearn: 0.3450720\ttotal: 1.18s\tremaining: 1.54s\n",
      "434:\tlearn: 0.3446170\ttotal: 1.18s\tremaining: 1.54s\n",
      "435:\tlearn: 0.3444498\ttotal: 1.18s\tremaining: 1.53s\n",
      "436:\tlearn: 0.3440909\ttotal: 1.19s\tremaining: 1.53s\n",
      "437:\tlearn: 0.3437675\ttotal: 1.19s\tremaining: 1.52s\n",
      "438:\tlearn: 0.3434916\ttotal: 1.19s\tremaining: 1.52s\n",
      "439:\tlearn: 0.3430546\ttotal: 1.19s\tremaining: 1.51s\n",
      "440:\tlearn: 0.3427782\ttotal: 1.19s\tremaining: 1.51s\n",
      "441:\tlearn: 0.3422810\ttotal: 1.19s\tremaining: 1.51s\n",
      "442:\tlearn: 0.3420618\ttotal: 1.2s\tremaining: 1.5s\n",
      "443:\tlearn: 0.3417565\ttotal: 1.2s\tremaining: 1.5s\n",
      "444:\tlearn: 0.3416265\ttotal: 1.2s\tremaining: 1.5s\n",
      "445:\tlearn: 0.3412956\ttotal: 1.2s\tremaining: 1.49s\n",
      "446:\tlearn: 0.3406500\ttotal: 1.2s\tremaining: 1.49s\n",
      "447:\tlearn: 0.3401988\ttotal: 1.21s\tremaining: 1.49s\n",
      "448:\tlearn: 0.3396451\ttotal: 1.21s\tremaining: 1.48s\n",
      "449:\tlearn: 0.3392728\ttotal: 1.21s\tremaining: 1.48s\n",
      "450:\tlearn: 0.3389229\ttotal: 1.21s\tremaining: 1.47s\n",
      "451:\tlearn: 0.3387026\ttotal: 1.21s\tremaining: 1.47s\n",
      "452:\tlearn: 0.3383805\ttotal: 1.21s\tremaining: 1.47s\n",
      "453:\tlearn: 0.3380010\ttotal: 1.22s\tremaining: 1.46s\n",
      "454:\tlearn: 0.3375481\ttotal: 1.22s\tremaining: 1.46s\n",
      "455:\tlearn: 0.3374633\ttotal: 1.22s\tremaining: 1.45s\n",
      "456:\tlearn: 0.3372779\ttotal: 1.22s\tremaining: 1.45s\n",
      "457:\tlearn: 0.3369667\ttotal: 1.22s\tremaining: 1.45s\n",
      "458:\tlearn: 0.3365745\ttotal: 1.23s\tremaining: 1.44s\n",
      "459:\tlearn: 0.3360822\ttotal: 1.23s\tremaining: 1.44s\n",
      "460:\tlearn: 0.3357052\ttotal: 1.23s\tremaining: 1.44s\n",
      "461:\tlearn: 0.3352842\ttotal: 1.23s\tremaining: 1.43s\n",
      "462:\tlearn: 0.3351452\ttotal: 1.23s\tremaining: 1.43s\n",
      "463:\tlearn: 0.3344849\ttotal: 1.23s\tremaining: 1.43s\n",
      "464:\tlearn: 0.3342102\ttotal: 1.24s\tremaining: 1.42s\n",
      "465:\tlearn: 0.3340769\ttotal: 1.24s\tremaining: 1.42s\n",
      "466:\tlearn: 0.3339081\ttotal: 1.24s\tremaining: 1.42s\n",
      "467:\tlearn: 0.3334454\ttotal: 1.24s\tremaining: 1.41s\n",
      "468:\tlearn: 0.3332731\ttotal: 1.24s\tremaining: 1.41s\n",
      "469:\tlearn: 0.3328576\ttotal: 1.25s\tremaining: 1.4s\n"
     ]
    },
    {
     "name": "stdout",
     "output_type": "stream",
     "text": [
      "470:\tlearn: 0.3325244\ttotal: 1.25s\tremaining: 1.4s\n",
      "471:\tlearn: 0.3322543\ttotal: 1.25s\tremaining: 1.4s\n",
      "472:\tlearn: 0.3319702\ttotal: 1.25s\tremaining: 1.39s\n",
      "473:\tlearn: 0.3316420\ttotal: 1.25s\tremaining: 1.39s\n",
      "474:\tlearn: 0.3314122\ttotal: 1.25s\tremaining: 1.39s\n",
      "475:\tlearn: 0.3311726\ttotal: 1.26s\tremaining: 1.38s\n",
      "476:\tlearn: 0.3308023\ttotal: 1.26s\tremaining: 1.38s\n",
      "477:\tlearn: 0.3304364\ttotal: 1.26s\tremaining: 1.38s\n",
      "478:\tlearn: 0.3299786\ttotal: 1.26s\tremaining: 1.37s\n",
      "479:\tlearn: 0.3295528\ttotal: 1.26s\tremaining: 1.37s\n",
      "480:\tlearn: 0.3290725\ttotal: 1.27s\tremaining: 1.37s\n",
      "481:\tlearn: 0.3285897\ttotal: 1.27s\tremaining: 1.36s\n",
      "482:\tlearn: 0.3279661\ttotal: 1.27s\tremaining: 1.36s\n",
      "483:\tlearn: 0.3277703\ttotal: 1.27s\tremaining: 1.36s\n",
      "484:\tlearn: 0.3276024\ttotal: 1.28s\tremaining: 1.35s\n",
      "485:\tlearn: 0.3272951\ttotal: 1.28s\tremaining: 1.35s\n",
      "486:\tlearn: 0.3269577\ttotal: 1.28s\tremaining: 1.35s\n",
      "487:\tlearn: 0.3267910\ttotal: 1.28s\tremaining: 1.34s\n",
      "488:\tlearn: 0.3263701\ttotal: 1.28s\tremaining: 1.34s\n",
      "489:\tlearn: 0.3259556\ttotal: 1.28s\tremaining: 1.34s\n",
      "490:\tlearn: 0.3256361\ttotal: 1.29s\tremaining: 1.33s\n",
      "491:\tlearn: 0.3252417\ttotal: 1.29s\tremaining: 1.33s\n",
      "492:\tlearn: 0.3249995\ttotal: 1.29s\tremaining: 1.33s\n",
      "493:\tlearn: 0.3248410\ttotal: 1.29s\tremaining: 1.32s\n",
      "494:\tlearn: 0.3245185\ttotal: 1.29s\tremaining: 1.32s\n",
      "495:\tlearn: 0.3241314\ttotal: 1.3s\tremaining: 1.32s\n",
      "496:\tlearn: 0.3238869\ttotal: 1.3s\tremaining: 1.31s\n",
      "497:\tlearn: 0.3236521\ttotal: 1.3s\tremaining: 1.31s\n",
      "498:\tlearn: 0.3232432\ttotal: 1.3s\tremaining: 1.31s\n",
      "499:\tlearn: 0.3228855\ttotal: 1.3s\tremaining: 1.3s\n",
      "500:\tlearn: 0.3225397\ttotal: 1.3s\tremaining: 1.3s\n",
      "501:\tlearn: 0.3223526\ttotal: 1.31s\tremaining: 1.3s\n",
      "502:\tlearn: 0.3217262\ttotal: 1.31s\tremaining: 1.29s\n",
      "503:\tlearn: 0.3213295\ttotal: 1.31s\tremaining: 1.29s\n",
      "504:\tlearn: 0.3208948\ttotal: 1.31s\tremaining: 1.29s\n",
      "505:\tlearn: 0.3206587\ttotal: 1.31s\tremaining: 1.28s\n",
      "506:\tlearn: 0.3203393\ttotal: 1.32s\tremaining: 1.28s\n",
      "507:\tlearn: 0.3199766\ttotal: 1.32s\tremaining: 1.28s\n",
      "508:\tlearn: 0.3198088\ttotal: 1.32s\tremaining: 1.27s\n",
      "509:\tlearn: 0.3197211\ttotal: 1.32s\tremaining: 1.27s\n",
      "510:\tlearn: 0.3195219\ttotal: 1.32s\tremaining: 1.27s\n",
      "511:\tlearn: 0.3192584\ttotal: 1.32s\tremaining: 1.26s\n",
      "512:\tlearn: 0.3189036\ttotal: 1.33s\tremaining: 1.26s\n",
      "513:\tlearn: 0.3187573\ttotal: 1.33s\tremaining: 1.26s\n",
      "514:\tlearn: 0.3182608\ttotal: 1.33s\tremaining: 1.25s\n",
      "515:\tlearn: 0.3179206\ttotal: 1.33s\tremaining: 1.25s\n",
      "516:\tlearn: 0.3175516\ttotal: 1.33s\tremaining: 1.25s\n",
      "517:\tlearn: 0.3172210\ttotal: 1.33s\tremaining: 1.24s\n",
      "518:\tlearn: 0.3168984\ttotal: 1.34s\tremaining: 1.24s\n",
      "519:\tlearn: 0.3166770\ttotal: 1.34s\tremaining: 1.24s\n",
      "520:\tlearn: 0.3163617\ttotal: 1.34s\tremaining: 1.23s\n",
      "521:\tlearn: 0.3160443\ttotal: 1.34s\tremaining: 1.23s\n",
      "522:\tlearn: 0.3157941\ttotal: 1.34s\tremaining: 1.23s\n",
      "523:\tlearn: 0.3154437\ttotal: 1.35s\tremaining: 1.22s\n",
      "524:\tlearn: 0.3149787\ttotal: 1.35s\tremaining: 1.22s\n",
      "525:\tlearn: 0.3147796\ttotal: 1.35s\tremaining: 1.22s\n",
      "526:\tlearn: 0.3141167\ttotal: 1.35s\tremaining: 1.21s\n",
      "527:\tlearn: 0.3137522\ttotal: 1.35s\tremaining: 1.21s\n",
      "528:\tlearn: 0.3133966\ttotal: 1.35s\tremaining: 1.21s\n",
      "529:\tlearn: 0.3132333\ttotal: 1.36s\tremaining: 1.2s\n",
      "530:\tlearn: 0.3129809\ttotal: 1.36s\tremaining: 1.2s\n",
      "531:\tlearn: 0.3129698\ttotal: 1.36s\tremaining: 1.2s\n",
      "532:\tlearn: 0.3127024\ttotal: 1.36s\tremaining: 1.19s\n",
      "533:\tlearn: 0.3123517\ttotal: 1.36s\tremaining: 1.19s\n",
      "534:\tlearn: 0.3123262\ttotal: 1.36s\tremaining: 1.19s\n",
      "535:\tlearn: 0.3119280\ttotal: 1.37s\tremaining: 1.18s\n",
      "536:\tlearn: 0.3117671\ttotal: 1.37s\tremaining: 1.18s\n",
      "537:\tlearn: 0.3114927\ttotal: 1.37s\tremaining: 1.18s\n",
      "538:\tlearn: 0.3112966\ttotal: 1.37s\tremaining: 1.17s\n",
      "539:\tlearn: 0.3111683\ttotal: 1.37s\tremaining: 1.17s\n",
      "540:\tlearn: 0.3107827\ttotal: 1.38s\tremaining: 1.17s\n",
      "541:\tlearn: 0.3104387\ttotal: 1.38s\tremaining: 1.16s\n",
      "542:\tlearn: 0.3102395\ttotal: 1.38s\tremaining: 1.16s\n",
      "543:\tlearn: 0.3099680\ttotal: 1.38s\tremaining: 1.16s\n",
      "544:\tlearn: 0.3094987\ttotal: 1.38s\tremaining: 1.16s\n",
      "545:\tlearn: 0.3091630\ttotal: 1.39s\tremaining: 1.15s\n",
      "546:\tlearn: 0.3087896\ttotal: 1.39s\tremaining: 1.15s\n",
      "547:\tlearn: 0.3083531\ttotal: 1.39s\tremaining: 1.15s\n",
      "548:\tlearn: 0.3077939\ttotal: 1.39s\tremaining: 1.14s\n",
      "549:\tlearn: 0.3077278\ttotal: 1.39s\tremaining: 1.14s\n",
      "550:\tlearn: 0.3072564\ttotal: 1.39s\tremaining: 1.14s\n",
      "551:\tlearn: 0.3070334\ttotal: 1.4s\tremaining: 1.13s\n",
      "552:\tlearn: 0.3068015\ttotal: 1.4s\tremaining: 1.13s\n",
      "553:\tlearn: 0.3066377\ttotal: 1.4s\tremaining: 1.13s\n",
      "554:\tlearn: 0.3063134\ttotal: 1.4s\tremaining: 1.12s\n",
      "555:\tlearn: 0.3060359\ttotal: 1.4s\tremaining: 1.12s\n",
      "556:\tlearn: 0.3057387\ttotal: 1.4s\tremaining: 1.12s\n",
      "557:\tlearn: 0.3056353\ttotal: 1.41s\tremaining: 1.11s\n",
      "558:\tlearn: 0.3051127\ttotal: 1.41s\tremaining: 1.11s\n",
      "559:\tlearn: 0.3048429\ttotal: 1.41s\tremaining: 1.11s\n",
      "560:\tlearn: 0.3044521\ttotal: 1.41s\tremaining: 1.1s\n",
      "561:\tlearn: 0.3039892\ttotal: 1.41s\tremaining: 1.1s\n",
      "562:\tlearn: 0.3038888\ttotal: 1.42s\tremaining: 1.1s\n",
      "563:\tlearn: 0.3037940\ttotal: 1.42s\tremaining: 1.1s\n",
      "564:\tlearn: 0.3036395\ttotal: 1.42s\tremaining: 1.09s\n",
      "565:\tlearn: 0.3031884\ttotal: 1.42s\tremaining: 1.09s\n",
      "566:\tlearn: 0.3029299\ttotal: 1.43s\tremaining: 1.09s\n",
      "567:\tlearn: 0.3026147\ttotal: 1.43s\tremaining: 1.09s\n",
      "568:\tlearn: 0.3023182\ttotal: 1.43s\tremaining: 1.08s\n",
      "569:\tlearn: 0.3022557\ttotal: 1.43s\tremaining: 1.08s\n",
      "570:\tlearn: 0.3019827\ttotal: 1.43s\tremaining: 1.08s\n",
      "571:\tlearn: 0.3017024\ttotal: 1.44s\tremaining: 1.07s\n",
      "572:\tlearn: 0.3014041\ttotal: 1.44s\tremaining: 1.07s\n",
      "573:\tlearn: 0.3011386\ttotal: 1.44s\tremaining: 1.07s\n",
      "574:\tlearn: 0.3011029\ttotal: 1.44s\tremaining: 1.06s\n",
      "575:\tlearn: 0.3009359\ttotal: 1.44s\tremaining: 1.06s\n",
      "576:\tlearn: 0.3007299\ttotal: 1.44s\tremaining: 1.06s\n",
      "577:\tlearn: 0.3004804\ttotal: 1.45s\tremaining: 1.05s\n",
      "578:\tlearn: 0.2999336\ttotal: 1.45s\tremaining: 1.05s\n",
      "579:\tlearn: 0.2998286\ttotal: 1.45s\tremaining: 1.05s\n",
      "580:\tlearn: 0.2995955\ttotal: 1.45s\tremaining: 1.05s\n",
      "581:\tlearn: 0.2992895\ttotal: 1.45s\tremaining: 1.04s\n",
      "582:\tlearn: 0.2989833\ttotal: 1.46s\tremaining: 1.04s\n",
      "583:\tlearn: 0.2987264\ttotal: 1.46s\tremaining: 1.04s\n",
      "584:\tlearn: 0.2982095\ttotal: 1.46s\tremaining: 1.03s\n",
      "585:\tlearn: 0.2979252\ttotal: 1.46s\tremaining: 1.03s\n",
      "586:\tlearn: 0.2973951\ttotal: 1.46s\tremaining: 1.03s\n",
      "587:\tlearn: 0.2972893\ttotal: 1.46s\tremaining: 1.03s\n",
      "588:\tlearn: 0.2968598\ttotal: 1.47s\tremaining: 1.02s\n",
      "589:\tlearn: 0.2965397\ttotal: 1.47s\tremaining: 1.02s\n",
      "590:\tlearn: 0.2961449\ttotal: 1.47s\tremaining: 1.02s\n",
      "591:\tlearn: 0.2956794\ttotal: 1.47s\tremaining: 1.01s\n",
      "592:\tlearn: 0.2953714\ttotal: 1.47s\tremaining: 1.01s\n",
      "593:\tlearn: 0.2950160\ttotal: 1.48s\tremaining: 1.01s\n",
      "594:\tlearn: 0.2946899\ttotal: 1.48s\tremaining: 1.01s\n",
      "595:\tlearn: 0.2942756\ttotal: 1.48s\tremaining: 1s\n",
      "596:\tlearn: 0.2940814\ttotal: 1.48s\tremaining: 1s\n",
      "597:\tlearn: 0.2939688\ttotal: 1.48s\tremaining: 998ms\n",
      "598:\tlearn: 0.2936459\ttotal: 1.49s\tremaining: 995ms\n",
      "599:\tlearn: 0.2935027\ttotal: 1.49s\tremaining: 992ms\n",
      "600:\tlearn: 0.2931828\ttotal: 1.49s\tremaining: 989ms\n",
      "601:\tlearn: 0.2928239\ttotal: 1.49s\tremaining: 987ms\n",
      "602:\tlearn: 0.2925803\ttotal: 1.49s\tremaining: 984ms\n",
      "603:\tlearn: 0.2923402\ttotal: 1.5s\tremaining: 981ms\n",
      "604:\tlearn: 0.2921343\ttotal: 1.5s\tremaining: 978ms\n",
      "605:\tlearn: 0.2919474\ttotal: 1.5s\tremaining: 976ms\n",
      "606:\tlearn: 0.2912017\ttotal: 1.5s\tremaining: 974ms\n",
      "607:\tlearn: 0.2910212\ttotal: 1.51s\tremaining: 971ms\n",
      "608:\tlearn: 0.2908217\ttotal: 1.51s\tremaining: 969ms\n",
      "609:\tlearn: 0.2904468\ttotal: 1.51s\tremaining: 966ms\n",
      "610:\tlearn: 0.2902345\ttotal: 1.51s\tremaining: 964ms\n",
      "611:\tlearn: 0.2897748\ttotal: 1.51s\tremaining: 961ms\n",
      "612:\tlearn: 0.2895794\ttotal: 1.52s\tremaining: 958ms\n",
      "613:\tlearn: 0.2892174\ttotal: 1.52s\tremaining: 956ms\n",
      "614:\tlearn: 0.2890453\ttotal: 1.52s\tremaining: 953ms\n",
      "615:\tlearn: 0.2888524\ttotal: 1.52s\tremaining: 950ms\n",
      "616:\tlearn: 0.2883511\ttotal: 1.53s\tremaining: 948ms\n",
      "617:\tlearn: 0.2878825\ttotal: 1.53s\tremaining: 945ms\n",
      "618:\tlearn: 0.2877094\ttotal: 1.53s\tremaining: 943ms\n",
      "619:\tlearn: 0.2873411\ttotal: 1.53s\tremaining: 940ms\n",
      "620:\tlearn: 0.2869779\ttotal: 1.53s\tremaining: 937ms\n",
      "621:\tlearn: 0.2867031\ttotal: 1.54s\tremaining: 935ms\n",
      "622:\tlearn: 0.2862740\ttotal: 1.54s\tremaining: 932ms\n",
      "623:\tlearn: 0.2860208\ttotal: 1.54s\tremaining: 930ms\n",
      "624:\tlearn: 0.2857376\ttotal: 1.54s\tremaining: 927ms\n",
      "625:\tlearn: 0.2855211\ttotal: 1.55s\tremaining: 924ms\n",
      "626:\tlearn: 0.2852768\ttotal: 1.55s\tremaining: 921ms\n",
      "627:\tlearn: 0.2850380\ttotal: 1.55s\tremaining: 918ms\n",
      "628:\tlearn: 0.2844121\ttotal: 1.55s\tremaining: 916ms\n",
      "629:\tlearn: 0.2844030\ttotal: 1.55s\tremaining: 913ms\n",
      "630:\tlearn: 0.2841664\ttotal: 1.56s\tremaining: 910ms\n",
      "631:\tlearn: 0.2839450\ttotal: 1.56s\tremaining: 907ms\n",
      "632:\tlearn: 0.2837575\ttotal: 1.56s\tremaining: 904ms\n",
      "633:\tlearn: 0.2834455\ttotal: 1.56s\tremaining: 902ms\n",
      "634:\tlearn: 0.2832244\ttotal: 1.56s\tremaining: 899ms\n",
      "635:\tlearn: 0.2830115\ttotal: 1.56s\tremaining: 896ms\n"
     ]
    },
    {
     "name": "stdout",
     "output_type": "stream",
     "text": [
      "636:\tlearn: 0.2824811\ttotal: 1.57s\tremaining: 894ms\n",
      "637:\tlearn: 0.2822217\ttotal: 1.57s\tremaining: 891ms\n",
      "638:\tlearn: 0.2820053\ttotal: 1.57s\tremaining: 889ms\n",
      "639:\tlearn: 0.2817058\ttotal: 1.57s\tremaining: 886ms\n",
      "640:\tlearn: 0.2815764\ttotal: 1.58s\tremaining: 883ms\n",
      "641:\tlearn: 0.2813521\ttotal: 1.58s\tremaining: 881ms\n",
      "642:\tlearn: 0.2811043\ttotal: 1.58s\tremaining: 878ms\n",
      "643:\tlearn: 0.2810192\ttotal: 1.58s\tremaining: 876ms\n",
      "644:\tlearn: 0.2805284\ttotal: 1.59s\tremaining: 873ms\n",
      "645:\tlearn: 0.2803859\ttotal: 1.59s\tremaining: 870ms\n",
      "646:\tlearn: 0.2800560\ttotal: 1.59s\tremaining: 868ms\n",
      "647:\tlearn: 0.2797462\ttotal: 1.59s\tremaining: 865ms\n",
      "648:\tlearn: 0.2796455\ttotal: 1.59s\tremaining: 862ms\n",
      "649:\tlearn: 0.2793745\ttotal: 1.6s\tremaining: 860ms\n",
      "650:\tlearn: 0.2792878\ttotal: 1.6s\tremaining: 858ms\n",
      "651:\tlearn: 0.2791262\ttotal: 1.6s\tremaining: 855ms\n",
      "652:\tlearn: 0.2790028\ttotal: 1.6s\tremaining: 852ms\n",
      "653:\tlearn: 0.2787765\ttotal: 1.6s\tremaining: 849ms\n",
      "654:\tlearn: 0.2786293\ttotal: 1.61s\tremaining: 847ms\n",
      "655:\tlearn: 0.2783964\ttotal: 1.61s\tremaining: 844ms\n",
      "656:\tlearn: 0.2780940\ttotal: 1.61s\tremaining: 841ms\n",
      "657:\tlearn: 0.2778851\ttotal: 1.61s\tremaining: 838ms\n",
      "658:\tlearn: 0.2775088\ttotal: 1.61s\tremaining: 836ms\n",
      "659:\tlearn: 0.2771911\ttotal: 1.62s\tremaining: 833ms\n",
      "660:\tlearn: 0.2769476\ttotal: 1.62s\tremaining: 830ms\n",
      "661:\tlearn: 0.2767377\ttotal: 1.62s\tremaining: 827ms\n",
      "662:\tlearn: 0.2765238\ttotal: 1.62s\tremaining: 824ms\n",
      "663:\tlearn: 0.2763320\ttotal: 1.62s\tremaining: 822ms\n",
      "664:\tlearn: 0.2760671\ttotal: 1.63s\tremaining: 819ms\n",
      "665:\tlearn: 0.2757156\ttotal: 1.63s\tremaining: 816ms\n",
      "666:\tlearn: 0.2753069\ttotal: 1.63s\tremaining: 813ms\n",
      "667:\tlearn: 0.2749753\ttotal: 1.63s\tremaining: 810ms\n",
      "668:\tlearn: 0.2746795\ttotal: 1.63s\tremaining: 808ms\n",
      "669:\tlearn: 0.2743783\ttotal: 1.63s\tremaining: 805ms\n",
      "670:\tlearn: 0.2742302\ttotal: 1.64s\tremaining: 802ms\n",
      "671:\tlearn: 0.2738453\ttotal: 1.64s\tremaining: 800ms\n",
      "672:\tlearn: 0.2735013\ttotal: 1.64s\tremaining: 797ms\n",
      "673:\tlearn: 0.2733613\ttotal: 1.64s\tremaining: 795ms\n",
      "674:\tlearn: 0.2731019\ttotal: 1.64s\tremaining: 792ms\n",
      "675:\tlearn: 0.2727412\ttotal: 1.65s\tremaining: 789ms\n",
      "676:\tlearn: 0.2723526\ttotal: 1.65s\tremaining: 786ms\n",
      "677:\tlearn: 0.2723108\ttotal: 1.65s\tremaining: 783ms\n",
      "678:\tlearn: 0.2719742\ttotal: 1.65s\tremaining: 781ms\n",
      "679:\tlearn: 0.2717239\ttotal: 1.65s\tremaining: 778ms\n",
      "680:\tlearn: 0.2715716\ttotal: 1.65s\tremaining: 775ms\n",
      "681:\tlearn: 0.2713841\ttotal: 1.66s\tremaining: 772ms\n",
      "682:\tlearn: 0.2711852\ttotal: 1.66s\tremaining: 770ms\n",
      "683:\tlearn: 0.2708347\ttotal: 1.66s\tremaining: 767ms\n",
      "684:\tlearn: 0.2702986\ttotal: 1.66s\tremaining: 764ms\n",
      "685:\tlearn: 0.2700827\ttotal: 1.66s\tremaining: 761ms\n",
      "686:\tlearn: 0.2696232\ttotal: 1.67s\tremaining: 759ms\n",
      "687:\tlearn: 0.2694061\ttotal: 1.67s\tremaining: 756ms\n",
      "688:\tlearn: 0.2690082\ttotal: 1.67s\tremaining: 753ms\n",
      "689:\tlearn: 0.2686373\ttotal: 1.67s\tremaining: 750ms\n",
      "690:\tlearn: 0.2683360\ttotal: 1.67s\tremaining: 748ms\n",
      "691:\tlearn: 0.2681952\ttotal: 1.67s\tremaining: 745ms\n",
      "692:\tlearn: 0.2681119\ttotal: 1.68s\tremaining: 742ms\n",
      "693:\tlearn: 0.2679487\ttotal: 1.68s\tremaining: 739ms\n",
      "694:\tlearn: 0.2677197\ttotal: 1.68s\tremaining: 737ms\n",
      "695:\tlearn: 0.2673221\ttotal: 1.68s\tremaining: 734ms\n",
      "696:\tlearn: 0.2671046\ttotal: 1.68s\tremaining: 731ms\n",
      "697:\tlearn: 0.2668525\ttotal: 1.68s\tremaining: 729ms\n",
      "698:\tlearn: 0.2664713\ttotal: 1.69s\tremaining: 726ms\n",
      "699:\tlearn: 0.2662337\ttotal: 1.69s\tremaining: 723ms\n",
      "700:\tlearn: 0.2659634\ttotal: 1.69s\tremaining: 720ms\n",
      "701:\tlearn: 0.2658389\ttotal: 1.69s\tremaining: 718ms\n",
      "702:\tlearn: 0.2655865\ttotal: 1.69s\tremaining: 715ms\n",
      "703:\tlearn: 0.2654705\ttotal: 1.69s\tremaining: 712ms\n",
      "704:\tlearn: 0.2653985\ttotal: 1.7s\tremaining: 710ms\n",
      "705:\tlearn: 0.2652021\ttotal: 1.7s\tremaining: 707ms\n",
      "706:\tlearn: 0.2648839\ttotal: 1.7s\tremaining: 704ms\n",
      "707:\tlearn: 0.2645985\ttotal: 1.7s\tremaining: 701ms\n",
      "708:\tlearn: 0.2644825\ttotal: 1.7s\tremaining: 699ms\n",
      "709:\tlearn: 0.2641485\ttotal: 1.7s\tremaining: 696ms\n",
      "710:\tlearn: 0.2639562\ttotal: 1.71s\tremaining: 694ms\n",
      "711:\tlearn: 0.2638980\ttotal: 1.71s\tremaining: 691ms\n",
      "712:\tlearn: 0.2635897\ttotal: 1.71s\tremaining: 688ms\n",
      "713:\tlearn: 0.2633492\ttotal: 1.71s\tremaining: 686ms\n",
      "714:\tlearn: 0.2630588\ttotal: 1.71s\tremaining: 683ms\n",
      "715:\tlearn: 0.2629177\ttotal: 1.72s\tremaining: 680ms\n",
      "716:\tlearn: 0.2626876\ttotal: 1.72s\tremaining: 678ms\n",
      "717:\tlearn: 0.2622982\ttotal: 1.72s\tremaining: 675ms\n",
      "718:\tlearn: 0.2621945\ttotal: 1.72s\tremaining: 672ms\n",
      "719:\tlearn: 0.2620174\ttotal: 1.72s\tremaining: 670ms\n",
      "720:\tlearn: 0.2617397\ttotal: 1.72s\tremaining: 667ms\n",
      "721:\tlearn: 0.2613663\ttotal: 1.73s\tremaining: 665ms\n",
      "722:\tlearn: 0.2610808\ttotal: 1.73s\tremaining: 663ms\n",
      "723:\tlearn: 0.2608410\ttotal: 1.73s\tremaining: 660ms\n",
      "724:\tlearn: 0.2606373\ttotal: 1.73s\tremaining: 658ms\n",
      "725:\tlearn: 0.2605696\ttotal: 1.74s\tremaining: 655ms\n",
      "726:\tlearn: 0.2603276\ttotal: 1.74s\tremaining: 653ms\n",
      "727:\tlearn: 0.2600484\ttotal: 1.74s\tremaining: 650ms\n",
      "728:\tlearn: 0.2599052\ttotal: 1.74s\tremaining: 648ms\n",
      "729:\tlearn: 0.2597819\ttotal: 1.75s\tremaining: 645ms\n",
      "730:\tlearn: 0.2596122\ttotal: 1.75s\tremaining: 643ms\n",
      "731:\tlearn: 0.2593967\ttotal: 1.75s\tremaining: 640ms\n",
      "732:\tlearn: 0.2592142\ttotal: 1.75s\tremaining: 638ms\n",
      "733:\tlearn: 0.2590386\ttotal: 1.75s\tremaining: 635ms\n",
      "734:\tlearn: 0.2586728\ttotal: 1.75s\tremaining: 633ms\n",
      "735:\tlearn: 0.2585526\ttotal: 1.76s\tremaining: 630ms\n",
      "736:\tlearn: 0.2580849\ttotal: 1.76s\tremaining: 627ms\n",
      "737:\tlearn: 0.2579097\ttotal: 1.76s\tremaining: 625ms\n",
      "738:\tlearn: 0.2577365\ttotal: 1.76s\tremaining: 622ms\n",
      "739:\tlearn: 0.2573615\ttotal: 1.76s\tremaining: 620ms\n",
      "740:\tlearn: 0.2571741\ttotal: 1.77s\tremaining: 617ms\n",
      "741:\tlearn: 0.2568114\ttotal: 1.77s\tremaining: 615ms\n",
      "742:\tlearn: 0.2564865\ttotal: 1.77s\tremaining: 612ms\n",
      "743:\tlearn: 0.2562691\ttotal: 1.77s\tremaining: 610ms\n",
      "744:\tlearn: 0.2560694\ttotal: 1.77s\tremaining: 607ms\n",
      "745:\tlearn: 0.2556819\ttotal: 1.78s\tremaining: 605ms\n",
      "746:\tlearn: 0.2555486\ttotal: 1.78s\tremaining: 602ms\n",
      "747:\tlearn: 0.2553229\ttotal: 1.78s\tremaining: 600ms\n",
      "748:\tlearn: 0.2551039\ttotal: 1.78s\tremaining: 597ms\n",
      "749:\tlearn: 0.2550059\ttotal: 1.78s\tremaining: 595ms\n",
      "750:\tlearn: 0.2548606\ttotal: 1.78s\tremaining: 592ms\n",
      "751:\tlearn: 0.2547188\ttotal: 1.79s\tremaining: 590ms\n",
      "752:\tlearn: 0.2544632\ttotal: 1.79s\tremaining: 587ms\n",
      "753:\tlearn: 0.2540632\ttotal: 1.79s\tremaining: 585ms\n",
      "754:\tlearn: 0.2536280\ttotal: 1.79s\tremaining: 582ms\n",
      "755:\tlearn: 0.2534008\ttotal: 1.79s\tremaining: 580ms\n",
      "756:\tlearn: 0.2531322\ttotal: 1.8s\tremaining: 577ms\n",
      "757:\tlearn: 0.2526871\ttotal: 1.8s\tremaining: 575ms\n",
      "758:\tlearn: 0.2524473\ttotal: 1.8s\tremaining: 572ms\n",
      "759:\tlearn: 0.2523433\ttotal: 1.8s\tremaining: 570ms\n",
      "760:\tlearn: 0.2520602\ttotal: 1.8s\tremaining: 567ms\n",
      "761:\tlearn: 0.2518546\ttotal: 1.81s\tremaining: 565ms\n",
      "762:\tlearn: 0.2516236\ttotal: 1.81s\tremaining: 562ms\n",
      "763:\tlearn: 0.2516159\ttotal: 1.81s\tremaining: 559ms\n",
      "764:\tlearn: 0.2514061\ttotal: 1.81s\tremaining: 557ms\n",
      "765:\tlearn: 0.2511478\ttotal: 1.81s\tremaining: 555ms\n",
      "766:\tlearn: 0.2508623\ttotal: 1.82s\tremaining: 552ms\n",
      "767:\tlearn: 0.2507776\ttotal: 1.82s\tremaining: 549ms\n",
      "768:\tlearn: 0.2505945\ttotal: 1.82s\tremaining: 547ms\n",
      "769:\tlearn: 0.2503999\ttotal: 1.82s\tremaining: 544ms\n",
      "770:\tlearn: 0.2502629\ttotal: 1.82s\tremaining: 542ms\n",
      "771:\tlearn: 0.2499425\ttotal: 1.83s\tremaining: 540ms\n",
      "772:\tlearn: 0.2496862\ttotal: 1.83s\tremaining: 537ms\n",
      "773:\tlearn: 0.2494822\ttotal: 1.83s\tremaining: 535ms\n",
      "774:\tlearn: 0.2492191\ttotal: 1.83s\tremaining: 533ms\n",
      "775:\tlearn: 0.2488477\ttotal: 1.84s\tremaining: 530ms\n",
      "776:\tlearn: 0.2486483\ttotal: 1.84s\tremaining: 528ms\n",
      "777:\tlearn: 0.2482189\ttotal: 1.84s\tremaining: 525ms\n",
      "778:\tlearn: 0.2482114\ttotal: 1.84s\tremaining: 523ms\n",
      "779:\tlearn: 0.2479988\ttotal: 1.84s\tremaining: 520ms\n",
      "780:\tlearn: 0.2476996\ttotal: 1.84s\tremaining: 518ms\n",
      "781:\tlearn: 0.2474068\ttotal: 1.85s\tremaining: 515ms\n",
      "782:\tlearn: 0.2470192\ttotal: 1.85s\tremaining: 513ms\n",
      "783:\tlearn: 0.2467732\ttotal: 1.85s\tremaining: 510ms\n",
      "784:\tlearn: 0.2465452\ttotal: 1.85s\tremaining: 508ms\n",
      "785:\tlearn: 0.2461876\ttotal: 1.86s\tremaining: 505ms\n",
      "786:\tlearn: 0.2459758\ttotal: 1.86s\tremaining: 503ms\n",
      "787:\tlearn: 0.2456713\ttotal: 1.86s\tremaining: 501ms\n",
      "788:\tlearn: 0.2455874\ttotal: 1.86s\tremaining: 498ms\n",
      "789:\tlearn: 0.2453772\ttotal: 1.86s\tremaining: 496ms\n",
      "790:\tlearn: 0.2451737\ttotal: 1.87s\tremaining: 494ms\n",
      "791:\tlearn: 0.2449785\ttotal: 1.87s\tremaining: 492ms\n",
      "792:\tlearn: 0.2446464\ttotal: 1.88s\tremaining: 489ms\n",
      "793:\tlearn: 0.2444407\ttotal: 1.88s\tremaining: 487ms\n",
      "794:\tlearn: 0.2440253\ttotal: 1.88s\tremaining: 485ms\n",
      "795:\tlearn: 0.2437403\ttotal: 1.88s\tremaining: 483ms\n"
     ]
    },
    {
     "name": "stdout",
     "output_type": "stream",
     "text": [
      "796:\tlearn: 0.2433087\ttotal: 1.89s\tremaining: 481ms\n",
      "797:\tlearn: 0.2431780\ttotal: 1.89s\tremaining: 478ms\n",
      "798:\tlearn: 0.2429900\ttotal: 1.89s\tremaining: 477ms\n",
      "799:\tlearn: 0.2426651\ttotal: 1.9s\tremaining: 474ms\n",
      "800:\tlearn: 0.2426019\ttotal: 1.9s\tremaining: 472ms\n",
      "801:\tlearn: 0.2424601\ttotal: 1.9s\tremaining: 469ms\n",
      "802:\tlearn: 0.2422302\ttotal: 1.9s\tremaining: 467ms\n",
      "803:\tlearn: 0.2418883\ttotal: 1.91s\tremaining: 465ms\n",
      "804:\tlearn: 0.2415487\ttotal: 1.91s\tremaining: 462ms\n",
      "805:\tlearn: 0.2410986\ttotal: 1.91s\tremaining: 460ms\n",
      "806:\tlearn: 0.2408711\ttotal: 1.91s\tremaining: 457ms\n",
      "807:\tlearn: 0.2406763\ttotal: 1.92s\tremaining: 455ms\n",
      "808:\tlearn: 0.2401681\ttotal: 1.92s\tremaining: 453ms\n",
      "809:\tlearn: 0.2398276\ttotal: 1.92s\tremaining: 451ms\n",
      "810:\tlearn: 0.2395639\ttotal: 1.92s\tremaining: 448ms\n",
      "811:\tlearn: 0.2393349\ttotal: 1.93s\tremaining: 446ms\n",
      "812:\tlearn: 0.2390895\ttotal: 1.93s\tremaining: 444ms\n",
      "813:\tlearn: 0.2388662\ttotal: 1.93s\tremaining: 442ms\n",
      "814:\tlearn: 0.2386428\ttotal: 1.94s\tremaining: 439ms\n",
      "815:\tlearn: 0.2384133\ttotal: 1.94s\tremaining: 437ms\n",
      "816:\tlearn: 0.2382202\ttotal: 1.94s\tremaining: 435ms\n",
      "817:\tlearn: 0.2380436\ttotal: 1.94s\tremaining: 432ms\n",
      "818:\tlearn: 0.2377132\ttotal: 1.95s\tremaining: 431ms\n",
      "819:\tlearn: 0.2374880\ttotal: 1.95s\tremaining: 428ms\n",
      "820:\tlearn: 0.2372801\ttotal: 1.95s\tremaining: 426ms\n",
      "821:\tlearn: 0.2370802\ttotal: 1.95s\tremaining: 423ms\n",
      "822:\tlearn: 0.2368970\ttotal: 1.96s\tremaining: 421ms\n",
      "823:\tlearn: 0.2366381\ttotal: 1.96s\tremaining: 419ms\n",
      "824:\tlearn: 0.2365923\ttotal: 1.96s\tremaining: 417ms\n",
      "825:\tlearn: 0.2364013\ttotal: 1.97s\tremaining: 414ms\n",
      "826:\tlearn: 0.2362541\ttotal: 1.97s\tremaining: 412ms\n",
      "827:\tlearn: 0.2360040\ttotal: 1.97s\tremaining: 409ms\n",
      "828:\tlearn: 0.2356239\ttotal: 1.97s\tremaining: 407ms\n",
      "829:\tlearn: 0.2355212\ttotal: 1.98s\tremaining: 405ms\n",
      "830:\tlearn: 0.2354046\ttotal: 1.98s\tremaining: 402ms\n",
      "831:\tlearn: 0.2353169\ttotal: 1.98s\tremaining: 400ms\n",
      "832:\tlearn: 0.2351524\ttotal: 1.98s\tremaining: 397ms\n",
      "833:\tlearn: 0.2348540\ttotal: 1.98s\tremaining: 395ms\n",
      "834:\tlearn: 0.2345576\ttotal: 1.99s\tremaining: 393ms\n",
      "835:\tlearn: 0.2343274\ttotal: 1.99s\tremaining: 390ms\n",
      "836:\tlearn: 0.2341788\ttotal: 1.99s\tremaining: 388ms\n",
      "837:\tlearn: 0.2338369\ttotal: 1.99s\tremaining: 385ms\n",
      "838:\tlearn: 0.2335355\ttotal: 2s\tremaining: 383ms\n",
      "839:\tlearn: 0.2333674\ttotal: 2s\tremaining: 381ms\n",
      "840:\tlearn: 0.2331894\ttotal: 2s\tremaining: 378ms\n",
      "841:\tlearn: 0.2329043\ttotal: 2s\tremaining: 376ms\n",
      "842:\tlearn: 0.2327601\ttotal: 2s\tremaining: 373ms\n",
      "843:\tlearn: 0.2325189\ttotal: 2s\tremaining: 371ms\n",
      "844:\tlearn: 0.2322962\ttotal: 2.01s\tremaining: 368ms\n",
      "845:\tlearn: 0.2320000\ttotal: 2.01s\tremaining: 366ms\n",
      "846:\tlearn: 0.2318983\ttotal: 2.01s\tremaining: 363ms\n",
      "847:\tlearn: 0.2317549\ttotal: 2.01s\tremaining: 361ms\n",
      "848:\tlearn: 0.2315933\ttotal: 2.02s\tremaining: 359ms\n",
      "849:\tlearn: 0.2313190\ttotal: 2.02s\tremaining: 357ms\n",
      "850:\tlearn: 0.2311191\ttotal: 2.02s\tremaining: 354ms\n",
      "851:\tlearn: 0.2308184\ttotal: 2.02s\tremaining: 352ms\n",
      "852:\tlearn: 0.2305516\ttotal: 2.02s\tremaining: 349ms\n",
      "853:\tlearn: 0.2303341\ttotal: 2.03s\tremaining: 347ms\n",
      "854:\tlearn: 0.2300262\ttotal: 2.03s\tremaining: 344ms\n",
      "855:\tlearn: 0.2298869\ttotal: 2.03s\tremaining: 342ms\n",
      "856:\tlearn: 0.2296243\ttotal: 2.03s\tremaining: 339ms\n",
      "857:\tlearn: 0.2294652\ttotal: 2.03s\tremaining: 337ms\n",
      "858:\tlearn: 0.2292896\ttotal: 2.04s\tremaining: 334ms\n",
      "859:\tlearn: 0.2291033\ttotal: 2.04s\tremaining: 332ms\n",
      "860:\tlearn: 0.2287995\ttotal: 2.04s\tremaining: 329ms\n",
      "861:\tlearn: 0.2285517\ttotal: 2.04s\tremaining: 327ms\n",
      "862:\tlearn: 0.2283686\ttotal: 2.04s\tremaining: 325ms\n",
      "863:\tlearn: 0.2280876\ttotal: 2.05s\tremaining: 322ms\n",
      "864:\tlearn: 0.2278788\ttotal: 2.05s\tremaining: 320ms\n",
      "865:\tlearn: 0.2275955\ttotal: 2.05s\tremaining: 317ms\n",
      "866:\tlearn: 0.2274228\ttotal: 2.05s\tremaining: 315ms\n",
      "867:\tlearn: 0.2271489\ttotal: 2.05s\tremaining: 312ms\n",
      "868:\tlearn: 0.2269932\ttotal: 2.06s\tremaining: 310ms\n",
      "869:\tlearn: 0.2268277\ttotal: 2.06s\tremaining: 308ms\n",
      "870:\tlearn: 0.2264909\ttotal: 2.06s\tremaining: 305ms\n",
      "871:\tlearn: 0.2261598\ttotal: 2.06s\tremaining: 303ms\n",
      "872:\tlearn: 0.2259892\ttotal: 2.06s\tremaining: 300ms\n",
      "873:\tlearn: 0.2259295\ttotal: 2.07s\tremaining: 298ms\n",
      "874:\tlearn: 0.2255530\ttotal: 2.07s\tremaining: 295ms\n",
      "875:\tlearn: 0.2253343\ttotal: 2.07s\tremaining: 294ms\n",
      "876:\tlearn: 0.2251160\ttotal: 2.08s\tremaining: 291ms\n",
      "877:\tlearn: 0.2249486\ttotal: 2.08s\tremaining: 289ms\n",
      "878:\tlearn: 0.2248471\ttotal: 2.08s\tremaining: 286ms\n",
      "879:\tlearn: 0.2246736\ttotal: 2.08s\tremaining: 284ms\n",
      "880:\tlearn: 0.2243873\ttotal: 2.08s\tremaining: 281ms\n",
      "881:\tlearn: 0.2241136\ttotal: 2.08s\tremaining: 279ms\n",
      "882:\tlearn: 0.2239501\ttotal: 2.09s\tremaining: 276ms\n",
      "883:\tlearn: 0.2238716\ttotal: 2.09s\tremaining: 274ms\n",
      "884:\tlearn: 0.2236684\ttotal: 2.09s\tremaining: 272ms\n",
      "885:\tlearn: 0.2234736\ttotal: 2.09s\tremaining: 269ms\n",
      "886:\tlearn: 0.2230940\ttotal: 2.09s\tremaining: 267ms\n",
      "887:\tlearn: 0.2227529\ttotal: 2.1s\tremaining: 264ms\n",
      "888:\tlearn: 0.2225189\ttotal: 2.1s\tremaining: 262ms\n",
      "889:\tlearn: 0.2222928\ttotal: 2.1s\tremaining: 260ms\n",
      "890:\tlearn: 0.2221900\ttotal: 2.1s\tremaining: 257ms\n",
      "891:\tlearn: 0.2220540\ttotal: 2.1s\tremaining: 255ms\n",
      "892:\tlearn: 0.2217890\ttotal: 2.1s\tremaining: 252ms\n",
      "893:\tlearn: 0.2216547\ttotal: 2.11s\tremaining: 250ms\n",
      "894:\tlearn: 0.2214177\ttotal: 2.11s\tremaining: 247ms\n",
      "895:\tlearn: 0.2213021\ttotal: 2.11s\tremaining: 245ms\n",
      "896:\tlearn: 0.2210477\ttotal: 2.11s\tremaining: 243ms\n",
      "897:\tlearn: 0.2208582\ttotal: 2.11s\tremaining: 240ms\n",
      "898:\tlearn: 0.2204889\ttotal: 2.12s\tremaining: 238ms\n",
      "899:\tlearn: 0.2202677\ttotal: 2.12s\tremaining: 235ms\n",
      "900:\tlearn: 0.2201118\ttotal: 2.12s\tremaining: 233ms\n",
      "901:\tlearn: 0.2200006\ttotal: 2.12s\tremaining: 231ms\n",
      "902:\tlearn: 0.2199011\ttotal: 2.12s\tremaining: 228ms\n",
      "903:\tlearn: 0.2196748\ttotal: 2.13s\tremaining: 226ms\n",
      "904:\tlearn: 0.2194074\ttotal: 2.13s\tremaining: 223ms\n",
      "905:\tlearn: 0.2191431\ttotal: 2.13s\tremaining: 221ms\n",
      "906:\tlearn: 0.2189954\ttotal: 2.13s\tremaining: 218ms\n",
      "907:\tlearn: 0.2188689\ttotal: 2.13s\tremaining: 216ms\n",
      "908:\tlearn: 0.2187222\ttotal: 2.13s\tremaining: 214ms\n",
      "909:\tlearn: 0.2185158\ttotal: 2.13s\tremaining: 211ms\n",
      "910:\tlearn: 0.2183022\ttotal: 2.14s\tremaining: 209ms\n",
      "911:\tlearn: 0.2182134\ttotal: 2.14s\tremaining: 206ms\n",
      "912:\tlearn: 0.2179138\ttotal: 2.14s\tremaining: 204ms\n",
      "913:\tlearn: 0.2175947\ttotal: 2.14s\tremaining: 202ms\n",
      "914:\tlearn: 0.2173076\ttotal: 2.14s\tremaining: 199ms\n",
      "915:\tlearn: 0.2171633\ttotal: 2.15s\tremaining: 197ms\n",
      "916:\tlearn: 0.2168151\ttotal: 2.15s\tremaining: 194ms\n",
      "917:\tlearn: 0.2166684\ttotal: 2.15s\tremaining: 192ms\n",
      "918:\tlearn: 0.2164408\ttotal: 2.15s\tremaining: 190ms\n",
      "919:\tlearn: 0.2160999\ttotal: 2.15s\tremaining: 187ms\n",
      "920:\tlearn: 0.2159826\ttotal: 2.15s\tremaining: 185ms\n",
      "921:\tlearn: 0.2158130\ttotal: 2.16s\tremaining: 183ms\n",
      "922:\tlearn: 0.2154881\ttotal: 2.16s\tremaining: 180ms\n",
      "923:\tlearn: 0.2151766\ttotal: 2.16s\tremaining: 178ms\n",
      "924:\tlearn: 0.2150123\ttotal: 2.16s\tremaining: 175ms\n",
      "925:\tlearn: 0.2147108\ttotal: 2.16s\tremaining: 173ms\n",
      "926:\tlearn: 0.2145402\ttotal: 2.17s\tremaining: 171ms\n",
      "927:\tlearn: 0.2143652\ttotal: 2.17s\tremaining: 168ms\n",
      "928:\tlearn: 0.2141512\ttotal: 2.17s\tremaining: 166ms\n",
      "929:\tlearn: 0.2140041\ttotal: 2.17s\tremaining: 163ms\n",
      "930:\tlearn: 0.2139490\ttotal: 2.17s\tremaining: 161ms\n",
      "931:\tlearn: 0.2138545\ttotal: 2.17s\tremaining: 159ms\n",
      "932:\tlearn: 0.2137571\ttotal: 2.18s\tremaining: 156ms\n",
      "933:\tlearn: 0.2135251\ttotal: 2.18s\tremaining: 154ms\n",
      "934:\tlearn: 0.2132190\ttotal: 2.18s\tremaining: 152ms\n",
      "935:\tlearn: 0.2129440\ttotal: 2.18s\tremaining: 149ms\n",
      "936:\tlearn: 0.2126498\ttotal: 2.19s\tremaining: 147ms\n",
      "937:\tlearn: 0.2124885\ttotal: 2.19s\tremaining: 145ms\n",
      "938:\tlearn: 0.2122136\ttotal: 2.19s\tremaining: 142ms\n",
      "939:\tlearn: 0.2120609\ttotal: 2.19s\tremaining: 140ms\n",
      "940:\tlearn: 0.2119793\ttotal: 2.19s\tremaining: 138ms\n",
      "941:\tlearn: 0.2117797\ttotal: 2.19s\tremaining: 135ms\n",
      "942:\tlearn: 0.2115860\ttotal: 2.2s\tremaining: 133ms\n",
      "943:\tlearn: 0.2113824\ttotal: 2.2s\tremaining: 130ms\n",
      "944:\tlearn: 0.2112960\ttotal: 2.2s\tremaining: 128ms\n",
      "945:\tlearn: 0.2112252\ttotal: 2.2s\tremaining: 126ms\n",
      "946:\tlearn: 0.2110556\ttotal: 2.21s\tremaining: 123ms\n",
      "947:\tlearn: 0.2109106\ttotal: 2.21s\tremaining: 121ms\n",
      "948:\tlearn: 0.2107788\ttotal: 2.21s\tremaining: 119ms\n",
      "949:\tlearn: 0.2106280\ttotal: 2.21s\tremaining: 116ms\n",
      "950:\tlearn: 0.2102298\ttotal: 2.21s\tremaining: 114ms\n",
      "951:\tlearn: 0.2101635\ttotal: 2.21s\tremaining: 112ms\n",
      "952:\tlearn: 0.2099802\ttotal: 2.22s\tremaining: 109ms\n",
      "953:\tlearn: 0.2098093\ttotal: 2.22s\tremaining: 107ms\n",
      "954:\tlearn: 0.2096588\ttotal: 2.22s\tremaining: 105ms\n",
      "955:\tlearn: 0.2093330\ttotal: 2.22s\tremaining: 102ms\n",
      "956:\tlearn: 0.2092130\ttotal: 2.23s\tremaining: 100ms\n",
      "957:\tlearn: 0.2091441\ttotal: 2.23s\tremaining: 97.7ms\n",
      "958:\tlearn: 0.2089838\ttotal: 2.23s\tremaining: 95.4ms\n",
      "959:\tlearn: 0.2088241\ttotal: 2.23s\tremaining: 93ms\n",
      "960:\tlearn: 0.2087175\ttotal: 2.23s\tremaining: 90.7ms\n",
      "961:\tlearn: 0.2083831\ttotal: 2.24s\tremaining: 88.4ms\n",
      "962:\tlearn: 0.2082260\ttotal: 2.24s\tremaining: 86ms\n",
      "963:\tlearn: 0.2078614\ttotal: 2.24s\tremaining: 83.7ms\n",
      "964:\tlearn: 0.2076805\ttotal: 2.24s\tremaining: 81.4ms\n",
      "965:\tlearn: 0.2074865\ttotal: 2.24s\tremaining: 79ms\n",
      "966:\tlearn: 0.2072564\ttotal: 2.25s\tremaining: 76.7ms\n",
      "967:\tlearn: 0.2070267\ttotal: 2.25s\tremaining: 74.3ms\n",
      "968:\tlearn: 0.2067444\ttotal: 2.25s\tremaining: 72ms\n",
      "969:\tlearn: 0.2065607\ttotal: 2.25s\tremaining: 69.7ms\n",
      "970:\tlearn: 0.2062093\ttotal: 2.25s\tremaining: 67.3ms\n",
      "971:\tlearn: 0.2059276\ttotal: 2.26s\tremaining: 65ms\n",
      "972:\tlearn: 0.2057220\ttotal: 2.26s\tremaining: 62.7ms\n",
      "973:\tlearn: 0.2054521\ttotal: 2.26s\tremaining: 60.3ms\n",
      "974:\tlearn: 0.2053503\ttotal: 2.26s\tremaining: 58ms\n",
      "975:\tlearn: 0.2052538\ttotal: 2.26s\tremaining: 55.7ms\n",
      "976:\tlearn: 0.2050379\ttotal: 2.27s\tremaining: 53.3ms\n",
      "977:\tlearn: 0.2048905\ttotal: 2.27s\tremaining: 51ms\n",
      "978:\tlearn: 0.2046322\ttotal: 2.27s\tremaining: 48.7ms\n",
      "979:\tlearn: 0.2044141\ttotal: 2.27s\tremaining: 46.4ms\n",
      "980:\tlearn: 0.2041633\ttotal: 2.27s\tremaining: 44.1ms\n",
      "981:\tlearn: 0.2039629\ttotal: 2.28s\tremaining: 41.7ms\n",
      "982:\tlearn: 0.2038426\ttotal: 2.28s\tremaining: 39.4ms\n",
      "983:\tlearn: 0.2037600\ttotal: 2.28s\tremaining: 37.1ms\n",
      "984:\tlearn: 0.2034525\ttotal: 2.28s\tremaining: 34.7ms\n",
      "985:\tlearn: 0.2033144\ttotal: 2.28s\tremaining: 32.4ms\n",
      "986:\tlearn: 0.2031512\ttotal: 2.29s\tremaining: 30.1ms\n",
      "987:\tlearn: 0.2028734\ttotal: 2.29s\tremaining: 27.8ms\n",
      "988:\tlearn: 0.2026986\ttotal: 2.29s\tremaining: 25.5ms\n",
      "989:\tlearn: 0.2023206\ttotal: 2.29s\tremaining: 23.1ms\n",
      "990:\tlearn: 0.2021399\ttotal: 2.29s\tremaining: 20.8ms\n",
      "991:\tlearn: 0.2019152\ttotal: 2.29s\tremaining: 18.5ms\n",
      "992:\tlearn: 0.2017361\ttotal: 2.3s\tremaining: 16.2ms\n",
      "993:\tlearn: 0.2016035\ttotal: 2.3s\tremaining: 13.9ms\n",
      "994:\tlearn: 0.2014021\ttotal: 2.3s\tremaining: 11.6ms\n",
      "995:\tlearn: 0.2011796\ttotal: 2.3s\tremaining: 9.25ms\n",
      "996:\tlearn: 0.2011359\ttotal: 2.3s\tremaining: 6.93ms\n",
      "997:\tlearn: 0.2010267\ttotal: 2.31s\tremaining: 4.62ms\n",
      "998:\tlearn: 0.2006412\ttotal: 2.31s\tremaining: 2.31ms\n",
      "999:\tlearn: 0.2004217\ttotal: 2.31s\tremaining: 0us\n"
     ]
    },
    {
     "data": {
      "text/plain": [
       "<catboost.core.CatBoostClassifier at 0x24210e2be88>"
      ]
     },
     "execution_count": 161,
     "metadata": {},
     "output_type": "execute_result"
    }
   ],
   "source": [
    "cat=CatBoostClassifier()\n",
    "cat.fit(xtrain,ytrain)"
   ]
  },
  {
   "cell_type": "code",
   "execution_count": 163,
   "metadata": {},
   "outputs": [
    {
     "data": {
      "text/plain": [
       "79.12087912087912"
      ]
     },
     "execution_count": 163,
     "metadata": {},
     "output_type": "execute_result"
    }
   ],
   "source": [
    "cat.score(xtest,ytest)*100"
   ]
  },
  {
   "cell_type": "code",
   "execution_count": 165,
   "metadata": {},
   "outputs": [
    {
     "data": {
      "text/html": [
       "<div>\n",
       "<style scoped>\n",
       "    .dataframe tbody tr th:only-of-type {\n",
       "        vertical-align: middle;\n",
       "    }\n",
       "\n",
       "    .dataframe tbody tr th {\n",
       "        vertical-align: top;\n",
       "    }\n",
       "\n",
       "    .dataframe thead th {\n",
       "        text-align: right;\n",
       "    }\n",
       "</style>\n",
       "<table border=\"1\" class=\"dataframe\">\n",
       "  <thead>\n",
       "    <tr style=\"text-align: right;\">\n",
       "      <th></th>\n",
       "      <th>Model</th>\n",
       "      <th>Score</th>\n",
       "    </tr>\n",
       "  </thead>\n",
       "  <tbody>\n",
       "    <tr>\n",
       "      <th>4</th>\n",
       "      <td>BaggingClassifier</td>\n",
       "      <td>79.120879</td>\n",
       "    </tr>\n",
       "    <tr>\n",
       "      <th>9</th>\n",
       "      <td>RandomForestClassifier</td>\n",
       "      <td>78.021978</td>\n",
       "    </tr>\n",
       "    <tr>\n",
       "      <th>1</th>\n",
       "      <td>DecisionTreeClassifier</td>\n",
       "      <td>76.923077</td>\n",
       "    </tr>\n",
       "    <tr>\n",
       "      <th>7</th>\n",
       "      <td>ExtraTreesClassifier</td>\n",
       "      <td>76.923077</td>\n",
       "    </tr>\n",
       "    <tr>\n",
       "      <th>3</th>\n",
       "      <td>AdaBoostClassifier</td>\n",
       "      <td>74.725275</td>\n",
       "    </tr>\n",
       "    <tr>\n",
       "      <th>6</th>\n",
       "      <td>AdaBoostClassifier</td>\n",
       "      <td>74.725275</td>\n",
       "    </tr>\n",
       "    <tr>\n",
       "      <th>0</th>\n",
       "      <td>LogisticRegression</td>\n",
       "      <td>71.428571</td>\n",
       "    </tr>\n",
       "    <tr>\n",
       "      <th>2</th>\n",
       "      <td>KNeighborsClassifier</td>\n",
       "      <td>71.428571</td>\n",
       "    </tr>\n",
       "    <tr>\n",
       "      <th>5</th>\n",
       "      <td>GaussianNB</td>\n",
       "      <td>69.230769</td>\n",
       "    </tr>\n",
       "    <tr>\n",
       "      <th>8</th>\n",
       "      <td>SVM</td>\n",
       "      <td>65.934066</td>\n",
       "    </tr>\n",
       "  </tbody>\n",
       "</table>\n",
       "</div>"
      ],
      "text/plain": [
       "                    Model      Score\n",
       "4       BaggingClassifier  79.120879\n",
       "9  RandomForestClassifier  78.021978\n",
       "1  DecisionTreeClassifier  76.923077\n",
       "7    ExtraTreesClassifier  76.923077\n",
       "3      AdaBoostClassifier  74.725275\n",
       "6      AdaBoostClassifier  74.725275\n",
       "0      LogisticRegression  71.428571\n",
       "2    KNeighborsClassifier  71.428571\n",
       "5              GaussianNB  69.230769\n",
       "8                     SVM  65.934066"
      ]
     },
     "execution_count": 165,
     "metadata": {},
     "output_type": "execute_result"
    }
   ],
   "source": [
    "models = pd.DataFrame({\n",
    "    'Model': ['LogisticRegression','DecisionTreeClassifier','KNeighborsClassifier' , \n",
    "             'AdaBoostClassifier','BaggingClassifier','GaussianNB','AdaBoostClassifier','ExtraTreesClassifier','SVM','RandomForestClassifier'],\n",
    "    'Score': [accu_li,accu_tre, accu_kne, accu_ada,accu_bag,accu_l,accu_ada,accu_etc,accu_svc,accu_rnd]\n",
    "})\n",
    "\n",
    "models.sort_values(by = 'Score', ascending = False)"
   ]
  },
  {
   "cell_type": "code",
   "execution_count": 166,
   "metadata": {},
   "outputs": [
    {
     "data": {
      "image/png": "[encoded data removed]",
      "text/plain": [
       "<Figure size 1080x1080 with 1 Axes>"
      ]
     },
     "metadata": {},
     "output_type": "display_data"
    }
   ],
   "source": [
    "colors = [\"purple\", \"green\", \"orange\", \"magenta\",\"blue\",\"black\",\"red\"]\n",
    "\n",
    "sns.set_style(\"whitegrid\")\n",
    "plt.figure(figsize=(15,15))\n",
    "plt.ylabel(\"Accuracy %\")\n",
    "plt.xlabel(\"Algorithms\")\n",
    "sns.barplot(x=models['Model'],y=models['Score'], palette=colors )\n",
    "plt.show()"
   ]
  },
  {
   "cell_type": "code",
   "execution_count": 167,
   "metadata": {},
   "outputs": [
    {
     "data": {
      "text/html": [
       "<div>\n",
       "<style scoped>\n",
       "    .dataframe tbody tr th:only-of-type {\n",
       "        vertical-align: middle;\n",
       "    }\n",
       "\n",
       "    .dataframe tbody tr th {\n",
       "        vertical-align: top;\n",
       "    }\n",
       "\n",
       "    .dataframe thead th {\n",
       "        text-align: right;\n",
       "    }\n",
       "</style>\n",
       "<table border=\"1\" class=\"dataframe\">\n",
       "  <thead>\n",
       "    <tr style=\"text-align: right;\">\n",
       "      <th></th>\n",
       "      <th>age</th>\n",
       "      <th>sex</th>\n",
       "      <th>cp</th>\n",
       "      <th>trestbps</th>\n",
       "      <th>chol</th>\n",
       "      <th>fbs</th>\n",
       "      <th>restecg</th>\n",
       "      <th>thalach</th>\n",
       "      <th>exang</th>\n",
       "      <th>oldpeak</th>\n",
       "      <th>slope</th>\n",
       "      <th>ca</th>\n",
       "      <th>thal</th>\n",
       "      <th>target</th>\n",
       "    </tr>\n",
       "  </thead>\n",
       "  <tbody>\n",
       "    <tr>\n",
       "      <th>0</th>\n",
       "      <td>63</td>\n",
       "      <td>male</td>\n",
       "      <td>3</td>\n",
       "      <td>145.0</td>\n",
       "      <td>233.0</td>\n",
       "      <td>1</td>\n",
       "      <td>0</td>\n",
       "      <td>150.0</td>\n",
       "      <td>0</td>\n",
       "      <td>2.3</td>\n",
       "      <td>0</td>\n",
       "      <td>0</td>\n",
       "      <td>1</td>\n",
       "      <td>1</td>\n",
       "    </tr>\n",
       "    <tr>\n",
       "      <th>1</th>\n",
       "      <td>37</td>\n",
       "      <td>male</td>\n",
       "      <td>2</td>\n",
       "      <td>130.0</td>\n",
       "      <td>250.0</td>\n",
       "      <td>0</td>\n",
       "      <td>1</td>\n",
       "      <td>187.0</td>\n",
       "      <td>0</td>\n",
       "      <td>3.5</td>\n",
       "      <td>0</td>\n",
       "      <td>0</td>\n",
       "      <td>2</td>\n",
       "      <td>1</td>\n",
       "    </tr>\n",
       "    <tr>\n",
       "      <th>2</th>\n",
       "      <td>41</td>\n",
       "      <td>female</td>\n",
       "      <td>1</td>\n",
       "      <td>130.0</td>\n",
       "      <td>204.0</td>\n",
       "      <td>0</td>\n",
       "      <td>0</td>\n",
       "      <td>172.0</td>\n",
       "      <td>0</td>\n",
       "      <td>1.4</td>\n",
       "      <td>2</td>\n",
       "      <td>0</td>\n",
       "      <td>2</td>\n",
       "      <td>1</td>\n",
       "    </tr>\n",
       "  </tbody>\n",
       "</table>\n",
       "</div>"
      ],
      "text/plain": [
       "   age     sex  cp  trestbps   chol  fbs  restecg  thalach  exang  oldpeak  \\\n",
       "0   63    male   3     145.0  233.0    1        0    150.0      0      2.3   \n",
       "1   37    male   2     130.0  250.0    0        1    187.0      0      3.5   \n",
       "2   41  female   1     130.0  204.0    0        0    172.0      0      1.4   \n",
       "\n",
       "   slope  ca  thal  target  \n",
       "0      0   0     1       1  \n",
       "1      0   0     2       1  \n",
       "2      2   0     2       1  "
      ]
     },
     "execution_count": 167,
     "metadata": {},
     "output_type": "execute_result"
    }
   ],
   "source": [
    "df.head(3)"
   ]
  },
  {
   "cell_type": "code",
   "execution_count": 168,
   "metadata": {},
   "outputs": [],
   "source": [
    "import sklearn.cluster as cluster"
   ]
  },
  {
   "cell_type": "code",
   "execution_count": 169,
   "metadata": {},
   "outputs": [],
   "source": [
    "kmns=cluster.KMeans(n_clusters=5)"
   ]
  },
  {
   "cell_type": "code",
   "execution_count": 170,
   "metadata": {},
   "outputs": [],
   "source": [
    "kmns=kmns.fit(df[['age','chol']])"
   ]
  },
  {
   "cell_type": "code",
   "execution_count": 171,
   "metadata": {
    "collapsed": true
   },
   "outputs": [
    {
     "data": {
      "text/plain": [
       "array([[ 55.64646465, 259.03030303],\n",
       "       [ 52.98181818, 215.30909091],\n",
       "       [ 62.6       , 438.2       ],\n",
       "       [ 55.85714286, 311.17857143],\n",
       "       [ 51.36363636, 164.93939394]])"
      ]
     },
     "execution_count": 171,
     "metadata": {},
     "output_type": "execute_result"
    }
   ],
   "source": [
    "kmns.cluster_centers_"
   ]
  },
  {
   "cell_type": "code",
   "execution_count": 172,
   "metadata": {},
   "outputs": [],
   "source": [
    "df['Age by Chol']=kmns.labels_"
   ]
  },
  {
   "cell_type": "code",
   "execution_count": 173,
   "metadata": {},
   "outputs": [],
   "source": [
    "from sklearn.cluster import KMeans "
   ]
  },
  {
   "cell_type": "code",
   "execution_count": 175,
   "metadata": {},
   "outputs": [],
   "source": [
    "k_range=range(1,15)\n",
    "wss=[]"
   ]
  },
  {
   "cell_type": "code",
   "execution_count": 176,
   "metadata": {},
   "outputs": [],
   "source": [
    "for k in k_range:\n",
    "    km=KMeans(n_clusters=k)\n",
    "    km.fit(df[['age','chol']])\n",
    "    wss.append(km.inertia_)"
   ]
  },
  {
   "cell_type": "code",
   "execution_count": 177,
   "metadata": {
    "collapsed": true
   },
   "outputs": [
    {
     "data": {
      "text/plain": [
       "[896418.0792079209,\n",
       " 401820.09808073525,\n",
       " 259642.5100957491,\n",
       " 181846.31714994583,\n",
       " 135493.5764790765,\n",
       " 106417.54240805507,\n",
       " 83999.99155057326,\n",
       " 63365.76321989085,\n",
       " 52326.58107025403,\n",
       " 45666.20335438885,\n",
       " 41122.61705673017,\n",
       " 36157.91759830703,\n",
       " 33251.624603924014,\n",
       " 30364.050189883274]"
      ]
     },
     "execution_count": 177,
     "metadata": {},
     "output_type": "execute_result"
    }
   ],
   "source": [
    "wss"
   ]
  },
  {
   "cell_type": "code",
   "execution_count": 178,
   "metadata": {
    "collapsed": true
   },
   "outputs": [
    {
     "data": {
      "text/plain": [
       "[<matplotlib.lines.Line2D at 0x24211d99dc8>]"
      ]
     },
     "execution_count": 178,
     "metadata": {},
     "output_type": "execute_result"
    },
    {
     "data": {
      "image/png": "[encoded data removed]",
      "text/plain": [
       "<Figure size 432x288 with 1 Axes>"
      ]
     },
     "metadata": {},
     "output_type": "display_data"
    }
   ],
   "source": [
    "plt.xlabel(' age')\n",
    "plt.ylabel('chol')\n",
    "plt.plot(k_range,wss)"
   ]
  },
  {
   "cell_type": "code",
   "execution_count": 179,
   "metadata": {},
   "outputs": [
    {
     "data": {
      "text/html": [
       "<div>\n",
       "<style scoped>\n",
       "    .dataframe tbody tr th:only-of-type {\n",
       "        vertical-align: middle;\n",
       "    }\n",
       "\n",
       "    .dataframe tbody tr th {\n",
       "        vertical-align: top;\n",
       "    }\n",
       "\n",
       "    .dataframe thead th {\n",
       "        text-align: right;\n",
       "    }\n",
       "</style>\n",
       "<table border=\"1\" class=\"dataframe\">\n",
       "  <thead>\n",
       "    <tr style=\"text-align: right;\">\n",
       "      <th></th>\n",
       "      <th>age</th>\n",
       "      <th>sex</th>\n",
       "      <th>cp</th>\n",
       "      <th>trestbps</th>\n",
       "      <th>chol</th>\n",
       "      <th>fbs</th>\n",
       "      <th>restecg</th>\n",
       "      <th>thalach</th>\n",
       "      <th>exang</th>\n",
       "      <th>oldpeak</th>\n",
       "      <th>slope</th>\n",
       "      <th>ca</th>\n",
       "      <th>thal</th>\n",
       "      <th>target</th>\n",
       "      <th>Age by Chol</th>\n",
       "    </tr>\n",
       "  </thead>\n",
       "  <tbody>\n",
       "    <tr>\n",
       "      <th>0</th>\n",
       "      <td>63</td>\n",
       "      <td>male</td>\n",
       "      <td>3</td>\n",
       "      <td>145.0</td>\n",
       "      <td>233.0</td>\n",
       "      <td>1</td>\n",
       "      <td>0</td>\n",
       "      <td>150.0</td>\n",
       "      <td>0</td>\n",
       "      <td>2.3</td>\n",
       "      <td>0</td>\n",
       "      <td>0</td>\n",
       "      <td>1</td>\n",
       "      <td>1</td>\n",
       "      <td>1</td>\n",
       "    </tr>\n",
       "    <tr>\n",
       "      <th>1</th>\n",
       "      <td>37</td>\n",
       "      <td>male</td>\n",
       "      <td>2</td>\n",
       "      <td>130.0</td>\n",
       "      <td>250.0</td>\n",
       "      <td>0</td>\n",
       "      <td>1</td>\n",
       "      <td>187.0</td>\n",
       "      <td>0</td>\n",
       "      <td>3.5</td>\n",
       "      <td>0</td>\n",
       "      <td>0</td>\n",
       "      <td>2</td>\n",
       "      <td>1</td>\n",
       "      <td>0</td>\n",
       "    </tr>\n",
       "    <tr>\n",
       "      <th>2</th>\n",
       "      <td>41</td>\n",
       "      <td>female</td>\n",
       "      <td>1</td>\n",
       "      <td>130.0</td>\n",
       "      <td>204.0</td>\n",
       "      <td>0</td>\n",
       "      <td>0</td>\n",
       "      <td>172.0</td>\n",
       "      <td>0</td>\n",
       "      <td>1.4</td>\n",
       "      <td>2</td>\n",
       "      <td>0</td>\n",
       "      <td>2</td>\n",
       "      <td>1</td>\n",
       "      <td>1</td>\n",
       "    </tr>\n",
       "    <tr>\n",
       "      <th>3</th>\n",
       "      <td>56</td>\n",
       "      <td>male</td>\n",
       "      <td>1</td>\n",
       "      <td>120.0</td>\n",
       "      <td>236.0</td>\n",
       "      <td>0</td>\n",
       "      <td>1</td>\n",
       "      <td>178.0</td>\n",
       "      <td>0</td>\n",
       "      <td>0.8</td>\n",
       "      <td>2</td>\n",
       "      <td>0</td>\n",
       "      <td>2</td>\n",
       "      <td>1</td>\n",
       "      <td>1</td>\n",
       "    </tr>\n",
       "  </tbody>\n",
       "</table>\n",
       "</div>"
      ],
      "text/plain": [
       "   age     sex  cp  trestbps   chol  fbs  restecg  thalach  exang  oldpeak  \\\n",
       "0   63    male   3     145.0  233.0    1        0    150.0      0      2.3   \n",
       "1   37    male   2     130.0  250.0    0        1    187.0      0      3.5   \n",
       "2   41  female   1     130.0  204.0    0        0    172.0      0      1.4   \n",
       "3   56    male   1     120.0  236.0    0        1    178.0      0      0.8   \n",
       "\n",
       "   slope  ca  thal  target  Age by Chol  \n",
       "0      0   0     1       1            1  \n",
       "1      0   0     2       1            0  \n",
       "2      2   0     2       1            1  \n",
       "3      2   0     2       1            1  "
      ]
     },
     "execution_count": 179,
     "metadata": {},
     "output_type": "execute_result"
    }
   ],
   "source": [
    "df.head(4)"
   ]
  },
  {
   "cell_type": "code",
   "execution_count": 180,
   "metadata": {
    "collapsed": true
   },
   "outputs": [
    {
     "data": {
      "text/plain": [
       "<matplotlib.axes._subplots.AxesSubplot at 0x24213b3c108>"
      ]
     },
     "execution_count": 180,
     "metadata": {},
     "output_type": "execute_result"
    },
    {
     "data": {
      "image/png": "[encoded data removed]",
      "text/plain": [
       "<Figure size 1080x648 with 1 Axes>"
      ]
     },
     "metadata": {},
     "output_type": "display_data"
    }
   ],
   "source": [
    "plt.figure(figsize = (15,9))\n",
    "df.sex.value_counts().plot(kind='pie')"
   ]
  },
  {
   "cell_type": "code",
   "execution_count": 181,
   "metadata": {
    "collapsed": true
   },
   "outputs": [
    {
     "data": {
      "text/plain": [
       "<matplotlib.axes._subplots.AxesSubplot at 0x2421088ad08>"
      ]
     },
     "execution_count": 181,
     "metadata": {},
     "output_type": "execute_result"
    },
    {
     "data": {
      "image/png": "[encoded data removed]",
      "text/plain": [
       "<Figure size 1080x648 with 2 Axes>"
      ]
     },
     "metadata": {},
     "output_type": "display_data"
    }
   ],
   "source": [
    "plt.figure(figsize=(15,9))\n",
    "sns.heatmap(df.corr(),annot=True)"
   ]
  },
  {
   "cell_type": "code",
   "execution_count": 182,
   "metadata": {
    "collapsed": true
   },
   "outputs": [
    {
     "data": {
      "image/png": "[encoded data removed]",
      "text/plain": [
       "<Figure size 1080x648 with 2 Axes>"
      ]
     },
     "metadata": {},
     "output_type": "display_data"
    }
   ],
   "source": [
    "plt.figure(figsize=(15,9))\n",
    "#cmap = sns.diverging_palette(230, 20, as_cmap=True)\n",
    "sns.heatmap(df.corr(),annot=True,cmap='Dark2_r',linewidths=2)\n",
    "plt.show()"
   ]
  },
  {
   "cell_type": "code",
   "execution_count": 183,
   "metadata": {
    "collapsed": true
   },
   "outputs": [
    {
     "data": {
      "text/plain": [
       "<matplotlib.axes._subplots.AxesSubplot at 0x24210ed30c8>"
      ]
     },
     "execution_count": 183,
     "metadata": {},
     "output_type": "execute_result"
    },
    {
     "data": {
      "image/png": "[encoded data removed]",
      "text/plain": [
       "<Figure size 432x288 with 1 Axes>"
      ]
     },
     "metadata": {},
     "output_type": "display_data"
    }
   ],
   "source": [
    "sns.scatterplot(x='age',y='cp',data=df)"
   ]
  },
  {
   "cell_type": "code",
   "execution_count": 185,
   "metadata": {
    "collapsed": true
   },
   "outputs": [
    {
     "data": {
      "text/plain": [
       "<matplotlib.axes._subplots.AxesSubplot at 0x242130c6748>"
      ]
     },
     "execution_count": 185,
     "metadata": {},
     "output_type": "execute_result"
    },
    {
     "data": {
      "image/png": "[encoded data removed]",
      "text/plain": [
       "<Figure size 1080x648 with 1 Axes>"
      ]
     },
     "metadata": {},
     "output_type": "display_data"
    }
   ],
   "source": [
    "plt.figure(figsize=(15,9))\n",
    "sns.boxplot(x='age',y='trestbps',data=df)"
   ]
  },
  {
   "cell_type": "code",
   "execution_count": 186,
   "metadata": {
    "collapsed": true
   },
   "outputs": [
    {
     "data": {
      "text/plain": [
       "<matplotlib.axes._subplots.AxesSubplot at 0x24214dfe3c8>"
      ]
     },
     "execution_count": 186,
     "metadata": {},
     "output_type": "execute_result"
    },
    {
     "data": {
      "image/png": "[encoded data removed]",
      "text/plain": [
       "<Figure size 1080x648 with 1 Axes>"
      ]
     },
     "metadata": {},
     "output_type": "display_data"
    }
   ],
   "source": [
    "plt.figure(figsize=(15,9))\n",
    "sns.boxenplot(x='age',y='chol',data=df)"
   ]
  },
  {
   "cell_type": "code",
   "execution_count": 187,
   "metadata": {
    "collapsed": true
   },
   "outputs": [
    {
     "data": {
      "text/plain": [
       "<matplotlib.axes._subplots.AxesSubplot at 0x24214dea6c8>"
      ]
     },
     "execution_count": 187,
     "metadata": {},
     "output_type": "execute_result"
    },
    {
     "data": {
      "image/png": "[encoded data removed]",
      "text/plain": [
       "<Figure size 1080x648 with 1 Axes>"
      ]
     },
     "metadata": {},
     "output_type": "display_data"
    }
   ],
   "source": [
    "plt.figure(figsize=(15,9))\n",
    "sns.barplot(x='age',y='fbs',data=df)"
   ]
  },
  {
   "cell_type": "code",
   "execution_count": 190,
   "metadata": {
    "collapsed": true
   },
   "outputs": [
    {
     "data": {
      "text/plain": [
       "<matplotlib.axes._subplots.AxesSubplot at 0x24213815108>"
      ]
     },
     "execution_count": 190,
     "metadata": {},
     "output_type": "execute_result"
    },
    {
     "data": {
      "image/png": "[encoded data removed]",
      "text/plain": [
       "<Figure size 1080x648 with 1 Axes>"
      ]
     },
     "metadata": {},
     "output_type": "display_data"
    }
   ],
   "source": [
    "plt.figure(figsize=(15,9))\n",
    "sns.distplot(df['thalach'])"
   ]
  },
  {
   "cell_type": "code",
   "execution_count": 192,
   "metadata": {
    "collapsed": true
   },
   "outputs": [
    {
     "data": {
      "text/plain": [
       "<matplotlib.axes._subplots.AxesSubplot at 0x2421411b748>"
      ]
     },
     "execution_count": 192,
     "metadata": {},
     "output_type": "execute_result"
    },
    {
     "data": {
      "image/png": "[encoded data removed]",
      "text/plain": [
       "<Figure size 1080x648 with 1 Axes>"
      ]
     },
     "metadata": {},
     "output_type": "display_data"
    }
   ],
   "source": [
    "plt.figure(figsize=(15,9))\n",
    "sns.lineplot(x='age',y='restecg',data=df,color='red')"
   ]
  },
  {
   "cell_type": "code",
   "execution_count": 193,
   "metadata": {
    "collapsed": true
   },
   "outputs": [
    {
     "data": {
      "text/plain": [
       "<matplotlib.axes._subplots.AxesSubplot at 0x2421416afc8>"
      ]
     },
     "execution_count": 193,
     "metadata": {},
     "output_type": "execute_result"
    },
    {
     "data": {
      "image/png": "[encoded data removed]",
      "text/plain": [
       "<Figure size 1080x648 with 1 Axes>"
      ]
     },
     "metadata": {},
     "output_type": "display_data"
    }
   ],
   "source": [
    "plt.figure(figsize=(15,9))\n",
    "sns.pointplot(x='age',y='oldpeak',data=df)"
   ]
  },
  {
   "cell_type": "code",
   "execution_count": 194,
   "metadata": {
    "collapsed": true
   },
   "outputs": [
    {
     "data": {
      "text/plain": [
       "<seaborn.axisgrid.JointGrid at 0x242156a5648>"
      ]
     },
     "execution_count": 194,
     "metadata": {},
     "output_type": "execute_result"
    },
    {
     "data": {
      "text/plain": [
       "<Figure size 1080x648 with 0 Axes>"
      ]
     },
     "metadata": {},
     "output_type": "display_data"
    },
    {
     "data": {
      "image/png": "[encoded data removed]",
      "text/plain": [
       "<Figure size 432x432 with 3 Axes>"
      ]
     },
     "metadata": {},
     "output_type": "display_data"
    }
   ],
   "source": [
    "plt.figure(figsize=(15,9))\n",
    "sns.jointplot(x='age',y='thal',data=df,kind='kde',color='red')"
   ]
  },
  {
   "cell_type": "code",
   "execution_count": 195,
   "metadata": {},
   "outputs": [
    {
     "data": {
      "text/html": [
       "<div>\n",
       "<style scoped>\n",
       "    .dataframe tbody tr th:only-of-type {\n",
       "        vertical-align: middle;\n",
       "    }\n",
       "\n",
       "    .dataframe tbody tr th {\n",
       "        vertical-align: top;\n",
       "    }\n",
       "\n",
       "    .dataframe thead th {\n",
       "        text-align: right;\n",
       "    }\n",
       "</style>\n",
       "<table border=\"1\" class=\"dataframe\">\n",
       "  <thead>\n",
       "    <tr style=\"text-align: right;\">\n",
       "      <th></th>\n",
       "      <th>age</th>\n",
       "      <th>sex</th>\n",
       "      <th>cp</th>\n",
       "      <th>trestbps</th>\n",
       "      <th>chol</th>\n",
       "      <th>fbs</th>\n",
       "      <th>restecg</th>\n",
       "      <th>thalach</th>\n",
       "      <th>exang</th>\n",
       "      <th>oldpeak</th>\n",
       "      <th>slope</th>\n",
       "      <th>ca</th>\n",
       "      <th>thal</th>\n",
       "      <th>target</th>\n",
       "      <th>Age by Chol</th>\n",
       "    </tr>\n",
       "  </thead>\n",
       "  <tbody>\n",
       "    <tr>\n",
       "      <th>0</th>\n",
       "      <td>63</td>\n",
       "      <td>male</td>\n",
       "      <td>3</td>\n",
       "      <td>145.0</td>\n",
       "      <td>233.0</td>\n",
       "      <td>1</td>\n",
       "      <td>0</td>\n",
       "      <td>150.0</td>\n",
       "      <td>0</td>\n",
       "      <td>2.3</td>\n",
       "      <td>0</td>\n",
       "      <td>0</td>\n",
       "      <td>1</td>\n",
       "      <td>1</td>\n",
       "      <td>1</td>\n",
       "    </tr>\n",
       "    <tr>\n",
       "      <th>1</th>\n",
       "      <td>37</td>\n",
       "      <td>male</td>\n",
       "      <td>2</td>\n",
       "      <td>130.0</td>\n",
       "      <td>250.0</td>\n",
       "      <td>0</td>\n",
       "      <td>1</td>\n",
       "      <td>187.0</td>\n",
       "      <td>0</td>\n",
       "      <td>3.5</td>\n",
       "      <td>0</td>\n",
       "      <td>0</td>\n",
       "      <td>2</td>\n",
       "      <td>1</td>\n",
       "      <td>0</td>\n",
       "    </tr>\n",
       "  </tbody>\n",
       "</table>\n",
       "</div>"
      ],
      "text/plain": [
       "   age   sex  cp  trestbps   chol  fbs  restecg  thalach  exang  oldpeak  \\\n",
       "0   63  male   3     145.0  233.0    1        0    150.0      0      2.3   \n",
       "1   37  male   2     130.0  250.0    0        1    187.0      0      3.5   \n",
       "\n",
       "   slope  ca  thal  target  Age by Chol  \n",
       "0      0   0     1       1            1  \n",
       "1      0   0     2       1            0  "
      ]
     },
     "execution_count": 195,
     "metadata": {},
     "output_type": "execute_result"
    }
   ],
   "source": [
    "df.head(2)"
   ]
  },
  {
   "cell_type": "code",
   "execution_count": 196,
   "metadata": {
    "collapsed": true
   },
   "outputs": [
    {
     "data": {
      "text/plain": [
       "<matplotlib.axes._subplots.AxesSubplot at 0x24215bac488>"
      ]
     },
     "execution_count": 196,
     "metadata": {},
     "output_type": "execute_result"
    },
    {
     "data": {
      "image/png": "[encoded data removed]",
      "text/plain": [
       "<Figure size 432x288 with 1 Axes>"
      ]
     },
     "metadata": {},
     "output_type": "display_data"
    }
   ],
   "source": [
    "sns.kdeplot(df['age'])\n",
    "sns.kdeplot(df['cp'])\n",
    "sns.kdeplot(df['trestbps'])"
   ]
  },
  {
   "cell_type": "code",
   "execution_count": 198,
   "metadata": {
    "collapsed": true
   },
   "outputs": [
    {
     "data": {
      "text/plain": [
       "<matplotlib.axes._subplots.AxesSubplot at 0x24215ea71c8>"
      ]
     },
     "execution_count": 198,
     "metadata": {},
     "output_type": "execute_result"
    },
    {
     "data": {
      "image/png": "[encoded data removed]",
      "text/plain": [
       "<Figure size 432x288 with 1 Axes>"
      ]
     },
     "metadata": {},
     "output_type": "display_data"
    }
   ],
   "source": [
    "sns.violinplot(y=\"thal\",data=df)\n",
    "sns.violinplot(y=\"fbs\",data=df,color='orange')\n",
    "sns.violinplot(y=\"restecg\",data=df,color='red')"
   ]
  },
  {
   "cell_type": "code",
   "execution_count": 199,
   "metadata": {
    "collapsed": true
   },
   "outputs": [
    {
     "data": {
      "text/plain": [
       "<matplotlib.axes._subplots.AxesSubplot at 0x24215f1ac08>"
      ]
     },
     "execution_count": 199,
     "metadata": {},
     "output_type": "execute_result"
    },
    {
     "data": {
      "image/png": "[encoded data removed]",
      "text/plain": [
       "<Figure size 432x288 with 1 Axes>"
      ]
     },
     "metadata": {},
     "output_type": "display_data"
    }
   ],
   "source": [
    "sns.regplot(x=df[\"age\"], y=df[\"Age by Chol\"], \n",
    "data=df)"
   ]
  },
  {
   "cell_type": "code",
   "execution_count": 200,
   "metadata": {
    "collapsed": true
   },
   "outputs": [
    {
     "data": {
      "text/plain": [
       "<matplotlib.axes._subplots.AxesSubplot at 0x24215f91f48>"
      ]
     },
     "execution_count": 200,
     "metadata": {},
     "output_type": "execute_result"
    },
    {
     "data": {
      "image/png": "[encoded data removed]",
      "text/plain": [
       "<Figure size 432x288 with 1 Axes>"
      ]
     },
     "metadata": {},
     "output_type": "display_data"
    }
   ],
   "source": [
    "df.boxplot(column=\"age\")\n",
    "df.boxplot(column=\"trestbps\",color='orange')\n",
    "df.boxplot(column=\"chol\",color='red')"
   ]
  },
  {
   "cell_type": "code",
   "execution_count": 201,
   "metadata": {},
   "outputs": [],
   "source": [
    "import sweetviz as sv"
   ]
  },
  {
   "cell_type": "code",
   "execution_count": 202,
   "metadata": {},
   "outputs": [
    {
     "data": {
      "application/vnd.jupyter.widget-view+json": {
       "model_id": "a54aa547f6c241a59984703a71fb3057",
       "version_major": 2,
       "version_minor": 0
      },
      "text/plain": [
       "                                             |                                             | [  0%]   00:00 ->…"
      ]
     },
     "metadata": {},
     "output_type": "display_data"
    },
    {
     "name": "stdout",
     "output_type": "stream",
     "text": [
      "Report Analyze.html was generated! NOTEBOOK/COLAB USERS: the web browser MAY not pop up, regardless, the report IS saved in your notebook/colab files.\n"
     ]
    }
   ],
   "source": [
    "data=sv.analyze(df)\n",
    "data.show_html('Analyze.html')"
   ]
  },
  {
   "cell_type": "code",
   "execution_count": 203,
   "metadata": {},
   "outputs": [],
   "source": [
    "from IPython.display import IFrame"
   ]
  },
  {
   "cell_type": "code",
   "execution_count": 204,
   "metadata": {
    "collapsed": true
   },
   "outputs": [
    {
     "data": {
      "text/html": [
       "\n",
       "        <iframe\n",
       "            width=\"1000\"\n",
       "            height=\"600\"\n",
       "            src=\"Analyze.html\"\n",
       "            frameborder=\"0\"\n",
       "            allowfullscreen\n",
       "        ></iframe>\n",
       "        "
      ],
      "text/plain": [
       "<IPython.lib.display.IFrame at 0x2421cc9c4c8>"
      ]
     },
     "execution_count": 204,
     "metadata": {},
     "output_type": "execute_result"
    }
   ],
   "source": [
    "IFrame(src='Analyze.html',width=1000,height=600)"
   ]
  },
  {
   "cell_type": "code",
   "execution_count": 205,
   "metadata": {
    "collapsed": true
   },
   "outputs": [
    {
     "data": {
      "text/plain": [
       "<seaborn.axisgrid.JointGrid at 0x2421ccbc508>"
      ]
     },
     "execution_count": 205,
     "metadata": {},
     "output_type": "execute_result"
    },
    {
     "data": {
      "image/png": "[encoded data removed]",
      "text/plain": [
       "<Figure size 600x600 with 3 Axes>"
      ]
     },
     "metadata": {},
     "output_type": "display_data"
    }
   ],
   "source": [
    "sns.jointplot(x=\"age\",y=\"trestbps\",data=df)"
   ]
  },
  {
   "cell_type": "code",
   "execution_count": 206,
   "metadata": {},
   "outputs": [],
   "source": [
    "from sklearn.preprocessing import MinMaxScaler\n",
    "from sklearn.preprocessing import StandardScaler"
   ]
  },
  {
   "cell_type": "code",
   "execution_count": 207,
   "metadata": {},
   "outputs": [
    {
     "data": {
      "text/plain": [
       "Index(['age', 'sex', 'cp', 'trestbps', 'chol', 'fbs', 'restecg', 'thalach',\n",
       "       'exang', 'oldpeak', 'slope', 'ca', 'thal', 'target', 'Age by Chol'],\n",
       "      dtype='object')"
      ]
     },
     "execution_count": 207,
     "metadata": {},
     "output_type": "execute_result"
    }
   ],
   "source": [
    "df.columns"
   ]
  },
  {
   "cell_type": "code",
   "execution_count": 209,
   "metadata": {
    "collapsed": true
   },
   "outputs": [
    {
     "data": {
      "text/html": [
       "<div>\n",
       "<style scoped>\n",
       "    .dataframe tbody tr th:only-of-type {\n",
       "        vertical-align: middle;\n",
       "    }\n",
       "\n",
       "    .dataframe tbody tr th {\n",
       "        vertical-align: top;\n",
       "    }\n",
       "\n",
       "    .dataframe thead th {\n",
       "        text-align: right;\n",
       "    }\n",
       "</style>\n",
       "<table border=\"1\" class=\"dataframe\">\n",
       "  <thead>\n",
       "    <tr style=\"text-align: right;\">\n",
       "      <th></th>\n",
       "      <th>age</th>\n",
       "      <th>cp</th>\n",
       "      <th>trestbps</th>\n",
       "      <th>chol</th>\n",
       "      <th>fbs</th>\n",
       "      <th>restecg</th>\n",
       "      <th>thalach</th>\n",
       "      <th>exang</th>\n",
       "      <th>oldpeak</th>\n",
       "      <th>slope</th>\n",
       "      <th>ca</th>\n",
       "      <th>thal</th>\n",
       "      <th>target</th>\n",
       "      <th>Age by Chol</th>\n",
       "    </tr>\n",
       "  </thead>\n",
       "  <tbody>\n",
       "    <tr>\n",
       "      <th>0</th>\n",
       "      <td>0.708333</td>\n",
       "      <td>1.000000</td>\n",
       "      <td>0.725</td>\n",
       "      <td>0.413121</td>\n",
       "      <td>1.0</td>\n",
       "      <td>0.0</td>\n",
       "      <td>0.742574</td>\n",
       "      <td>0.0</td>\n",
       "      <td>0.370968</td>\n",
       "      <td>0.0</td>\n",
       "      <td>0.00</td>\n",
       "      <td>0.333333</td>\n",
       "      <td>1.0</td>\n",
       "      <td>0.25</td>\n",
       "    </tr>\n",
       "    <tr>\n",
       "      <th>1</th>\n",
       "      <td>0.166667</td>\n",
       "      <td>0.666667</td>\n",
       "      <td>0.650</td>\n",
       "      <td>0.443262</td>\n",
       "      <td>0.0</td>\n",
       "      <td>0.5</td>\n",
       "      <td>0.925743</td>\n",
       "      <td>0.0</td>\n",
       "      <td>0.564516</td>\n",
       "      <td>0.0</td>\n",
       "      <td>0.00</td>\n",
       "      <td>0.666667</td>\n",
       "      <td>1.0</td>\n",
       "      <td>0.00</td>\n",
       "    </tr>\n",
       "    <tr>\n",
       "      <th>2</th>\n",
       "      <td>0.250000</td>\n",
       "      <td>0.333333</td>\n",
       "      <td>0.650</td>\n",
       "      <td>0.361702</td>\n",
       "      <td>0.0</td>\n",
       "      <td>0.0</td>\n",
       "      <td>0.851485</td>\n",
       "      <td>0.0</td>\n",
       "      <td>0.225806</td>\n",
       "      <td>1.0</td>\n",
       "      <td>0.00</td>\n",
       "      <td>0.666667</td>\n",
       "      <td>1.0</td>\n",
       "      <td>0.25</td>\n",
       "    </tr>\n",
       "    <tr>\n",
       "      <th>3</th>\n",
       "      <td>0.562500</td>\n",
       "      <td>0.333333</td>\n",
       "      <td>0.600</td>\n",
       "      <td>0.418440</td>\n",
       "      <td>0.0</td>\n",
       "      <td>0.5</td>\n",
       "      <td>0.881188</td>\n",
       "      <td>0.0</td>\n",
       "      <td>0.129032</td>\n",
       "      <td>1.0</td>\n",
       "      <td>0.00</td>\n",
       "      <td>0.666667</td>\n",
       "      <td>1.0</td>\n",
       "      <td>0.25</td>\n",
       "    </tr>\n",
       "    <tr>\n",
       "      <th>4</th>\n",
       "      <td>0.583333</td>\n",
       "      <td>0.000000</td>\n",
       "      <td>0.000</td>\n",
       "      <td>0.627660</td>\n",
       "      <td>0.0</td>\n",
       "      <td>0.5</td>\n",
       "      <td>0.806931</td>\n",
       "      <td>1.0</td>\n",
       "      <td>0.096774</td>\n",
       "      <td>1.0</td>\n",
       "      <td>0.00</td>\n",
       "      <td>0.666667</td>\n",
       "      <td>1.0</td>\n",
       "      <td>0.75</td>\n",
       "    </tr>\n",
       "    <tr>\n",
       "      <th>...</th>\n",
       "      <td>...</td>\n",
       "      <td>...</td>\n",
       "      <td>...</td>\n",
       "      <td>...</td>\n",
       "      <td>...</td>\n",
       "      <td>...</td>\n",
       "      <td>...</td>\n",
       "      <td>...</td>\n",
       "      <td>...</td>\n",
       "      <td>...</td>\n",
       "      <td>...</td>\n",
       "      <td>...</td>\n",
       "      <td>...</td>\n",
       "      <td>...</td>\n",
       "    </tr>\n",
       "    <tr>\n",
       "      <th>298</th>\n",
       "      <td>0.583333</td>\n",
       "      <td>0.000000</td>\n",
       "      <td>0.700</td>\n",
       "      <td>0.427305</td>\n",
       "      <td>0.0</td>\n",
       "      <td>0.5</td>\n",
       "      <td>0.608911</td>\n",
       "      <td>1.0</td>\n",
       "      <td>0.032258</td>\n",
       "      <td>0.5</td>\n",
       "      <td>0.00</td>\n",
       "      <td>1.000000</td>\n",
       "      <td>0.0</td>\n",
       "      <td>0.00</td>\n",
       "    </tr>\n",
       "    <tr>\n",
       "      <th>299</th>\n",
       "      <td>0.333333</td>\n",
       "      <td>1.000000</td>\n",
       "      <td>0.550</td>\n",
       "      <td>0.468085</td>\n",
       "      <td>0.0</td>\n",
       "      <td>0.5</td>\n",
       "      <td>0.653465</td>\n",
       "      <td>0.0</td>\n",
       "      <td>0.193548</td>\n",
       "      <td>0.5</td>\n",
       "      <td>0.00</td>\n",
       "      <td>1.000000</td>\n",
       "      <td>0.0</td>\n",
       "      <td>0.00</td>\n",
       "    </tr>\n",
       "    <tr>\n",
       "      <th>300</th>\n",
       "      <td>0.812500</td>\n",
       "      <td>0.000000</td>\n",
       "      <td>0.720</td>\n",
       "      <td>0.342199</td>\n",
       "      <td>1.0</td>\n",
       "      <td>0.5</td>\n",
       "      <td>0.698020</td>\n",
       "      <td>0.0</td>\n",
       "      <td>0.548387</td>\n",
       "      <td>0.5</td>\n",
       "      <td>0.50</td>\n",
       "      <td>1.000000</td>\n",
       "      <td>0.0</td>\n",
       "      <td>0.25</td>\n",
       "    </tr>\n",
       "    <tr>\n",
       "      <th>301</th>\n",
       "      <td>0.583333</td>\n",
       "      <td>0.000000</td>\n",
       "      <td>0.000</td>\n",
       "      <td>0.232270</td>\n",
       "      <td>0.0</td>\n",
       "      <td>0.5</td>\n",
       "      <td>0.569307</td>\n",
       "      <td>1.0</td>\n",
       "      <td>0.193548</td>\n",
       "      <td>0.5</td>\n",
       "      <td>0.25</td>\n",
       "      <td>1.000000</td>\n",
       "      <td>0.0</td>\n",
       "      <td>1.00</td>\n",
       "    </tr>\n",
       "    <tr>\n",
       "      <th>302</th>\n",
       "      <td>0.583333</td>\n",
       "      <td>0.333333</td>\n",
       "      <td>0.650</td>\n",
       "      <td>0.418440</td>\n",
       "      <td>0.0</td>\n",
       "      <td>0.0</td>\n",
       "      <td>0.861386</td>\n",
       "      <td>0.0</td>\n",
       "      <td>0.000000</td>\n",
       "      <td>0.5</td>\n",
       "      <td>0.25</td>\n",
       "      <td>0.666667</td>\n",
       "      <td>0.0</td>\n",
       "      <td>0.25</td>\n",
       "    </tr>\n",
       "  </tbody>\n",
       "</table>\n",
       "<p>303 rows × 14 columns</p>\n",
       "</div>"
      ],
      "text/plain": [
       "          age        cp  trestbps      chol  fbs  restecg   thalach  exang  \\\n",
       "0    0.708333  1.000000     0.725  0.413121  1.0      0.0  0.742574    0.0   \n",
       "1    0.166667  0.666667     0.650  0.443262  0.0      0.5  0.925743    0.0   \n",
       "2    0.250000  0.333333     0.650  0.361702  0.0      0.0  0.851485    0.0   \n",
       "3    0.562500  0.333333     0.600  0.418440  0.0      0.5  0.881188    0.0   \n",
       "4    0.583333  0.000000     0.000  0.627660  0.0      0.5  0.806931    1.0   \n",
       "..        ...       ...       ...       ...  ...      ...       ...    ...   \n",
       "298  0.583333  0.000000     0.700  0.427305  0.0      0.5  0.608911    1.0   \n",
       "299  0.333333  1.000000     0.550  0.468085  0.0      0.5  0.653465    0.0   \n",
       "300  0.812500  0.000000     0.720  0.342199  1.0      0.5  0.698020    0.0   \n",
       "301  0.583333  0.000000     0.000  0.232270  0.0      0.5  0.569307    1.0   \n",
       "302  0.583333  0.333333     0.650  0.418440  0.0      0.0  0.861386    0.0   \n",
       "\n",
       "      oldpeak  slope    ca      thal  target  Age by Chol  \n",
       "0    0.370968    0.0  0.00  0.333333     1.0         0.25  \n",
       "1    0.564516    0.0  0.00  0.666667     1.0         0.00  \n",
       "2    0.225806    1.0  0.00  0.666667     1.0         0.25  \n",
       "3    0.129032    1.0  0.00  0.666667     1.0         0.25  \n",
       "4    0.096774    1.0  0.00  0.666667     1.0         0.75  \n",
       "..        ...    ...   ...       ...     ...          ...  \n",
       "298  0.032258    0.5  0.00  1.000000     0.0         0.00  \n",
       "299  0.193548    0.5  0.00  1.000000     0.0         0.00  \n",
       "300  0.548387    0.5  0.50  1.000000     0.0         0.25  \n",
       "301  0.193548    0.5  0.25  1.000000     0.0         1.00  \n",
       "302  0.000000    0.5  0.25  0.666667     0.0         0.25  \n",
       "\n",
       "[303 rows x 14 columns]"
      ]
     },
     "execution_count": 209,
     "metadata": {},
     "output_type": "execute_result"
    }
   ],
   "source": [
    "man=MinMaxScaler()\n",
    "feat=['age', 'cp', 'trestbps', 'chol', 'fbs', 'restecg', 'thalach',\n",
    "       'exang', 'oldpeak', 'slope', 'ca', 'thal', 'target', 'Age by Chol']\n",
    "df[feat]=man.fit_transform(df[feat])\n",
    "df[feat]"
   ]
  },
  {
   "cell_type": "code",
   "execution_count": 211,
   "metadata": {},
   "outputs": [
    {
     "data": {
      "text/html": [
       "<div>\n",
       "<style scoped>\n",
       "    .dataframe tbody tr th:only-of-type {\n",
       "        vertical-align: middle;\n",
       "    }\n",
       "\n",
       "    .dataframe tbody tr th {\n",
       "        vertical-align: top;\n",
       "    }\n",
       "\n",
       "    .dataframe thead th {\n",
       "        text-align: right;\n",
       "    }\n",
       "</style>\n",
       "<table border=\"1\" class=\"dataframe\">\n",
       "  <thead>\n",
       "    <tr style=\"text-align: right;\">\n",
       "      <th></th>\n",
       "      <th>age</th>\n",
       "      <th>cp</th>\n",
       "      <th>trestbps</th>\n",
       "      <th>chol</th>\n",
       "      <th>fbs</th>\n",
       "      <th>restecg</th>\n",
       "      <th>thalach</th>\n",
       "      <th>exang</th>\n",
       "      <th>oldpeak</th>\n",
       "      <th>slope</th>\n",
       "      <th>ca</th>\n",
       "      <th>thal</th>\n",
       "      <th>target</th>\n",
       "      <th>Age by Chol</th>\n",
       "    </tr>\n",
       "  </thead>\n",
       "  <tbody>\n",
       "    <tr>\n",
       "      <th>0</th>\n",
       "      <td>0.952197</td>\n",
       "      <td>1.973123</td>\n",
       "      <td>0.651692</td>\n",
       "      <td>-0.233167</td>\n",
       "      <td>2.394438</td>\n",
       "      <td>-1.005832</td>\n",
       "      <td>0.088724</td>\n",
       "      <td>-0.696631</td>\n",
       "      <td>1.087338</td>\n",
       "      <td>-2.274579</td>\n",
       "      <td>-0.714429</td>\n",
       "      <td>-2.148873</td>\n",
       "      <td>0.914529</td>\n",
       "      <td>-0.279137</td>\n",
       "    </tr>\n",
       "    <tr>\n",
       "      <th>1</th>\n",
       "      <td>-1.915313</td>\n",
       "      <td>1.002577</td>\n",
       "      <td>0.001145</td>\n",
       "      <td>0.083815</td>\n",
       "      <td>-0.417635</td>\n",
       "      <td>0.898962</td>\n",
       "      <td>1.347821</td>\n",
       "      <td>-0.696631</td>\n",
       "      <td>2.122573</td>\n",
       "      <td>-2.274579</td>\n",
       "      <td>-0.714429</td>\n",
       "      <td>-0.512922</td>\n",
       "      <td>0.914529</td>\n",
       "      <td>-1.002030</td>\n",
       "    </tr>\n",
       "    <tr>\n",
       "      <th>2</th>\n",
       "      <td>-1.474158</td>\n",
       "      <td>0.032031</td>\n",
       "      <td>0.001145</td>\n",
       "      <td>-0.773901</td>\n",
       "      <td>-0.417635</td>\n",
       "      <td>-1.005832</td>\n",
       "      <td>0.837376</td>\n",
       "      <td>-0.696631</td>\n",
       "      <td>0.310912</td>\n",
       "      <td>0.976352</td>\n",
       "      <td>-0.714429</td>\n",
       "      <td>-0.512922</td>\n",
       "      <td>0.914529</td>\n",
       "      <td>-0.279137</td>\n",
       "    </tr>\n",
       "    <tr>\n",
       "      <th>3</th>\n",
       "      <td>0.180175</td>\n",
       "      <td>0.032031</td>\n",
       "      <td>-0.432553</td>\n",
       "      <td>-0.177229</td>\n",
       "      <td>-0.417635</td>\n",
       "      <td>0.898962</td>\n",
       "      <td>1.041554</td>\n",
       "      <td>-0.696631</td>\n",
       "      <td>-0.206705</td>\n",
       "      <td>0.976352</td>\n",
       "      <td>-0.714429</td>\n",
       "      <td>-0.512922</td>\n",
       "      <td>0.914529</td>\n",
       "      <td>-0.279137</td>\n",
       "    </tr>\n",
       "    <tr>\n",
       "      <th>4</th>\n",
       "      <td>0.290464</td>\n",
       "      <td>-0.938515</td>\n",
       "      <td>-5.636927</td>\n",
       "      <td>2.022999</td>\n",
       "      <td>-0.417635</td>\n",
       "      <td>0.898962</td>\n",
       "      <td>0.531110</td>\n",
       "      <td>1.435481</td>\n",
       "      <td>-0.379244</td>\n",
       "      <td>0.976352</td>\n",
       "      <td>-0.714429</td>\n",
       "      <td>-0.512922</td>\n",
       "      <td>0.914529</td>\n",
       "      <td>1.166649</td>\n",
       "    </tr>\n",
       "    <tr>\n",
       "      <th>...</th>\n",
       "      <td>...</td>\n",
       "      <td>...</td>\n",
       "      <td>...</td>\n",
       "      <td>...</td>\n",
       "      <td>...</td>\n",
       "      <td>...</td>\n",
       "      <td>...</td>\n",
       "      <td>...</td>\n",
       "      <td>...</td>\n",
       "      <td>...</td>\n",
       "      <td>...</td>\n",
       "      <td>...</td>\n",
       "      <td>...</td>\n",
       "      <td>...</td>\n",
       "    </tr>\n",
       "    <tr>\n",
       "      <th>298</th>\n",
       "      <td>0.290464</td>\n",
       "      <td>-0.938515</td>\n",
       "      <td>0.434843</td>\n",
       "      <td>-0.083999</td>\n",
       "      <td>-0.417635</td>\n",
       "      <td>0.898962</td>\n",
       "      <td>-0.830076</td>\n",
       "      <td>1.435481</td>\n",
       "      <td>-0.724323</td>\n",
       "      <td>-0.649113</td>\n",
       "      <td>-0.714429</td>\n",
       "      <td>1.123029</td>\n",
       "      <td>-1.093459</td>\n",
       "      <td>-1.002030</td>\n",
       "    </tr>\n",
       "    <tr>\n",
       "      <th>299</th>\n",
       "      <td>-1.033002</td>\n",
       "      <td>1.973123</td>\n",
       "      <td>-0.866251</td>\n",
       "      <td>0.344859</td>\n",
       "      <td>-0.417635</td>\n",
       "      <td>0.898962</td>\n",
       "      <td>-0.523809</td>\n",
       "      <td>-0.696631</td>\n",
       "      <td>0.138373</td>\n",
       "      <td>-0.649113</td>\n",
       "      <td>-0.714429</td>\n",
       "      <td>1.123029</td>\n",
       "      <td>-1.093459</td>\n",
       "      <td>-1.002030</td>\n",
       "    </tr>\n",
       "    <tr>\n",
       "      <th>300</th>\n",
       "      <td>1.503641</td>\n",
       "      <td>-0.938515</td>\n",
       "      <td>0.608322</td>\n",
       "      <td>-0.979007</td>\n",
       "      <td>2.394438</td>\n",
       "      <td>0.898962</td>\n",
       "      <td>-0.217543</td>\n",
       "      <td>-0.696631</td>\n",
       "      <td>2.036303</td>\n",
       "      <td>-0.649113</td>\n",
       "      <td>1.244593</td>\n",
       "      <td>1.123029</td>\n",
       "      <td>-1.093459</td>\n",
       "      <td>-0.279137</td>\n",
       "    </tr>\n",
       "    <tr>\n",
       "      <th>301</th>\n",
       "      <td>0.290464</td>\n",
       "      <td>-0.938515</td>\n",
       "      <td>-5.636927</td>\n",
       "      <td>-2.135059</td>\n",
       "      <td>-0.417635</td>\n",
       "      <td>0.898962</td>\n",
       "      <td>-1.102313</td>\n",
       "      <td>1.435481</td>\n",
       "      <td>0.138373</td>\n",
       "      <td>-0.649113</td>\n",
       "      <td>0.265082</td>\n",
       "      <td>1.123029</td>\n",
       "      <td>-1.093459</td>\n",
       "      <td>1.889542</td>\n",
       "    </tr>\n",
       "    <tr>\n",
       "      <th>302</th>\n",
       "      <td>0.290464</td>\n",
       "      <td>0.032031</td>\n",
       "      <td>0.001145</td>\n",
       "      <td>-0.177229</td>\n",
       "      <td>-0.417635</td>\n",
       "      <td>-1.005832</td>\n",
       "      <td>0.905436</td>\n",
       "      <td>-0.696631</td>\n",
       "      <td>-0.896862</td>\n",
       "      <td>-0.649113</td>\n",
       "      <td>0.265082</td>\n",
       "      <td>-0.512922</td>\n",
       "      <td>-1.093459</td>\n",
       "      <td>-0.279137</td>\n",
       "    </tr>\n",
       "  </tbody>\n",
       "</table>\n",
       "<p>303 rows × 14 columns</p>\n",
       "</div>"
      ],
      "text/plain": [
       "          age        cp  trestbps      chol       fbs   restecg   thalach  \\\n",
       "0    0.952197  1.973123  0.651692 -0.233167  2.394438 -1.005832  0.088724   \n",
       "1   -1.915313  1.002577  0.001145  0.083815 -0.417635  0.898962  1.347821   \n",
       "2   -1.474158  0.032031  0.001145 -0.773901 -0.417635 -1.005832  0.837376   \n",
       "3    0.180175  0.032031 -0.432553 -0.177229 -0.417635  0.898962  1.041554   \n",
       "4    0.290464 -0.938515 -5.636927  2.022999 -0.417635  0.898962  0.531110   \n",
       "..        ...       ...       ...       ...       ...       ...       ...   \n",
       "298  0.290464 -0.938515  0.434843 -0.083999 -0.417635  0.898962 -0.830076   \n",
       "299 -1.033002  1.973123 -0.866251  0.344859 -0.417635  0.898962 -0.523809   \n",
       "300  1.503641 -0.938515  0.608322 -0.979007  2.394438  0.898962 -0.217543   \n",
       "301  0.290464 -0.938515 -5.636927 -2.135059 -0.417635  0.898962 -1.102313   \n",
       "302  0.290464  0.032031  0.001145 -0.177229 -0.417635 -1.005832  0.905436   \n",
       "\n",
       "        exang   oldpeak     slope        ca      thal    target  Age by Chol  \n",
       "0   -0.696631  1.087338 -2.274579 -0.714429 -2.148873  0.914529    -0.279137  \n",
       "1   -0.696631  2.122573 -2.274579 -0.714429 -0.512922  0.914529    -1.002030  \n",
       "2   -0.696631  0.310912  0.976352 -0.714429 -0.512922  0.914529    -0.279137  \n",
       "3   -0.696631 -0.206705  0.976352 -0.714429 -0.512922  0.914529    -0.279137  \n",
       "4    1.435481 -0.379244  0.976352 -0.714429 -0.512922  0.914529     1.166649  \n",
       "..        ...       ...       ...       ...       ...       ...          ...  \n",
       "298  1.435481 -0.724323 -0.649113 -0.714429  1.123029 -1.093459    -1.002030  \n",
       "299 -0.696631  0.138373 -0.649113 -0.714429  1.123029 -1.093459    -1.002030  \n",
       "300 -0.696631  2.036303 -0.649113  1.244593  1.123029 -1.093459    -0.279137  \n",
       "301  1.435481  0.138373 -0.649113  0.265082  1.123029 -1.093459     1.889542  \n",
       "302 -0.696631 -0.896862 -0.649113  0.265082 -0.512922 -1.093459    -0.279137  \n",
       "\n",
       "[303 rows x 14 columns]"
      ]
     },
     "execution_count": 211,
     "metadata": {},
     "output_type": "execute_result"
    }
   ],
   "source": [
    "std=StandardScaler()\n",
    "feat=['age', 'cp', 'trestbps', 'chol', 'fbs', 'restecg', 'thalach',\n",
    "       'exang', 'oldpeak', 'slope', 'ca', 'thal', 'target', 'Age by Chol']\n",
    "df[feat]=std.fit_transform(df[feat])\n",
    "df[feat]"
   ]
  },
  {
   "cell_type": "code",
   "execution_count": null,
   "metadata": {},
   "outputs": [],
   "source": []
  }
 ],
 "metadata": {
  "kernelspec": {
   "display_name": "Python 3",
   "language": "python",
   "name": "python3"
  },
  "language_info": {
   "codemirror_mode": {
    "name": "ipython",
    "version": 3
   },
   "file_extension": ".py",
   "mimetype": "text/x-python",
   "name": "python",
   "nbconvert_exporter": "python",
   "pygments_lexer": "ipython3",
   "version": "3.7.6"
  }
 },
 "nbformat": 4,
 "nbformat_minor": 4
}
